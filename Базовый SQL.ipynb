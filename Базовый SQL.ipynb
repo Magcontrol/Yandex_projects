{
 "cells": [
  {
   "cell_type": "markdown",
   "id": "4a2928a7",
   "metadata": {},
   "source": [
    "# В самостоятельном проекте нам нужно проанализировать данные о фондах и инвестициях и написать запросы к базе."
   ]
  },
  {
   "cell_type": "markdown",
   "id": "b77850b9",
   "metadata": {},
   "source": [
    "## 1.Отобразите все записи из таблицы company по компаниям, которые закрылись."
   ]
  },
  {
   "cell_type": "code",
   "execution_count": null,
   "id": "12898050",
   "metadata": {},
   "outputs": [],
   "source": [
    "SELECT *\n",
    "FROM company\n",
    "WHERE status = 'closed';"
   ]
  },
  {
   "cell_type": "markdown",
   "id": "39c827ac",
   "metadata": {},
   "source": [
    "## 2.Отобразите количество привлечённых средств для новостных компаний США. Используйте данные из таблицы company. Отсортируйте таблицу по убыванию значений в поле funding_total."
   ]
  },
  {
   "cell_type": "code",
   "execution_count": null,
   "id": "b666c13c",
   "metadata": {},
   "outputs": [],
   "source": [
    "SELECT funding_total\n",
    "FROM company\n",
    "WHERE category_code = 'news' AND country_code = 'USA'\n",
    "ORDER BY funding_total DESC;"
   ]
  },
  {
   "cell_type": "markdown",
   "id": "9cdb5f39",
   "metadata": {},
   "source": [
    "## 3.Найдите общую сумму сделок по покупке одних компаний другими в долларах. Отберите сделки, которые осуществлялись только за наличные с 2011 по 2013 год включительно."
   ]
  },
  {
   "cell_type": "code",
   "execution_count": null,
   "id": "6682aa11",
   "metadata": {},
   "outputs": [],
   "source": [
    "SELECT SUM(price_amount)\n",
    "FROM acquisition\n",
    "WHERE term_code = 'cash' AND acquired_at BETWEEN '2011-01-01' AND '2013-12-31';"
   ]
  },
  {
   "cell_type": "markdown",
   "id": "acf2a5ee",
   "metadata": {},
   "source": [
    "## 4.Отобразите имя, фамилию и названия аккаунтов людей в поле network_username, у которых названия аккаунтов начинаются на 'Silver'."
   ]
  },
  {
   "cell_type": "code",
   "execution_count": null,
   "id": "7dde75ea",
   "metadata": {},
   "outputs": [],
   "source": [
    "SELECT first_name,\n",
    "last_name,\n",
    "network_username\n",
    "FROM people\n",
    "WHERE network_username LIKE 'Silver%';"
   ]
  },
  {
   "cell_type": "markdown",
   "id": "f76a3105",
   "metadata": {},
   "source": [
    "## 5.Выведите на экран всю информацию о людях, у которых названия аккаунтов в поле network_username содержат подстроку 'money', а фамилия начинается на 'K'."
   ]
  },
  {
   "cell_type": "code",
   "execution_count": null,
   "id": "42045c16",
   "metadata": {},
   "outputs": [],
   "source": [
    "SELECT *\n",
    "FROM people\n",
    "WHERE last_name LIKE 'K%' AND network_username LIKE '%money%';"
   ]
  },
  {
   "cell_type": "markdown",
   "id": "47402eb4",
   "metadata": {},
   "source": [
    "## 6. Для каждой страны отобразите общую сумму привлечённых инвестиций, которые получили компании, зарегистрированные в этой стране. Страну, в которой зарегистрирована компания, можно определить по коду страны. Отсортируйте данные по убыванию суммы."
   ]
  },
  {
   "cell_type": "code",
   "execution_count": null,
   "id": "1aa8e5aa",
   "metadata": {},
   "outputs": [],
   "source": [
    "SELECT country_code,\n",
    "SUM(funding_total)\n",
    "FROM company\n",
    "GROUP BY country_code\n",
    "ORDER BY SUM(funding_total) DESC;"
   ]
  },
  {
   "cell_type": "markdown",
   "id": "0228048b",
   "metadata": {},
   "source": [
    "## 7.Составьте таблицу, в которую войдёт дата проведения раунда, а также минимальное и максимальное значения суммы инвестиций, привлечённых в эту дату.Оставьте в итоговой таблице только те записи, в которых минимальное значение суммы инвестиций не равно нулю и не равно максимальному значению."
   ]
  },
  {
   "cell_type": "code",
   "execution_count": null,
   "id": "240b913c",
   "metadata": {},
   "outputs": [],
   "source": [
    "SELECT funded_at,\n",
    "MIN(raised_amount),\n",
    "MAX(raised_amount)\n",
    "FROM funding_round\n",
    "GROUP BY funded_at\n",
    "HAVING MIN(raised_amount) NOT IN (0, MAX(raised_amount));"
   ]
  },
  {
   "cell_type": "markdown",
   "id": "405e5f44",
   "metadata": {},
   "source": [
    "## 8.Создайте поле с категориями: Для фондов, которые инвестируют в 100 и более компаний, назначьте категорию high_activity.Для фондов, которые инвестируют в 20 и более компаний до 100, назначьте категорию middle_activity.Если количество инвестируемых компаний фонда не достигает 20, назначьте категорию low_activity.Отобразите все поля таблицы fund и новое поле с категориями."
   ]
  },
  {
   "cell_type": "code",
   "execution_count": null,
   "id": "1cd6541e",
   "metadata": {},
   "outputs": [],
   "source": [
    "SELECT *,\n",
    "      CASE\n",
    "          WHEN invested_companies > 100 THEN 'high_activity'\n",
    "          WHEN invested_companies >= 20 AND invested_companies < 100 THEN 'middle_activity'\n",
    "          ELSE  'low_activity'\n",
    "      END\n",
    "FROM fund"
   ]
  },
  {
   "cell_type": "markdown",
   "id": "25a55f98",
   "metadata": {},
   "source": [
    "## 9.Для каждой из категорий, назначенных в предыдущем задании, посчитайте округлённое до ближайшего целого числа среднее количество инвестиционных раундов, в которых фонд принимал участие. Выведите на экран категории и среднее число инвестиционных раундов. Отсортируйте таблицу по возрастанию среднего."
   ]
  },
  {
   "cell_type": "code",
   "execution_count": null,
   "id": "99d82a2f",
   "metadata": {},
   "outputs": [],
   "source": [
    "SELECT CASE\n",
    "           WHEN invested_companies>=100 THEN 'high_activity'\n",
    "           WHEN invested_companies>=20 THEN 'middle_activity'\n",
    "           ELSE 'low_activity'\n",
    "       END AS activity,\n",
    "       ROUND(AVG(investment_rounds))\n",
    "FROM fund\n",
    "GROUP BY activity\n",
    "ORDER BY ROUND(AVG(investment_rounds))"
   ]
  },
  {
   "cell_type": "markdown",
   "id": "5f4d6a13",
   "metadata": {},
   "source": [
    "## 10.Проанализируйте, в каких странах находятся фонды, которые чаще всего инвестируют в стартапы. Для каждой страны посчитайте минимальное, максимальное и среднее число компаний, в которые инвестировали фонды этой страны, основанные с 2010 по 2012 год включительно. Исключите страны с фондами, у которых минимальное число компаний, получивших инвестиции, равно нулю. Выгрузите десять самых активных стран-инвесторов: отсортируйте таблицу по среднему количеству компаний от большего к меньшему. Затем добавьте сортировку по коду страны в лексикографическом порядке."
   ]
  },
  {
   "cell_type": "code",
   "execution_count": null,
   "id": "535c0aa7",
   "metadata": {},
   "outputs": [],
   "source": [
    "SELECT country_code,\n",
    "       MIN(invested_companies),\n",
    "       MAX(invested_companies),\n",
    "       AVG(invested_companies)\n",
    "FROM \n",
    "(SELECT *\n",
    "FROM fund       \n",
    "WHERE EXTRACT (YEAR FROM founded_at) BETWEEN 2010 AND 2012) AS f\n",
    "GROUP BY country_code\n",
    "HAVING MIN(invested_companies) > 0\n",
    "ORDER BY AVG(invested_companies) DESC\n",
    "LIMIT 10;"
   ]
  },
  {
   "cell_type": "markdown",
   "id": "44195ebb",
   "metadata": {},
   "source": [
    "## 11. Отобразите имя и фамилию всех сотрудников стартапов. Добавьте поле с названием учебного заведения, которое окончил сотрудник, если эта информация известна."
   ]
  },
  {
   "cell_type": "code",
   "execution_count": null,
   "id": "27f8962c",
   "metadata": {},
   "outputs": [],
   "source": [
    "SELECT p.first_name,\n",
    "    p.last_name,\n",
    "    ed.instituition\n",
    "FROM people AS p\n",
    "LEFT JOIN education AS ed ON p.id=ed.person_id;"
   ]
  },
  {
   "cell_type": "markdown",
   "id": "d259ad3c",
   "metadata": {},
   "source": [
    "## 12.Для каждой компании найдите количество учебных заведений, которые окончили её сотрудники. Выведите название компании и число уникальных названий учебных заведений. Составьте топ-5 компаний по количеству университетов."
   ]
  },
  {
   "cell_type": "code",
   "execution_count": null,
   "id": "2cc1845b",
   "metadata": {},
   "outputs": [],
   "source": [
    "SELECT c.name,\n",
    "       COUNT(DISTINCT e.instituition)\n",
    "FROM company AS c\n",
    "INNER JOIN people AS p ON c.id=p.company_id\n",
    "INNER JOIN education AS e ON p.id=e.person_id\n",
    "GROUP BY c.name\n",
    "ORDER BY COUNT(DISTINCT e.instituition) DESC\n",
    "LIMIT 5"
   ]
  },
  {
   "cell_type": "markdown",
   "id": "892c6c7c",
   "metadata": {},
   "source": [
    "## 13.Составьте список с уникальными названиями закрытых компаний, для которых первый раунд финансирования оказался последним."
   ]
  },
  {
   "cell_type": "code",
   "execution_count": null,
   "id": "d12de558",
   "metadata": {},
   "outputs": [],
   "source": [
    "SELECT DISTINCT c.name\n",
    "FROM company AS c\n",
    "LEFT JOIN funding_round AS fr ON c.id=fr.company_id\n",
    "WHERE status LIKE '%closed%'\n",
    "AND is_first_round = 1\n",
    "AND is_last_round = 1"
   ]
  },
  {
   "cell_type": "markdown",
   "id": "09583999",
   "metadata": {},
   "source": [
    "## 14.Составьте список уникальных номеров сотрудников, которые работают в компаниях, отобранных в предыдущем задании."
   ]
  },
  {
   "cell_type": "code",
   "execution_count": null,
   "id": "1d2de882",
   "metadata": {},
   "outputs": [],
   "source": [
    "SELECT DISTINCT p.id\n",
    "FROM company AS com\n",
    "INNER JOIN funding_round AS fr ON com.id=fr.company_id\n",
    "INNER JOIN people AS p ON com.id=p.company_id\n",
    "WHERE STATUS LIKE '%closed%'\n",
    "  AND is_first_round = 1\n",
    "  AND is_last_round = 1"
   ]
  },
  {
   "cell_type": "markdown",
   "id": "ac2facb7",
   "metadata": {},
   "source": [
    "## 15.Составьте таблицу, куда войдут уникальные пары с номерами сотрудников из предыдущей задачи и учебным заведением, которое окончил сотрудник."
   ]
  },
  {
   "cell_type": "code",
   "execution_count": null,
   "id": "cbb59e15",
   "metadata": {},
   "outputs": [],
   "source": [
    "SELECT DISTINCT p.id,\n",
    "       ed.instituition\n",
    "FROM company AS com\n",
    "INNER JOIN funding_round AS fr ON com.id=fr.company_id\n",
    "INNER JOIN people AS p ON com.id=p.company_id\n",
    "INNER JOIN education AS ed ON p.id=ed.person_id\n",
    "WHERE STATUS LIKE '%closed%'\n",
    "  AND is_first_round = 1\n",
    "  AND is_last_round = 1"
   ]
  },
  {
   "cell_type": "markdown",
   "id": "2bcfa634",
   "metadata": {},
   "source": [
    "## 16.Посчитайте количество учебных заведений для каждого сотрудника из предыдущего задания. При подсчёте учитывайте, что некоторые сотрудники могли окончить одно и то же заведение дважды."
   ]
  },
  {
   "cell_type": "code",
   "execution_count": null,
   "id": "5b898dbb",
   "metadata": {},
   "outputs": [],
   "source": [
    "SELECT DISTINCT p.id,\n",
    "       COUNT(ed.instituition)\n",
    "FROM company AS com\n",
    "INNER JOIN people AS p ON com.id=p.company_id\n",
    "LEFT JOIN education AS ed ON p.id=ed.person_id\n",
    "WHERE STATUS LIKE '%closed%'\n",
    "  AND com.id IN (SELECT company_id\n",
    "                FROM funding_round\n",
    "                 WHERE is_first_round = 1\n",
    "                   AND is_last_round = 1)\n",
    "AND ed.instituition IS NOT NULL\n",
    "GROUP BY p.id"
   ]
  },
  {
   "cell_type": "markdown",
   "id": "3c0f47f2",
   "metadata": {},
   "source": [
    "## 17.Дополните предыдущий запрос и выведите среднее число учебных заведений (всех, не только уникальных), которые окончили сотрудники разных компаний. Нужно вывести только одну запись, группировка здесь не понадобится."
   ]
  },
  {
   "cell_type": "code",
   "execution_count": null,
   "id": "4e43624a",
   "metadata": {},
   "outputs": [],
   "source": [
    "WITH \n",
    "fr AS (SELECT company_id\n",
    "       FROM   funding_round\n",
    "       WHERE  is_first_round = 1\n",
    "       AND    is_last_round = 1), \n",
    "\n",
    "p AS (SELECT DISTINCT p.id\n",
    "      FROM   people AS p\n",
    "      WHERE  p.company_id IN (SELECT DISTINCT c.id\n",
    "                              FROM   company AS c\n",
    "                              JOIN   fr ON fr.company_id = c.id\n",
    "                              WHERE  c.status = 'closed')), \n",
    "pe AS (SELECT p.id,\n",
    "              COUNT(e.instituition)\n",
    "       FROM   education AS e\n",
    "       JOIN   p ON p.id = e.person_id\n",
    "       GROUP BY p.id) \n",
    "\n",
    "SELECT AVG(pe.count)\n",
    "FROM   pe;"
   ]
  },
  {
   "cell_type": "markdown",
   "id": "856ad173",
   "metadata": {},
   "source": [
    "## 18.Напишите похожий запрос: выведите среднее число учебных заведений (всех, не только уникальных), которые окончили сотрудники Socialnet."
   ]
  },
  {
   "cell_type": "code",
   "execution_count": null,
   "id": "868854ba",
   "metadata": {},
   "outputs": [],
   "source": [
    "SELECT AVG(fun.count_int)\n",
    "FROM (SELECT DISTINCT p.id,\n",
    "       COUNT(ed.instituition) AS count_int\n",
    "FROM company AS com\n",
    "INNER JOIN people AS p ON com.id=p.company_id\n",
    "LEFT JOIN education AS ed ON p.id=ed.person_id\n",
    "WHERE name LIKE 'Socialnet'\n",
    "      AND ed.instituition IS NOT NULL \n",
    "GROUP BY p.id) AS fun"
   ]
  },
  {
   "cell_type": "markdown",
   "id": "f8941e03",
   "metadata": {},
   "source": [
    "## 19.Составьте таблицу из полей:name_of_fund — название фонда;name_of_company — название компании;amount — сумма инвестиций, которую привлекла компания в раунде.В таблицу войдут данные о компаниях, в истории которых было больше шести важных этапов, а раунды финансирования проходили с 2012 по 2013 год включительно."
   ]
  },
  {
   "cell_type": "code",
   "execution_count": null,
   "id": "ec584cf1",
   "metadata": {},
   "outputs": [],
   "source": [
    "SELECT f.name AS name_of_fund,\n",
    "       com.name AS name_of_company,\n",
    "       fr.raised_amount AS amount\n",
    "FROM investment AS i\n",
    "INNER JOIN company AS com ON i.company_id=com.id\n",
    "INNER JOIN fund AS f ON i.fund_id=f.id\n",
    "INNER JOIN funding_round AS fr ON i.funding_round_id=fr.id\n",
    "WHERE com.milestones > 6\n",
    "   AND EXTRACT(YEAR FROM CAST (fr.funded_at AS TIMESTAMP)) BETWEEN 2012 AND 2013"
   ]
  },
  {
   "cell_type": "markdown",
   "id": "a0de727b",
   "metadata": {},
   "source": [
    "## 20.Выгрузите таблицу, в которой будут такие поля:название компании-покупателя;сумма сделки;название компании, которую купили;сумма инвестиций, вложенных в купленную компанию;доля, которая отображает, во сколько раз сумма покупки превысила сумму вложенных в компанию инвестиций, округлённая до ближайшего целого числа.Не учитывайте те сделки, в которых сумма покупки равна нулю. Если сумма инвестиций в компанию равна нулю, исключите такую компанию из таблицы. Отсортируйте таблицу по сумме сделки от большей к меньшей, а затем по названию купленной компании в лексикографическом порядке. Ограничьте таблицу первыми десятью записями."
   ]
  },
  {
   "cell_type": "code",
   "execution_count": null,
   "id": "b6a58bc0",
   "metadata": {},
   "outputs": [],
   "source": [
    "WITH acquiring AS\n",
    "(SELECT c.name AS buyer,\n",
    "a.price_amount AS price,\n",
    "a.id AS KEY\n",
    "FROM acquisition AS a\n",
    "LEFT JOIN company AS c ON a.acquiring_company_id = c.id\n",
    "WHERE a.price_amount > 0),\n",
    "acquired AS\n",
    "(SELECT c.name AS acquisition,\n",
    "c.funding_total AS investment,\n",
    "a.id AS KEY\n",
    "FROM acquisition AS a\n",
    "LEFT JOIN company AS c ON a.acquired_company_id = c.id\n",
    "WHERE c.funding_total > 0)\n",
    "SELECT acqn.buyer,\n",
    "acqn.price,\n",
    "acqd.acquisition,\n",
    "acqd.investment,\n",
    "ROUND(acqn.price / acqd.investment) AS uplift\n",
    "FROM acquiring AS acqn\n",
    "JOIN acquired AS acqd ON acqn.KEY = acqd.KEY\n",
    "ORDER BY price DESC, acquisition\n",
    "LIMIT 10;"
   ]
  },
  {
   "cell_type": "markdown",
   "id": "424445d4",
   "metadata": {},
   "source": [
    "## 21.Выгрузите таблицу, в которую войдут названия компаний из категории social, получившие финансирование с 2010 по 2013 год включительно. Проверьте, что сумма инвестиций не равна нулю. Выведите также номер месяца, в котором проходил раунд финансирования."
   ]
  },
  {
   "cell_type": "code",
   "execution_count": null,
   "id": "9e2c4568",
   "metadata": {},
   "outputs": [],
   "source": [
    "SELECT  c.name AS social_co,\n",
    "EXTRACT (MONTH FROM fr.funded_at) AS funding_month\n",
    "FROM company AS c\n",
    "LEFT JOIN funding_round AS fr ON c.id = fr.company_id\n",
    "WHERE c.category_code = 'social'\n",
    "AND fr.funded_at BETWEEN '2010-01-01' AND '2013-12-31'\n",
    "AND fr.raised_amount <> 0;"
   ]
  },
  {
   "cell_type": "markdown",
   "id": "907649aa",
   "metadata": {},
   "source": [
    "## 22.Отберите данные по месяцам с 2010 по 2013 год, когда проходили инвестиционные раунды. Сгруппируйте данные по номеру месяца и получите таблицу, в которой будут поля:номер месяца, в котором проходили раунды;количество уникальных названий фондов из США, которые инвестировали в этом месяце;количество компаний, купленных за этот месяц;общая сумма сделок по покупкам в этом месяце."
   ]
  },
  {
   "cell_type": "code",
   "execution_count": null,
   "id": "165d3a61",
   "metadata": {},
   "outputs": [],
   "source": [
    "WITH\n",
    "fundings AS (SELECT EXTRACT (MONTH FROM CAST(fr.funded_at AS DATE)) AS funding_month,\n",
    "      COUNT(DISTINCT f.id) AS id_fund\n",
    "FROM fund AS f     \n",
    "LEFT JOIN investment AS i ON f.id=i.fund_id\n",
    "LEFT JOIN funding_round AS fr ON i.funding_round_id=fr.id\n",
    "WHERE f.country_code = 'USA'\n",
    "  AND EXTRACT(YEAR FROM CAST (fr.funded_at AS DATE)) BETWEEN 2010 AND 2013\n",
    "GROUP BY funding_month),\n",
    " \n",
    "acquisitions AS (SELECT EXTRACT (MONTH FROM CAST(acquired_at AS DATE)) AS funding_month,\n",
    "      COUNT(acquired_company_id) AS acquired,\n",
    "      SUM(price_amount) AS sum_total\n",
    "FROM acquisition\n",
    "WHERE EXTRACT(YEAR FROM CAST (acquired_at AS DATE)) BETWEEN 2010 AND 2013\n",
    "GROUP BY funding_month) \n",
    "SELECT fnd.funding_month,\n",
    "       fnd.id_fund,\n",
    "       acq.acquired,\n",
    "       acq.sum_total\n",
    "FROM fundings AS fnd \n",
    "LEFT JOIN acquisitions AS acq ON fnd.funding_month=acq.funding_month"
   ]
  },
  {
   "cell_type": "markdown",
   "id": "48a0f111",
   "metadata": {},
   "source": [
    "## 23.Составьте сводную таблицу и выведите среднюю сумму инвестиций для стран, в которых есть стартапы, зарегистрированные в 2011, 2012 и 2013 годах. Данные за каждый год должны быть в отдельном поле. Отсортируйте таблицу по среднему значению инвестиций за 2011 год от большего к меньшему."
   ]
  },
  {
   "cell_type": "code",
   "execution_count": null,
   "id": "c7c5a7eb",
   "metadata": {},
   "outputs": [],
   "source": [
    "WITH y_11 AS\n",
    "(SELECT country_code AS country,\n",
    "AVG(funding_total) AS y_2011\n",
    "FROM company\n",
    "WHERE EXTRACT(YEAR FROM founded_at::DATE) IN(2011, 2012, 2013)\n",
    "GROUP BY country, EXTRACT(YEAR FROM founded_at)\n",
    "HAVING EXTRACT(YEAR FROM founded_at) = '2011'),\n",
    "y_12 AS\n",
    "(SELECT country_code AS country,\n",
    "AVG(funding_total) AS y_2012\n",
    "FROM company\n",
    "WHERE EXTRACT(YEAR FROM founded_at::DATE) IN(2011, 2012, 2013)\n",
    "GROUP BY country, EXTRACT(YEAR FROM founded_at)\n",
    "HAVING EXTRACT(YEAR FROM founded_at) = '2012'),\n",
    "y_13 AS\n",
    "(SELECT country_code AS country,\n",
    "AVG(funding_total) AS y_2013\n",
    "FROM company\n",
    "WHERE EXTRACT(YEAR FROM founded_at::DATE) IN(2011, 2012, 2013)\n",
    "GROUP BY country, EXTRACT(YEAR FROM founded_at)\n",
    "HAVING EXTRACT(YEAR FROM founded_at) = '2013')\n",
    "SELECT y_11.country, y_2011, y_2012, y_2013\n",
    "FROM y_11\n",
    "JOIN y_12 ON y_11.country = y_12.country\n",
    "JOIN y_13 ON y_12.country = y_13.country\n",
    "ORDER BY y_2011 DESC;"
   ]
  }
 ],
 "metadata": {
  "kernelspec": {
   "display_name": "Python 3 (ipykernel)",
   "language": "python",
   "name": "python3"
  },
  "language_info": {
   "codemirror_mode": {
    "name": "ipython",
    "version": 3
   },
   "file_extension": ".py",
   "mimetype": "text/x-python",
   "name": "python",
   "nbconvert_exporter": "python",
   "pygments_lexer": "ipython3",
   "version": "3.11.5"
  }
 },
 "nbformat": 4,
 "nbformat_minor": 5
}
