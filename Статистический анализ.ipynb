{
 "cells": [
  {
   "cell_type": "markdown",
   "id": "690c08a6",
   "metadata": {},
   "source": []
  },
  {
   "cell_type": "markdown",
   "id": "d35a91d0",
   "metadata": {},
   "source": [
    "\n",
    "## Исследование популярного сервиса аренды самокатов GoFast\n",
    "\n",
    "В нашем расположение данные о некоторых пользователях из нескольких городов, а также об их поездках.\n",
    "\n",
    "Пользователи делятся на пользователей с подпиской и без.\n",
    "\n",
    "### Цель исследования\n",
    "\n",
    "Рассчитать выручку пользователей с подпиской и без подписки\n",
    "\n",
    "Проверить несколько гипотез и сделать выводы\n",
    "\n",
    "#### Ход исследования\n",
    "Данные получим из 3 датасетов Пользователи — users_go.csv, Поездки — rides_go.csv, Подписки — subscriptions_go.csv\n",
    "О качестве данных ничего не известно поэтому перед тем как приступить к целям исследования нужен обзор данных.\n",
    "\n",
    "Я проверю данные на ошибки и если они есть оценю их влияние на исследование. Затем приступим к предобработке и попробуем исправить их, которые не приведут к искажению конечных результатов. Далее создадим нужные нам таблицы объединением их в одну\n",
    "и приступим к проведению исследовательского анализа.\n",
    "Подсчитаем выручку для различных пользователей\n",
    "\n",
    "После  перейдем к статистическому анализу для проверки гипотез. Затем сделаем выводы по ним.\n",
    "Таким образом моё исследование пройдет в 6 этапов\n",
    "Оброз данных\n",
    "\n",
    "Преобработка данных\n",
    "\n",
    "Объединение таблиц \n",
    "\n",
    "Подсчет выручки\n",
    "\n",
    "Проверка гипотез \n",
    "\n",
    "Написание выводов по полученым результатам\n",
    "\n",
    "Написание общего вывода\n"
   ]
  },
  {
   "cell_type": "markdown",
   "id": "6fe20f6f",
   "metadata": {},
   "source": [
    "## Исследование "
   ]
  },
  {
   "cell_type": "code",
   "execution_count": 1,
   "id": "72576667",
   "metadata": {},
   "outputs": [],
   "source": [
    "import pandas as pd\n",
    "import numpy as np\n",
    "import matplotlib.pyplot as plt\n",
    "from scipy import stats as st"
   ]
  },
  {
   "cell_type": "markdown",
   "id": "21932a4c",
   "metadata": {},
   "source": [
    "Загрузим данные"
   ]
  },
  {
   "cell_type": "markdown",
   "id": "c42cbe00",
   "metadata": {},
   "source": [
    "#### Шаг 1. Загрузка данных"
   ]
  },
  {
   "cell_type": "code",
   "execution_count": 2,
   "id": "eff9f206",
   "metadata": {},
   "outputs": [],
   "source": [
    "users = pd.read_csv('/datasets/users_go.csv')\n",
    "rides = pd.read_csv('/datasets/rides_go.csv')\n",
    "subscriptions = pd.read_csv('/datasets/subscriptions_go.csv')"
   ]
  },
  {
   "cell_type": "markdown",
   "id": "8cb76009",
   "metadata": {},
   "source": [
    "#### 1.1 Посмотрим общую информацию\n",
    "Сначала users и т.д\n"
   ]
  },
  {
   "cell_type": "code",
   "execution_count": 3,
   "id": "ef80b960",
   "metadata": {},
   "outputs": [
    {
     "data": {
      "text/html": [
       "<div>\n",
       "<style scoped>\n",
       "    .dataframe tbody tr th:only-of-type {\n",
       "        vertical-align: middle;\n",
       "    }\n",
       "\n",
       "    .dataframe tbody tr th {\n",
       "        vertical-align: top;\n",
       "    }\n",
       "\n",
       "    .dataframe thead th {\n",
       "        text-align: right;\n",
       "    }\n",
       "</style>\n",
       "<table border=\"1\" class=\"dataframe\">\n",
       "  <thead>\n",
       "    <tr style=\"text-align: right;\">\n",
       "      <th></th>\n",
       "      <th>user_id</th>\n",
       "      <th>name</th>\n",
       "      <th>age</th>\n",
       "      <th>city</th>\n",
       "      <th>subscription_type</th>\n",
       "    </tr>\n",
       "  </thead>\n",
       "  <tbody>\n",
       "    <tr>\n",
       "      <th>0</th>\n",
       "      <td>1</td>\n",
       "      <td>Кира</td>\n",
       "      <td>22</td>\n",
       "      <td>Тюмень</td>\n",
       "      <td>ultra</td>\n",
       "    </tr>\n",
       "    <tr>\n",
       "      <th>1</th>\n",
       "      <td>2</td>\n",
       "      <td>Станислав</td>\n",
       "      <td>31</td>\n",
       "      <td>Омск</td>\n",
       "      <td>ultra</td>\n",
       "    </tr>\n",
       "    <tr>\n",
       "      <th>2</th>\n",
       "      <td>3</td>\n",
       "      <td>Алексей</td>\n",
       "      <td>20</td>\n",
       "      <td>Москва</td>\n",
       "      <td>ultra</td>\n",
       "    </tr>\n",
       "    <tr>\n",
       "      <th>3</th>\n",
       "      <td>4</td>\n",
       "      <td>Константин</td>\n",
       "      <td>26</td>\n",
       "      <td>Ростов-на-Дону</td>\n",
       "      <td>ultra</td>\n",
       "    </tr>\n",
       "    <tr>\n",
       "      <th>4</th>\n",
       "      <td>5</td>\n",
       "      <td>Адель</td>\n",
       "      <td>28</td>\n",
       "      <td>Омск</td>\n",
       "      <td>ultra</td>\n",
       "    </tr>\n",
       "  </tbody>\n",
       "</table>\n",
       "</div>"
      ],
      "text/plain": [
       "   user_id        name  age            city subscription_type\n",
       "0        1        Кира   22          Тюмень             ultra\n",
       "1        2   Станислав   31            Омск             ultra\n",
       "2        3     Алексей   20          Москва             ultra\n",
       "3        4  Константин   26  Ростов-на-Дону             ultra\n",
       "4        5       Адель   28            Омск             ultra"
      ]
     },
     "execution_count": 3,
     "metadata": {},
     "output_type": "execute_result"
    }
   ],
   "source": [
    "users.head()"
   ]
  },
  {
   "cell_type": "markdown",
   "id": "316885a6",
   "metadata": {},
   "source": [
    "#### Шаг 2. Предобработка данных"
   ]
  },
  {
   "cell_type": "markdown",
   "id": "b1c08b2b",
   "metadata": {},
   "source": [
    "#### Проверим на дубликаты и общее число строк"
   ]
  },
  {
   "cell_type": "code",
   "execution_count": 4,
   "id": "ac63d3d2",
   "metadata": {},
   "outputs": [
    {
     "data": {
      "text/plain": [
       "1565"
      ]
     },
     "execution_count": 4,
     "metadata": {},
     "output_type": "execute_result"
    }
   ],
   "source": [
    "users.shape[0]"
   ]
  },
  {
   "cell_type": "code",
   "execution_count": 5,
   "id": "e0780e04",
   "metadata": {},
   "outputs": [
    {
     "data": {
      "text/plain": [
       "1565"
      ]
     },
     "execution_count": 5,
     "metadata": {},
     "output_type": "execute_result"
    }
   ],
   "source": [
    "users['user_id'].count()"
   ]
  },
  {
   "cell_type": "code",
   "execution_count": 6,
   "id": "1859ee68",
   "metadata": {},
   "outputs": [
    {
     "data": {
      "text/plain": [
       "31"
      ]
     },
     "execution_count": 6,
     "metadata": {},
     "output_type": "execute_result"
    }
   ],
   "source": [
    "users.duplicated().sum()"
   ]
  },
  {
   "cell_type": "code",
   "execution_count": 7,
   "id": "d815d570",
   "metadata": {},
   "outputs": [
    {
     "data": {
      "text/html": [
       "<div>\n",
       "<style scoped>\n",
       "    .dataframe tbody tr th:only-of-type {\n",
       "        vertical-align: middle;\n",
       "    }\n",
       "\n",
       "    .dataframe tbody tr th {\n",
       "        vertical-align: top;\n",
       "    }\n",
       "\n",
       "    .dataframe thead th {\n",
       "        text-align: right;\n",
       "    }\n",
       "</style>\n",
       "<table border=\"1\" class=\"dataframe\">\n",
       "  <thead>\n",
       "    <tr style=\"text-align: right;\">\n",
       "      <th></th>\n",
       "      <th>user_id</th>\n",
       "      <th>name</th>\n",
       "      <th>age</th>\n",
       "      <th>city</th>\n",
       "      <th>subscription_type</th>\n",
       "    </tr>\n",
       "  </thead>\n",
       "  <tbody>\n",
       "    <tr>\n",
       "      <th>1534</th>\n",
       "      <td>293</td>\n",
       "      <td>Агата</td>\n",
       "      <td>26</td>\n",
       "      <td>Краснодар</td>\n",
       "      <td>ultra</td>\n",
       "    </tr>\n",
       "    <tr>\n",
       "      <th>1535</th>\n",
       "      <td>16</td>\n",
       "      <td>Амалия</td>\n",
       "      <td>27</td>\n",
       "      <td>Краснодар</td>\n",
       "      <td>ultra</td>\n",
       "    </tr>\n",
       "    <tr>\n",
       "      <th>1536</th>\n",
       "      <td>909</td>\n",
       "      <td>Константин</td>\n",
       "      <td>20</td>\n",
       "      <td>Екатеринбург</td>\n",
       "      <td>free</td>\n",
       "    </tr>\n",
       "    <tr>\n",
       "      <th>1537</th>\n",
       "      <td>403</td>\n",
       "      <td>Полина</td>\n",
       "      <td>19</td>\n",
       "      <td>Сочи</td>\n",
       "      <td>ultra</td>\n",
       "    </tr>\n",
       "    <tr>\n",
       "      <th>1538</th>\n",
       "      <td>908</td>\n",
       "      <td>Рустам</td>\n",
       "      <td>30</td>\n",
       "      <td>Тюмень</td>\n",
       "      <td>free</td>\n",
       "    </tr>\n",
       "    <tr>\n",
       "      <th>1539</th>\n",
       "      <td>43</td>\n",
       "      <td>Стефания</td>\n",
       "      <td>22</td>\n",
       "      <td>Омск</td>\n",
       "      <td>ultra</td>\n",
       "    </tr>\n",
       "    <tr>\n",
       "      <th>1540</th>\n",
       "      <td>127</td>\n",
       "      <td>Павел</td>\n",
       "      <td>25</td>\n",
       "      <td>Пятигорск</td>\n",
       "      <td>ultra</td>\n",
       "    </tr>\n",
       "    <tr>\n",
       "      <th>1541</th>\n",
       "      <td>659</td>\n",
       "      <td>Злата</td>\n",
       "      <td>27</td>\n",
       "      <td>Ростов-на-Дону</td>\n",
       "      <td>ultra</td>\n",
       "    </tr>\n",
       "    <tr>\n",
       "      <th>1542</th>\n",
       "      <td>204</td>\n",
       "      <td>Руслан</td>\n",
       "      <td>30</td>\n",
       "      <td>Пятигорск</td>\n",
       "      <td>ultra</td>\n",
       "    </tr>\n",
       "    <tr>\n",
       "      <th>1543</th>\n",
       "      <td>153</td>\n",
       "      <td>Герман</td>\n",
       "      <td>23</td>\n",
       "      <td>Москва</td>\n",
       "      <td>ultra</td>\n",
       "    </tr>\n",
       "    <tr>\n",
       "      <th>1544</th>\n",
       "      <td>1245</td>\n",
       "      <td>Регина</td>\n",
       "      <td>27</td>\n",
       "      <td>Пятигорск</td>\n",
       "      <td>free</td>\n",
       "    </tr>\n",
       "    <tr>\n",
       "      <th>1545</th>\n",
       "      <td>807</td>\n",
       "      <td>Александр</td>\n",
       "      <td>28</td>\n",
       "      <td>Екатеринбург</td>\n",
       "      <td>free</td>\n",
       "    </tr>\n",
       "    <tr>\n",
       "      <th>1546</th>\n",
       "      <td>924</td>\n",
       "      <td>Мария</td>\n",
       "      <td>23</td>\n",
       "      <td>Пятигорск</td>\n",
       "      <td>free</td>\n",
       "    </tr>\n",
       "    <tr>\n",
       "      <th>1547</th>\n",
       "      <td>635</td>\n",
       "      <td>Герман</td>\n",
       "      <td>21</td>\n",
       "      <td>Москва</td>\n",
       "      <td>ultra</td>\n",
       "    </tr>\n",
       "    <tr>\n",
       "      <th>1548</th>\n",
       "      <td>136</td>\n",
       "      <td>Марсель</td>\n",
       "      <td>25</td>\n",
       "      <td>Тюмень</td>\n",
       "      <td>ultra</td>\n",
       "    </tr>\n",
       "    <tr>\n",
       "      <th>1549</th>\n",
       "      <td>108</td>\n",
       "      <td>Влада</td>\n",
       "      <td>29</td>\n",
       "      <td>Тюмень</td>\n",
       "      <td>ultra</td>\n",
       "    </tr>\n",
       "    <tr>\n",
       "      <th>1550</th>\n",
       "      <td>737</td>\n",
       "      <td>Мелания</td>\n",
       "      <td>27</td>\n",
       "      <td>Ростов-на-Дону</td>\n",
       "      <td>free</td>\n",
       "    </tr>\n",
       "    <tr>\n",
       "      <th>1551</th>\n",
       "      <td>666</td>\n",
       "      <td>Зарина</td>\n",
       "      <td>29</td>\n",
       "      <td>Москва</td>\n",
       "      <td>ultra</td>\n",
       "    </tr>\n",
       "    <tr>\n",
       "      <th>1552</th>\n",
       "      <td>297</td>\n",
       "      <td>Егор</td>\n",
       "      <td>33</td>\n",
       "      <td>Пятигорск</td>\n",
       "      <td>ultra</td>\n",
       "    </tr>\n",
       "    <tr>\n",
       "      <th>1553</th>\n",
       "      <td>121</td>\n",
       "      <td>Алина</td>\n",
       "      <td>25</td>\n",
       "      <td>Пятигорск</td>\n",
       "      <td>ultra</td>\n",
       "    </tr>\n",
       "    <tr>\n",
       "      <th>1554</th>\n",
       "      <td>1198</td>\n",
       "      <td>Демид</td>\n",
       "      <td>29</td>\n",
       "      <td>Ростов-на-Дону</td>\n",
       "      <td>free</td>\n",
       "    </tr>\n",
       "    <tr>\n",
       "      <th>1555</th>\n",
       "      <td>72</td>\n",
       "      <td>Никита</td>\n",
       "      <td>25</td>\n",
       "      <td>Москва</td>\n",
       "      <td>ultra</td>\n",
       "    </tr>\n",
       "    <tr>\n",
       "      <th>1556</th>\n",
       "      <td>422</td>\n",
       "      <td>Кирилл</td>\n",
       "      <td>27</td>\n",
       "      <td>Сочи</td>\n",
       "      <td>ultra</td>\n",
       "    </tr>\n",
       "    <tr>\n",
       "      <th>1557</th>\n",
       "      <td>611</td>\n",
       "      <td>Владимир</td>\n",
       "      <td>28</td>\n",
       "      <td>Омск</td>\n",
       "      <td>ultra</td>\n",
       "    </tr>\n",
       "    <tr>\n",
       "      <th>1558</th>\n",
       "      <td>1237</td>\n",
       "      <td>Евгения</td>\n",
       "      <td>23</td>\n",
       "      <td>Тюмень</td>\n",
       "      <td>free</td>\n",
       "    </tr>\n",
       "    <tr>\n",
       "      <th>1559</th>\n",
       "      <td>209</td>\n",
       "      <td>Андрей</td>\n",
       "      <td>23</td>\n",
       "      <td>Омск</td>\n",
       "      <td>ultra</td>\n",
       "    </tr>\n",
       "    <tr>\n",
       "      <th>1560</th>\n",
       "      <td>829</td>\n",
       "      <td>Федор</td>\n",
       "      <td>29</td>\n",
       "      <td>Пятигорск</td>\n",
       "      <td>free</td>\n",
       "    </tr>\n",
       "    <tr>\n",
       "      <th>1561</th>\n",
       "      <td>809</td>\n",
       "      <td>Юрий</td>\n",
       "      <td>26</td>\n",
       "      <td>Сочи</td>\n",
       "      <td>free</td>\n",
       "    </tr>\n",
       "    <tr>\n",
       "      <th>1562</th>\n",
       "      <td>307</td>\n",
       "      <td>Ясмина</td>\n",
       "      <td>19</td>\n",
       "      <td>Краснодар</td>\n",
       "      <td>ultra</td>\n",
       "    </tr>\n",
       "    <tr>\n",
       "      <th>1563</th>\n",
       "      <td>47</td>\n",
       "      <td>Юрий</td>\n",
       "      <td>28</td>\n",
       "      <td>Тюмень</td>\n",
       "      <td>ultra</td>\n",
       "    </tr>\n",
       "    <tr>\n",
       "      <th>1564</th>\n",
       "      <td>1045</td>\n",
       "      <td>Артемий</td>\n",
       "      <td>28</td>\n",
       "      <td>Ростов-на-Дону</td>\n",
       "      <td>free</td>\n",
       "    </tr>\n",
       "  </tbody>\n",
       "</table>\n",
       "</div>"
      ],
      "text/plain": [
       "      user_id        name  age            city subscription_type\n",
       "1534      293       Агата   26       Краснодар             ultra\n",
       "1535       16      Амалия   27       Краснодар             ultra\n",
       "1536      909  Константин   20    Екатеринбург              free\n",
       "1537      403      Полина   19            Сочи             ultra\n",
       "1538      908      Рустам   30          Тюмень              free\n",
       "1539       43    Стефания   22            Омск             ultra\n",
       "1540      127       Павел   25       Пятигорск             ultra\n",
       "1541      659       Злата   27  Ростов-на-Дону             ultra\n",
       "1542      204      Руслан   30       Пятигорск             ultra\n",
       "1543      153      Герман   23          Москва             ultra\n",
       "1544     1245      Регина   27       Пятигорск              free\n",
       "1545      807   Александр   28    Екатеринбург              free\n",
       "1546      924       Мария   23       Пятигорск              free\n",
       "1547      635      Герман   21          Москва             ultra\n",
       "1548      136     Марсель   25          Тюмень             ultra\n",
       "1549      108       Влада   29          Тюмень             ultra\n",
       "1550      737     Мелания   27  Ростов-на-Дону              free\n",
       "1551      666      Зарина   29          Москва             ultra\n",
       "1552      297        Егор   33       Пятигорск             ultra\n",
       "1553      121       Алина   25       Пятигорск             ultra\n",
       "1554     1198       Демид   29  Ростов-на-Дону              free\n",
       "1555       72      Никита   25          Москва             ultra\n",
       "1556      422      Кирилл   27            Сочи             ultra\n",
       "1557      611    Владимир   28            Омск             ultra\n",
       "1558     1237     Евгения   23          Тюмень              free\n",
       "1559      209      Андрей   23            Омск             ultra\n",
       "1560      829       Федор   29       Пятигорск              free\n",
       "1561      809        Юрий   26            Сочи              free\n",
       "1562      307      Ясмина   19       Краснодар             ultra\n",
       "1563       47        Юрий   28          Тюмень             ultra\n",
       "1564     1045     Артемий   28  Ростов-на-Дону              free"
      ]
     },
     "execution_count": 7,
     "metadata": {},
     "output_type": "execute_result"
    }
   ],
   "source": [
    "duplicate_values = users[users.duplicated(keep='first')]\n",
    "duplicate_values"
   ]
  },
  {
   "cell_type": "markdown",
   "id": "fae78b6e",
   "metadata": {},
   "source": [
    "Найден 31 дубликат, проверим на типы данных, попробуем от них избавиться"
   ]
  },
  {
   "cell_type": "code",
   "execution_count": 8,
   "id": "cd3c641a",
   "metadata": {},
   "outputs": [],
   "source": [
    "users = users.drop_duplicates()"
   ]
  },
  {
   "cell_type": "markdown",
   "id": "fc24c605",
   "metadata": {},
   "source": [
    "Снова проверим на уникальность"
   ]
  },
  {
   "cell_type": "code",
   "execution_count": 9,
   "id": "9d367cd4",
   "metadata": {},
   "outputs": [
    {
     "name": "stdout",
     "output_type": "stream",
     "text": [
      "Число строк 1534\n",
      "Число уникальных пользователей 1534\n",
      "Кол-во дубликатов 0\n"
     ]
    }
   ],
   "source": [
    "print('Число строк', users.shape[0])\n",
    "print('Число уникальных пользователей', users['user_id'].count())\n",
    "print('Кол-во дубликатов', users.duplicated().sum())"
   ]
  },
  {
   "cell_type": "markdown",
   "id": "896e62fe",
   "metadata": {},
   "source": [
    "Дубликаты удалены идём дальше"
   ]
  },
  {
   "cell_type": "code",
   "execution_count": 10,
   "id": "9b0c6889",
   "metadata": {},
   "outputs": [
    {
     "name": "stdout",
     "output_type": "stream",
     "text": [
      "<class 'pandas.core.frame.DataFrame'>\n",
      "Int64Index: 1534 entries, 0 to 1533\n",
      "Data columns (total 5 columns):\n",
      " #   Column             Non-Null Count  Dtype \n",
      "---  ------             --------------  ----- \n",
      " 0   user_id            1534 non-null   int64 \n",
      " 1   name               1534 non-null   object\n",
      " 2   age                1534 non-null   int64 \n",
      " 3   city               1534 non-null   object\n",
      " 4   subscription_type  1534 non-null   object\n",
      "dtypes: int64(2), object(3)\n",
      "memory usage: 71.9+ KB\n"
     ]
    }
   ],
   "source": [
    "users.info()"
   ]
  },
  {
   "cell_type": "markdown",
   "id": "ed8d783a",
   "metadata": {},
   "source": [
    "C типами все в порядке, проверим оставшиеся датасеты"
   ]
  },
  {
   "cell_type": "code",
   "execution_count": 11,
   "id": "d2a7e69d",
   "metadata": {},
   "outputs": [
    {
     "data": {
      "text/html": [
       "<div>\n",
       "<style scoped>\n",
       "    .dataframe tbody tr th:only-of-type {\n",
       "        vertical-align: middle;\n",
       "    }\n",
       "\n",
       "    .dataframe tbody tr th {\n",
       "        vertical-align: top;\n",
       "    }\n",
       "\n",
       "    .dataframe thead th {\n",
       "        text-align: right;\n",
       "    }\n",
       "</style>\n",
       "<table border=\"1\" class=\"dataframe\">\n",
       "  <thead>\n",
       "    <tr style=\"text-align: right;\">\n",
       "      <th></th>\n",
       "      <th>user_id</th>\n",
       "      <th>distance</th>\n",
       "      <th>duration</th>\n",
       "      <th>date</th>\n",
       "    </tr>\n",
       "  </thead>\n",
       "  <tbody>\n",
       "    <tr>\n",
       "      <th>0</th>\n",
       "      <td>1</td>\n",
       "      <td>4409.919140</td>\n",
       "      <td>25.599769</td>\n",
       "      <td>2021-01-01</td>\n",
       "    </tr>\n",
       "    <tr>\n",
       "      <th>1</th>\n",
       "      <td>1</td>\n",
       "      <td>2617.592153</td>\n",
       "      <td>15.816871</td>\n",
       "      <td>2021-01-18</td>\n",
       "    </tr>\n",
       "    <tr>\n",
       "      <th>2</th>\n",
       "      <td>1</td>\n",
       "      <td>754.159807</td>\n",
       "      <td>6.232113</td>\n",
       "      <td>2021-04-20</td>\n",
       "    </tr>\n",
       "    <tr>\n",
       "      <th>3</th>\n",
       "      <td>1</td>\n",
       "      <td>2694.783254</td>\n",
       "      <td>18.511000</td>\n",
       "      <td>2021-08-11</td>\n",
       "    </tr>\n",
       "    <tr>\n",
       "      <th>4</th>\n",
       "      <td>1</td>\n",
       "      <td>4028.687306</td>\n",
       "      <td>26.265803</td>\n",
       "      <td>2021-08-28</td>\n",
       "    </tr>\n",
       "  </tbody>\n",
       "</table>\n",
       "</div>"
      ],
      "text/plain": [
       "   user_id     distance   duration        date\n",
       "0        1  4409.919140  25.599769  2021-01-01\n",
       "1        1  2617.592153  15.816871  2021-01-18\n",
       "2        1   754.159807   6.232113  2021-04-20\n",
       "3        1  2694.783254  18.511000  2021-08-11\n",
       "4        1  4028.687306  26.265803  2021-08-28"
      ]
     },
     "execution_count": 11,
     "metadata": {},
     "output_type": "execute_result"
    }
   ],
   "source": [
    "rides.head()"
   ]
  },
  {
   "cell_type": "code",
   "execution_count": 12,
   "id": "d2601cf3",
   "metadata": {},
   "outputs": [
    {
     "name": "stdout",
     "output_type": "stream",
     "text": [
      "Число строк 18068\n",
      "Число уникальных пользователей 18068\n",
      "Кол-во дубликатов 0\n"
     ]
    }
   ],
   "source": [
    "print('Число строк', rides.shape[0])\n",
    "print('Число уникальных пользователей', rides['user_id'].count())\n",
    "print('Кол-во дубликатов', rides.duplicated().sum())"
   ]
  },
  {
   "cell_type": "markdown",
   "id": "a1f93b70",
   "metadata": {},
   "source": [
    "Все строки уникальны, переходим к типам данных"
   ]
  },
  {
   "cell_type": "code",
   "execution_count": 13,
   "id": "856f9290",
   "metadata": {},
   "outputs": [
    {
     "name": "stdout",
     "output_type": "stream",
     "text": [
      "<class 'pandas.core.frame.DataFrame'>\n",
      "RangeIndex: 18068 entries, 0 to 18067\n",
      "Data columns (total 4 columns):\n",
      " #   Column    Non-Null Count  Dtype  \n",
      "---  ------    --------------  -----  \n",
      " 0   user_id   18068 non-null  int64  \n",
      " 1   distance  18068 non-null  float64\n",
      " 2   duration  18068 non-null  float64\n",
      " 3   date      18068 non-null  object \n",
      "dtypes: float64(2), int64(1), object(1)\n",
      "memory usage: 564.8+ KB\n"
     ]
    }
   ],
   "source": [
    "rides.info()"
   ]
  },
  {
   "cell_type": "markdown",
   "id": "19199e8d",
   "metadata": {},
   "source": [
    "Date в datetime, дистанцию в км и два знака после запятой, duration оставим в минутах, но оставим два знака после запятой"
   ]
  },
  {
   "cell_type": "code",
   "execution_count": 14,
   "id": "70955626",
   "metadata": {},
   "outputs": [
    {
     "name": "stdout",
     "output_type": "stream",
     "text": [
      "<class 'pandas.core.frame.DataFrame'>\n",
      "RangeIndex: 18068 entries, 0 to 18067\n",
      "Data columns (total 4 columns):\n",
      " #   Column    Non-Null Count  Dtype         \n",
      "---  ------    --------------  -----         \n",
      " 0   user_id   18068 non-null  int64         \n",
      " 1   distance  18068 non-null  float64       \n",
      " 2   duration  18068 non-null  float64       \n",
      " 3   date      18068 non-null  datetime64[ns]\n",
      "dtypes: datetime64[ns](1), float64(2), int64(1)\n",
      "memory usage: 564.8 KB\n"
     ]
    }
   ],
   "source": [
    "rides['date'] = pd.to_datetime(rides['date'])\n",
    "rides['distance'] = (rides['distance']).round(2)\n",
    "rides['duration'] = rides['duration'].round(2)\n",
    "rides.info()"
   ]
  },
  {
   "cell_type": "markdown",
   "id": "929c7804",
   "metadata": {},
   "source": [
    "Замены произведены"
   ]
  },
  {
   "cell_type": "code",
   "execution_count": 15,
   "id": "739fdcb9",
   "metadata": {},
   "outputs": [
    {
     "data": {
      "text/html": [
       "<div>\n",
       "<style scoped>\n",
       "    .dataframe tbody tr th:only-of-type {\n",
       "        vertical-align: middle;\n",
       "    }\n",
       "\n",
       "    .dataframe tbody tr th {\n",
       "        vertical-align: top;\n",
       "    }\n",
       "\n",
       "    .dataframe thead th {\n",
       "        text-align: right;\n",
       "    }\n",
       "</style>\n",
       "<table border=\"1\" class=\"dataframe\">\n",
       "  <thead>\n",
       "    <tr style=\"text-align: right;\">\n",
       "      <th></th>\n",
       "      <th>user_id</th>\n",
       "      <th>distance</th>\n",
       "      <th>duration</th>\n",
       "      <th>date</th>\n",
       "    </tr>\n",
       "  </thead>\n",
       "  <tbody>\n",
       "    <tr>\n",
       "      <th>0</th>\n",
       "      <td>1</td>\n",
       "      <td>4409.92</td>\n",
       "      <td>25.60</td>\n",
       "      <td>2021-01-01</td>\n",
       "    </tr>\n",
       "    <tr>\n",
       "      <th>1</th>\n",
       "      <td>1</td>\n",
       "      <td>2617.59</td>\n",
       "      <td>15.82</td>\n",
       "      <td>2021-01-18</td>\n",
       "    </tr>\n",
       "    <tr>\n",
       "      <th>2</th>\n",
       "      <td>1</td>\n",
       "      <td>754.16</td>\n",
       "      <td>6.23</td>\n",
       "      <td>2021-04-20</td>\n",
       "    </tr>\n",
       "    <tr>\n",
       "      <th>3</th>\n",
       "      <td>1</td>\n",
       "      <td>2694.78</td>\n",
       "      <td>18.51</td>\n",
       "      <td>2021-08-11</td>\n",
       "    </tr>\n",
       "    <tr>\n",
       "      <th>4</th>\n",
       "      <td>1</td>\n",
       "      <td>4028.69</td>\n",
       "      <td>26.27</td>\n",
       "      <td>2021-08-28</td>\n",
       "    </tr>\n",
       "  </tbody>\n",
       "</table>\n",
       "</div>"
      ],
      "text/plain": [
       "   user_id  distance  duration       date\n",
       "0        1   4409.92     25.60 2021-01-01\n",
       "1        1   2617.59     15.82 2021-01-18\n",
       "2        1    754.16      6.23 2021-04-20\n",
       "3        1   2694.78     18.51 2021-08-11\n",
       "4        1   4028.69     26.27 2021-08-28"
      ]
     },
     "execution_count": 15,
     "metadata": {},
     "output_type": "execute_result"
    }
   ],
   "source": [
    "rides.head()"
   ]
  },
  {
   "cell_type": "markdown",
   "id": "e0f4d9e9",
   "metadata": {},
   "source": [
    "Создадим столбец с месяцем"
   ]
  },
  {
   "cell_type": "code",
   "execution_count": 16,
   "id": "3a6f7fe6",
   "metadata": {},
   "outputs": [
    {
     "data": {
      "text/html": [
       "<div>\n",
       "<style scoped>\n",
       "    .dataframe tbody tr th:only-of-type {\n",
       "        vertical-align: middle;\n",
       "    }\n",
       "\n",
       "    .dataframe tbody tr th {\n",
       "        vertical-align: top;\n",
       "    }\n",
       "\n",
       "    .dataframe thead th {\n",
       "        text-align: right;\n",
       "    }\n",
       "</style>\n",
       "<table border=\"1\" class=\"dataframe\">\n",
       "  <thead>\n",
       "    <tr style=\"text-align: right;\">\n",
       "      <th></th>\n",
       "      <th>year</th>\n",
       "    </tr>\n",
       "    <tr>\n",
       "      <th>month</th>\n",
       "      <th></th>\n",
       "    </tr>\n",
       "  </thead>\n",
       "  <tbody>\n",
       "    <tr>\n",
       "      <th>April</th>\n",
       "      <td>2021</td>\n",
       "    </tr>\n",
       "    <tr>\n",
       "      <th>August</th>\n",
       "      <td>2021</td>\n",
       "    </tr>\n",
       "    <tr>\n",
       "      <th>December</th>\n",
       "      <td>2021</td>\n",
       "    </tr>\n",
       "    <tr>\n",
       "      <th>February</th>\n",
       "      <td>2021</td>\n",
       "    </tr>\n",
       "    <tr>\n",
       "      <th>January</th>\n",
       "      <td>2021</td>\n",
       "    </tr>\n",
       "    <tr>\n",
       "      <th>July</th>\n",
       "      <td>2021</td>\n",
       "    </tr>\n",
       "    <tr>\n",
       "      <th>June</th>\n",
       "      <td>2021</td>\n",
       "    </tr>\n",
       "    <tr>\n",
       "      <th>March</th>\n",
       "      <td>2021</td>\n",
       "    </tr>\n",
       "    <tr>\n",
       "      <th>May</th>\n",
       "      <td>2021</td>\n",
       "    </tr>\n",
       "    <tr>\n",
       "      <th>November</th>\n",
       "      <td>2021</td>\n",
       "    </tr>\n",
       "    <tr>\n",
       "      <th>October</th>\n",
       "      <td>2021</td>\n",
       "    </tr>\n",
       "    <tr>\n",
       "      <th>September</th>\n",
       "      <td>2021</td>\n",
       "    </tr>\n",
       "  </tbody>\n",
       "</table>\n",
       "</div>"
      ],
      "text/plain": [
       "           year\n",
       "month          \n",
       "April      2021\n",
       "August     2021\n",
       "December   2021\n",
       "February   2021\n",
       "January    2021\n",
       "July       2021\n",
       "June       2021\n",
       "March      2021\n",
       "May        2021\n",
       "November   2021\n",
       "October    2021\n",
       "September  2021"
      ]
     },
     "execution_count": 16,
     "metadata": {},
     "output_type": "execute_result"
    }
   ],
   "source": [
    "rides['month'] = rides['date'].dt.month_name()\n",
    "rides['year'] = rides['date'].dt.year\n",
    "data_2022 = rides.pivot_table(index = 'month', values = 'year')\n",
    "data_2022"
   ]
  },
  {
   "cell_type": "markdown",
   "id": "e95ebca7",
   "metadata": {},
   "source": [
    "Данные предоставлены за 2021 год."
   ]
  },
  {
   "cell_type": "markdown",
   "id": "df9b5dad",
   "metadata": {},
   "source": [
    "Переходим к 3 датасету"
   ]
  },
  {
   "cell_type": "code",
   "execution_count": 17,
   "id": "af6d202c",
   "metadata": {},
   "outputs": [
    {
     "data": {
      "text/html": [
       "<div>\n",
       "<style scoped>\n",
       "    .dataframe tbody tr th:only-of-type {\n",
       "        vertical-align: middle;\n",
       "    }\n",
       "\n",
       "    .dataframe tbody tr th {\n",
       "        vertical-align: top;\n",
       "    }\n",
       "\n",
       "    .dataframe thead th {\n",
       "        text-align: right;\n",
       "    }\n",
       "</style>\n",
       "<table border=\"1\" class=\"dataframe\">\n",
       "  <thead>\n",
       "    <tr style=\"text-align: right;\">\n",
       "      <th></th>\n",
       "      <th>subscription_type</th>\n",
       "      <th>minute_price</th>\n",
       "      <th>start_ride_price</th>\n",
       "      <th>subscription_fee</th>\n",
       "    </tr>\n",
       "  </thead>\n",
       "  <tbody>\n",
       "    <tr>\n",
       "      <th>0</th>\n",
       "      <td>free</td>\n",
       "      <td>8</td>\n",
       "      <td>50</td>\n",
       "      <td>0</td>\n",
       "    </tr>\n",
       "    <tr>\n",
       "      <th>1</th>\n",
       "      <td>ultra</td>\n",
       "      <td>6</td>\n",
       "      <td>0</td>\n",
       "      <td>199</td>\n",
       "    </tr>\n",
       "  </tbody>\n",
       "</table>\n",
       "</div>"
      ],
      "text/plain": [
       "  subscription_type  minute_price  start_ride_price  subscription_fee\n",
       "0              free             8                50                 0\n",
       "1             ultra             6                 0               199"
      ]
     },
     "execution_count": 17,
     "metadata": {},
     "output_type": "execute_result"
    }
   ],
   "source": [
    "subscriptions.head()"
   ]
  },
  {
   "cell_type": "markdown",
   "id": "0229f809",
   "metadata": {},
   "source": [
    "Тут 2 строки оставляем без изменений"
   ]
  },
  {
   "cell_type": "code",
   "execution_count": 18,
   "id": "bf241cc8",
   "metadata": {},
   "outputs": [
    {
     "data": {
      "text/html": [
       "<div>\n",
       "<style scoped>\n",
       "    .dataframe tbody tr th:only-of-type {\n",
       "        vertical-align: middle;\n",
       "    }\n",
       "\n",
       "    .dataframe tbody tr th {\n",
       "        vertical-align: top;\n",
       "    }\n",
       "\n",
       "    .dataframe thead th {\n",
       "        text-align: right;\n",
       "    }\n",
       "</style>\n",
       "<table border=\"1\" class=\"dataframe\">\n",
       "  <thead>\n",
       "    <tr style=\"text-align: right;\">\n",
       "      <th></th>\n",
       "      <th>subscription_type</th>\n",
       "      <th>minute_price</th>\n",
       "      <th>start_ride_price</th>\n",
       "      <th>subscription_fee</th>\n",
       "    </tr>\n",
       "  </thead>\n",
       "  <tbody>\n",
       "    <tr>\n",
       "      <th>0</th>\n",
       "      <td>free</td>\n",
       "      <td>8</td>\n",
       "      <td>50</td>\n",
       "      <td>0</td>\n",
       "    </tr>\n",
       "    <tr>\n",
       "      <th>1</th>\n",
       "      <td>ultra</td>\n",
       "      <td>6</td>\n",
       "      <td>0</td>\n",
       "      <td>199</td>\n",
       "    </tr>\n",
       "  </tbody>\n",
       "</table>\n",
       "</div>"
      ],
      "text/plain": [
       "  subscription_type  minute_price  start_ride_price  subscription_fee\n",
       "0              free             8                50                 0\n",
       "1             ultra             6                 0               199"
      ]
     },
     "execution_count": 18,
     "metadata": {},
     "output_type": "execute_result"
    }
   ],
   "source": [
    "subscriptions"
   ]
  },
  {
   "cell_type": "code",
   "execution_count": 19,
   "id": "ff387116",
   "metadata": {},
   "outputs": [
    {
     "name": "stdout",
     "output_type": "stream",
     "text": [
      "Число строк 2\n",
      "Кол-во дубликатов 0\n"
     ]
    }
   ],
   "source": [
    "print('Число строк', subscriptions.shape[0])\n",
    "print('Кол-во дубликатов', subscriptions.duplicated().sum())"
   ]
  },
  {
   "cell_type": "markdown",
   "id": "f3222f78",
   "metadata": {},
   "source": [
    "Пропусков нет, типы данных корректны, дубликатов нет."
   ]
  },
  {
   "cell_type": "code",
   "execution_count": 20,
   "id": "f7bcad51",
   "metadata": {},
   "outputs": [
    {
     "name": "stdout",
     "output_type": "stream",
     "text": [
      "<class 'pandas.core.frame.DataFrame'>\n",
      "RangeIndex: 2 entries, 0 to 1\n",
      "Data columns (total 4 columns):\n",
      " #   Column             Non-Null Count  Dtype \n",
      "---  ------             --------------  ----- \n",
      " 0   subscription_type  2 non-null      object\n",
      " 1   minute_price       2 non-null      int64 \n",
      " 2   start_ride_price   2 non-null      int64 \n",
      " 3   subscription_fee   2 non-null      int64 \n",
      "dtypes: int64(3), object(1)\n",
      "memory usage: 192.0+ bytes\n"
     ]
    }
   ],
   "source": [
    "subscriptions.info()"
   ]
  },
  {
   "cell_type": "markdown",
   "id": "212593c7",
   "metadata": {},
   "source": [
    "#### Шаг 3. Исследовательский анализ данных"
   ]
  },
  {
   "cell_type": "markdown",
   "id": "0ba97c1c",
   "metadata": {},
   "source": [
    "##### Шаг 3.1. частота встречаемости городов"
   ]
  },
  {
   "cell_type": "code",
   "execution_count": 21,
   "id": "e3a4274c",
   "metadata": {},
   "outputs": [
    {
     "data": {
      "image/png": "[encoded data removed]",
      "text/plain": [
       "<Figure size 432x288 with 1 Axes>"
      ]
     },
     "metadata": {
      "needs_background": "light"
     },
     "output_type": "display_data"
    }
   ],
   "source": [
    "city_counts = users['city'].value_counts()\n",
    "plt.bar(city_counts.index, city_counts)\n",
    "plt.xlabel('Город')\n",
    "plt.ylabel('Количество пользователей')\n",
    "plt.title('Количество пользователей в каждом городе')\n",
    "plt.xticks(rotation=45)\n",
    "plt.show()"
   ]
  },
  {
   "cell_type": "markdown",
   "id": "b6d05991",
   "metadata": {},
   "source": []
  },
  {
   "cell_type": "code",
   "execution_count": 22,
   "id": "4ac62f5b",
   "metadata": {},
   "outputs": [
    {
     "data": {
      "image/png": "[encoded data removed]",
      "text/plain": [
       "<Figure size 1080x720 with 1 Axes>"
      ]
     },
     "metadata": {
      "needs_background": "light"
     },
     "output_type": "display_data"
    }
   ],
   "source": [
    "all_users = len(users)\n",
    "df_for_barh = users.groupby('city').size()/all_users\n",
    "df_for_barh_filtered = df_for_barh[df_for_barh > 0.015].sort_values()\n",
    "ax = df_for_barh_filtered.plot(kind='barh', color='#86bf91', figsize=(15,10))\n",
    "\n",
    "labels = dict(df_for_barh_filtered)\n",
    "labels\n",
    "\n",
    "i = 0\n",
    "for city in labels:\n",
    "    ax.text(labels[city] + 0.0005, i + 0.05, str(round(labels[city]*100, 2)) + '%', \n",
    "            fontsize = 'large', fontweight='bold', color='blue')\n",
    "    if i < 9.7:\n",
    "        i += 0.98\n",
    "    else:\n",
    "        i += 1.02"
   ]
  },
  {
   "cell_type": "markdown",
   "id": "6b534ab5",
   "metadata": {},
   "source": [
    "В Пятигорске больше всего пользователей, в Москве меньше всего"
   ]
  },
  {
   "cell_type": "markdown",
   "id": "9f52a4ba",
   "metadata": {},
   "source": [
    "##### Шаг 3.2. соотношение пользователей с подпиской и без подписки"
   ]
  },
  {
   "cell_type": "code",
   "execution_count": 23,
   "id": "783f5305",
   "metadata": {},
   "outputs": [
    {
     "data": {
      "image/png": "[encoded data removed]",
      "text/plain": [
       "<Figure size 432x288 with 1 Axes>"
      ]
     },
     "metadata": {},
     "output_type": "display_data"
    }
   ],
   "source": [
    "subscription_counts = users['subscription_type'].value_counts()\n",
    "plt.pie(subscription_counts, labels=subscription_counts.index, autopct='%1.1f%%')\n",
    "plt.title('Соотношение пользователей с подпиской и без подписки')\n",
    "plt.show()"
   ]
  },
  {
   "cell_type": "markdown",
   "id": "608c2d75",
   "metadata": {},
   "source": [
    "Соотношение пользователей с подпиской и без подписки. Пользователи с подпиской составляют 45.6 % от общего кол-ва, пользователи без подписки 54.4%"
   ]
  },
  {
   "cell_type": "markdown",
   "id": "d3cff210",
   "metadata": {},
   "source": [
    "#### Шаг 3.3 возраст пользователей"
   ]
  },
  {
   "cell_type": "code",
   "execution_count": 24,
   "id": "c8d226eb",
   "metadata": {},
   "outputs": [
    {
     "data": {
      "image/png": "[encoded data removed]",
      "text/plain": [
       "<Figure size 432x288 with 1 Axes>"
      ]
     },
     "metadata": {
      "needs_background": "light"
     },
     "output_type": "display_data"
    }
   ],
   "source": [
    "plt.hist(users['age'], bins = 32)\n",
    "plt.xlabel('Возраст')\n",
    "plt.ylabel('Количество пользователей')\n",
    "plt.title('Распределение возраста пользователей')\n",
    "plt.show()"
   ]
  },
  {
   "cell_type": "markdown",
   "id": "8ed4b672",
   "metadata": {},
   "source": [
    "На мой взгляд основной диапазон приходится на людей от 20 до 30 лет"
   ]
  },
  {
   "cell_type": "code",
   "execution_count": 25,
   "id": "80db1a78",
   "metadata": {},
   "outputs": [
    {
     "data": {
      "image/png": "[encoded data removed]",
      "text/plain": [
       "<Figure size 432x288 with 1 Axes>"
      ]
     },
     "metadata": {
      "needs_background": "light"
     },
     "output_type": "display_data"
    }
   ],
   "source": [
    "plt.hist(rides['distance'], bins = 100)\n",
    "plt.xlabel('Расстояние (км)')\n",
    "plt.ylabel('Количество поездок')\n",
    "plt.title('Распределение расстояний, пройденных пользователями за одну поездку')\n",
    "plt.show()"
   ]
  },
  {
   "cell_type": "markdown",
   "id": "068b05aa",
   "metadata": {},
   "source": [
    "Посмотри на промежуток  0  поближе\n"
   ]
  },
  {
   "cell_type": "code",
   "execution_count": 26,
   "id": "b066be07",
   "metadata": {},
   "outputs": [
    {
     "data": {
      "text/plain": [
       "Series([], dtype: int64)"
      ]
     },
     "execution_count": 26,
     "metadata": {},
     "output_type": "execute_result"
    }
   ],
   "source": [
    "short_rides = rides[rides['distance'] <= 0]\n",
    "short_rides.value_counts()"
   ]
  },
  {
   "cell_type": "markdown",
   "id": "5ca15a99",
   "metadata": {},
   "source": [
    "Основная часть поездок занимает от 2500 до 3800 метров. Медиана 3133 метра. Поездки на расстояние более 5 км редки. Однако на гистограмме видно, что некоторая часть пользователей использует самокаты для коротких поездок - до 1500 м."
   ]
  },
  {
   "cell_type": "markdown",
   "id": "f12acc7d",
   "metadata": {},
   "source": [
    "#### Шаг 3.5 продолжительность поездок"
   ]
  },
  {
   "cell_type": "code",
   "execution_count": 27,
   "id": "a0fd7b4d",
   "metadata": {},
   "outputs": [
    {
     "data": {
      "image/png": "[encoded data removed]",
      "text/plain": [
       "<Figure size 432x288 with 1 Axes>"
      ]
     },
     "metadata": {
      "needs_background": "light"
     },
     "output_type": "display_data"
    }
   ],
   "source": [
    "plt.hist(rides['duration'])\n",
    "plt.xlabel('Продолжительность поездки (мин)')\n",
    "plt.ylabel('Количество поездок')\n",
    "plt.title('Распределение продолжительности поездок')\n",
    "plt.show()"
   ]
  },
  {
   "cell_type": "code",
   "execution_count": 28,
   "id": "156fb9b3",
   "metadata": {},
   "outputs": [
    {
     "data": {
      "image/png": "[encoded data removed]",
      "text/plain": [
       "<Figure size 432x288 with 1 Axes>"
      ]
     },
     "metadata": {
      "needs_background": "light"
     },
     "output_type": "display_data"
    }
   ],
   "source": [
    "plt.boxplot(rides['duration'])\n",
    "plt.xlabel('Продолжительность поездки (мин)')\n",
    "plt.ylabel('Количество поездок')\n",
    "plt.title('Распределение продолжительности поездок')\n",
    "plt.show()"
   ]
  },
  {
   "cell_type": "markdown",
   "id": "ff3a6ad6",
   "metadata": {},
   "source": [
    "В основном люди совершают поездки примерно от 12.5 до 22.5 минут."
   ]
  },
  {
   "cell_type": "markdown",
   "id": "1a27fbc2",
   "metadata": {},
   "source": []
  },
  {
   "cell_type": "markdown",
   "id": "ba3b5946",
   "metadata": {},
   "source": [
    "В основном люди совершали поездки от 10 до 25 минут"
   ]
  },
  {
   "cell_type": "markdown",
   "id": "4ef51331",
   "metadata": {},
   "source": [
    "#### Шаг 4. Объединение данных"
   ]
  },
  {
   "cell_type": "markdown",
   "id": "a7f45469",
   "metadata": {},
   "source": [
    "#### 4.1 Объедините данные о пользователях, поездках и подписках в один датафрейм. Для этого воспользуйтесь методом merge()."
   ]
  },
  {
   "cell_type": "markdown",
   "id": "9977d197",
   "metadata": {},
   "source": [
    "Проверим размеры объединяемых датасетов."
   ]
  },
  {
   "cell_type": "code",
   "execution_count": 29,
   "id": "a829fd8e",
   "metadata": {},
   "outputs": [
    {
     "name": "stdout",
     "output_type": "stream",
     "text": [
      "Размер датасета users: (1534, 5)\n",
      "Размер датасета rides: (18068, 6)\n",
      "Размер датасета subscriptions: (2, 4)\n"
     ]
    }
   ],
   "source": [
    "print('Размер датасета users:', users.shape)\n",
    "print('Размер датасета rides:', rides.shape)\n",
    "print('Размер датасета subscriptions:', subscriptions.shape)"
   ]
  },
  {
   "cell_type": "code",
   "execution_count": 30,
   "id": "6bf288b5",
   "metadata": {},
   "outputs": [
    {
     "data": {
      "text/html": [
       "<div>\n",
       "<style scoped>\n",
       "    .dataframe tbody tr th:only-of-type {\n",
       "        vertical-align: middle;\n",
       "    }\n",
       "\n",
       "    .dataframe tbody tr th {\n",
       "        vertical-align: top;\n",
       "    }\n",
       "\n",
       "    .dataframe thead th {\n",
       "        text-align: right;\n",
       "    }\n",
       "</style>\n",
       "<table border=\"1\" class=\"dataframe\">\n",
       "  <thead>\n",
       "    <tr style=\"text-align: right;\">\n",
       "      <th></th>\n",
       "      <th>user_id</th>\n",
       "      <th>name</th>\n",
       "      <th>age</th>\n",
       "      <th>city</th>\n",
       "      <th>subscription_type</th>\n",
       "      <th>distance</th>\n",
       "      <th>duration</th>\n",
       "      <th>date</th>\n",
       "      <th>month</th>\n",
       "      <th>year</th>\n",
       "      <th>minute_price</th>\n",
       "      <th>start_ride_price</th>\n",
       "      <th>subscription_fee</th>\n",
       "    </tr>\n",
       "  </thead>\n",
       "  <tbody>\n",
       "    <tr>\n",
       "      <th>0</th>\n",
       "      <td>1</td>\n",
       "      <td>Кира</td>\n",
       "      <td>22</td>\n",
       "      <td>Тюмень</td>\n",
       "      <td>ultra</td>\n",
       "      <td>4409.92</td>\n",
       "      <td>25.60</td>\n",
       "      <td>2021-01-01</td>\n",
       "      <td>January</td>\n",
       "      <td>2021</td>\n",
       "      <td>6</td>\n",
       "      <td>0</td>\n",
       "      <td>199</td>\n",
       "    </tr>\n",
       "    <tr>\n",
       "      <th>1</th>\n",
       "      <td>1</td>\n",
       "      <td>Кира</td>\n",
       "      <td>22</td>\n",
       "      <td>Тюмень</td>\n",
       "      <td>ultra</td>\n",
       "      <td>2617.59</td>\n",
       "      <td>15.82</td>\n",
       "      <td>2021-01-18</td>\n",
       "      <td>January</td>\n",
       "      <td>2021</td>\n",
       "      <td>6</td>\n",
       "      <td>0</td>\n",
       "      <td>199</td>\n",
       "    </tr>\n",
       "    <tr>\n",
       "      <th>2</th>\n",
       "      <td>1</td>\n",
       "      <td>Кира</td>\n",
       "      <td>22</td>\n",
       "      <td>Тюмень</td>\n",
       "      <td>ultra</td>\n",
       "      <td>754.16</td>\n",
       "      <td>6.23</td>\n",
       "      <td>2021-04-20</td>\n",
       "      <td>April</td>\n",
       "      <td>2021</td>\n",
       "      <td>6</td>\n",
       "      <td>0</td>\n",
       "      <td>199</td>\n",
       "    </tr>\n",
       "    <tr>\n",
       "      <th>3</th>\n",
       "      <td>1</td>\n",
       "      <td>Кира</td>\n",
       "      <td>22</td>\n",
       "      <td>Тюмень</td>\n",
       "      <td>ultra</td>\n",
       "      <td>2694.78</td>\n",
       "      <td>18.51</td>\n",
       "      <td>2021-08-11</td>\n",
       "      <td>August</td>\n",
       "      <td>2021</td>\n",
       "      <td>6</td>\n",
       "      <td>0</td>\n",
       "      <td>199</td>\n",
       "    </tr>\n",
       "    <tr>\n",
       "      <th>4</th>\n",
       "      <td>1</td>\n",
       "      <td>Кира</td>\n",
       "      <td>22</td>\n",
       "      <td>Тюмень</td>\n",
       "      <td>ultra</td>\n",
       "      <td>4028.69</td>\n",
       "      <td>26.27</td>\n",
       "      <td>2021-08-28</td>\n",
       "      <td>August</td>\n",
       "      <td>2021</td>\n",
       "      <td>6</td>\n",
       "      <td>0</td>\n",
       "      <td>199</td>\n",
       "    </tr>\n",
       "    <tr>\n",
       "      <th>...</th>\n",
       "      <td>...</td>\n",
       "      <td>...</td>\n",
       "      <td>...</td>\n",
       "      <td>...</td>\n",
       "      <td>...</td>\n",
       "      <td>...</td>\n",
       "      <td>...</td>\n",
       "      <td>...</td>\n",
       "      <td>...</td>\n",
       "      <td>...</td>\n",
       "      <td>...</td>\n",
       "      <td>...</td>\n",
       "      <td>...</td>\n",
       "    </tr>\n",
       "    <tr>\n",
       "      <th>18063</th>\n",
       "      <td>1534</td>\n",
       "      <td>Альберт</td>\n",
       "      <td>25</td>\n",
       "      <td>Краснодар</td>\n",
       "      <td>free</td>\n",
       "      <td>3781.10</td>\n",
       "      <td>19.82</td>\n",
       "      <td>2021-11-04</td>\n",
       "      <td>November</td>\n",
       "      <td>2021</td>\n",
       "      <td>8</td>\n",
       "      <td>50</td>\n",
       "      <td>0</td>\n",
       "    </tr>\n",
       "    <tr>\n",
       "      <th>18064</th>\n",
       "      <td>1534</td>\n",
       "      <td>Альберт</td>\n",
       "      <td>25</td>\n",
       "      <td>Краснодар</td>\n",
       "      <td>free</td>\n",
       "      <td>2840.42</td>\n",
       "      <td>21.41</td>\n",
       "      <td>2021-11-16</td>\n",
       "      <td>November</td>\n",
       "      <td>2021</td>\n",
       "      <td>8</td>\n",
       "      <td>50</td>\n",
       "      <td>0</td>\n",
       "    </tr>\n",
       "    <tr>\n",
       "      <th>18065</th>\n",
       "      <td>1534</td>\n",
       "      <td>Альберт</td>\n",
       "      <td>25</td>\n",
       "      <td>Краснодар</td>\n",
       "      <td>free</td>\n",
       "      <td>3826.19</td>\n",
       "      <td>18.44</td>\n",
       "      <td>2021-11-18</td>\n",
       "      <td>November</td>\n",
       "      <td>2021</td>\n",
       "      <td>8</td>\n",
       "      <td>50</td>\n",
       "      <td>0</td>\n",
       "    </tr>\n",
       "    <tr>\n",
       "      <th>18066</th>\n",
       "      <td>1534</td>\n",
       "      <td>Альберт</td>\n",
       "      <td>25</td>\n",
       "      <td>Краснодар</td>\n",
       "      <td>free</td>\n",
       "      <td>2902.31</td>\n",
       "      <td>16.67</td>\n",
       "      <td>2021-11-27</td>\n",
       "      <td>November</td>\n",
       "      <td>2021</td>\n",
       "      <td>8</td>\n",
       "      <td>50</td>\n",
       "      <td>0</td>\n",
       "    </tr>\n",
       "    <tr>\n",
       "      <th>18067</th>\n",
       "      <td>1534</td>\n",
       "      <td>Альберт</td>\n",
       "      <td>25</td>\n",
       "      <td>Краснодар</td>\n",
       "      <td>free</td>\n",
       "      <td>2371.71</td>\n",
       "      <td>15.89</td>\n",
       "      <td>2021-12-29</td>\n",
       "      <td>December</td>\n",
       "      <td>2021</td>\n",
       "      <td>8</td>\n",
       "      <td>50</td>\n",
       "      <td>0</td>\n",
       "    </tr>\n",
       "  </tbody>\n",
       "</table>\n",
       "<p>18068 rows × 13 columns</p>\n",
       "</div>"
      ],
      "text/plain": [
       "       user_id     name  age       city subscription_type  distance  duration  \\\n",
       "0            1     Кира   22     Тюмень             ultra   4409.92     25.60   \n",
       "1            1     Кира   22     Тюмень             ultra   2617.59     15.82   \n",
       "2            1     Кира   22     Тюмень             ultra    754.16      6.23   \n",
       "3            1     Кира   22     Тюмень             ultra   2694.78     18.51   \n",
       "4            1     Кира   22     Тюмень             ultra   4028.69     26.27   \n",
       "...        ...      ...  ...        ...               ...       ...       ...   \n",
       "18063     1534  Альберт   25  Краснодар              free   3781.10     19.82   \n",
       "18064     1534  Альберт   25  Краснодар              free   2840.42     21.41   \n",
       "18065     1534  Альберт   25  Краснодар              free   3826.19     18.44   \n",
       "18066     1534  Альберт   25  Краснодар              free   2902.31     16.67   \n",
       "18067     1534  Альберт   25  Краснодар              free   2371.71     15.89   \n",
       "\n",
       "            date     month  year  minute_price  start_ride_price  \\\n",
       "0     2021-01-01   January  2021             6                 0   \n",
       "1     2021-01-18   January  2021             6                 0   \n",
       "2     2021-04-20     April  2021             6                 0   \n",
       "3     2021-08-11    August  2021             6                 0   \n",
       "4     2021-08-28    August  2021             6                 0   \n",
       "...          ...       ...   ...           ...               ...   \n",
       "18063 2021-11-04  November  2021             8                50   \n",
       "18064 2021-11-16  November  2021             8                50   \n",
       "18065 2021-11-18  November  2021             8                50   \n",
       "18066 2021-11-27  November  2021             8                50   \n",
       "18067 2021-12-29  December  2021             8                50   \n",
       "\n",
       "       subscription_fee  \n",
       "0                   199  \n",
       "1                   199  \n",
       "2                   199  \n",
       "3                   199  \n",
       "4                   199  \n",
       "...                 ...  \n",
       "18063                 0  \n",
       "18064                 0  \n",
       "18065                 0  \n",
       "18066                 0  \n",
       "18067                 0  \n",
       "\n",
       "[18068 rows x 13 columns]"
      ]
     },
     "execution_count": 30,
     "metadata": {},
     "output_type": "execute_result"
    }
   ],
   "source": [
    "combined_data = pd.merge(users, rides, on='user_id')\n",
    "combined_data = pd.merge(combined_data, subscriptions, on='subscription_type')\n",
    "combined_data"
   ]
  },
  {
   "cell_type": "code",
   "execution_count": 31,
   "id": "62c31f24",
   "metadata": {},
   "outputs": [
    {
     "name": "stdout",
     "output_type": "stream",
     "text": [
      "Размер объединенного датафрейма: (18068, 13)\n"
     ]
    }
   ],
   "source": [
    "print('Размер объединенного датафрейма:', combined_data.shape)"
   ]
  },
  {
   "cell_type": "markdown",
   "id": "d6f896b7",
   "metadata": {},
   "source": [
    "Размер результирующего датасета коректен."
   ]
  },
  {
   "cell_type": "markdown",
   "id": "2df3f749",
   "metadata": {},
   "source": []
  },
  {
   "cell_type": "markdown",
   "id": "f742dab6",
   "metadata": {},
   "source": [
    "#### 4.2 Создайте ещё два датафрейма из датафрейма, созданного на этапе 4.1:\n",
    "#### c данными о пользователях без подписки;\n",
    "#### с данными о пользователях с подпиской."
   ]
  },
  {
   "cell_type": "code",
   "execution_count": 32,
   "id": "dc27d8cc",
   "metadata": {},
   "outputs": [
    {
     "data": {
      "text/html": [
       "<div>\n",
       "<style scoped>\n",
       "    .dataframe tbody tr th:only-of-type {\n",
       "        vertical-align: middle;\n",
       "    }\n",
       "\n",
       "    .dataframe tbody tr th {\n",
       "        vertical-align: top;\n",
       "    }\n",
       "\n",
       "    .dataframe thead th {\n",
       "        text-align: right;\n",
       "    }\n",
       "</style>\n",
       "<table border=\"1\" class=\"dataframe\">\n",
       "  <thead>\n",
       "    <tr style=\"text-align: right;\">\n",
       "      <th></th>\n",
       "      <th>user_id</th>\n",
       "      <th>name</th>\n",
       "      <th>age</th>\n",
       "      <th>city</th>\n",
       "      <th>subscription_type</th>\n",
       "      <th>distance</th>\n",
       "      <th>duration</th>\n",
       "      <th>date</th>\n",
       "      <th>month</th>\n",
       "      <th>year</th>\n",
       "      <th>minute_price</th>\n",
       "      <th>start_ride_price</th>\n",
       "      <th>subscription_fee</th>\n",
       "    </tr>\n",
       "  </thead>\n",
       "  <tbody>\n",
       "    <tr>\n",
       "      <th>0</th>\n",
       "      <td>1</td>\n",
       "      <td>Кира</td>\n",
       "      <td>22</td>\n",
       "      <td>Тюмень</td>\n",
       "      <td>ultra</td>\n",
       "      <td>4409.92</td>\n",
       "      <td>25.60</td>\n",
       "      <td>2021-01-01</td>\n",
       "      <td>January</td>\n",
       "      <td>2021</td>\n",
       "      <td>6</td>\n",
       "      <td>0</td>\n",
       "      <td>199</td>\n",
       "    </tr>\n",
       "    <tr>\n",
       "      <th>1</th>\n",
       "      <td>1</td>\n",
       "      <td>Кира</td>\n",
       "      <td>22</td>\n",
       "      <td>Тюмень</td>\n",
       "      <td>ultra</td>\n",
       "      <td>2617.59</td>\n",
       "      <td>15.82</td>\n",
       "      <td>2021-01-18</td>\n",
       "      <td>January</td>\n",
       "      <td>2021</td>\n",
       "      <td>6</td>\n",
       "      <td>0</td>\n",
       "      <td>199</td>\n",
       "    </tr>\n",
       "    <tr>\n",
       "      <th>2</th>\n",
       "      <td>1</td>\n",
       "      <td>Кира</td>\n",
       "      <td>22</td>\n",
       "      <td>Тюмень</td>\n",
       "      <td>ultra</td>\n",
       "      <td>754.16</td>\n",
       "      <td>6.23</td>\n",
       "      <td>2021-04-20</td>\n",
       "      <td>April</td>\n",
       "      <td>2021</td>\n",
       "      <td>6</td>\n",
       "      <td>0</td>\n",
       "      <td>199</td>\n",
       "    </tr>\n",
       "    <tr>\n",
       "      <th>3</th>\n",
       "      <td>1</td>\n",
       "      <td>Кира</td>\n",
       "      <td>22</td>\n",
       "      <td>Тюмень</td>\n",
       "      <td>ultra</td>\n",
       "      <td>2694.78</td>\n",
       "      <td>18.51</td>\n",
       "      <td>2021-08-11</td>\n",
       "      <td>August</td>\n",
       "      <td>2021</td>\n",
       "      <td>6</td>\n",
       "      <td>0</td>\n",
       "      <td>199</td>\n",
       "    </tr>\n",
       "    <tr>\n",
       "      <th>4</th>\n",
       "      <td>1</td>\n",
       "      <td>Кира</td>\n",
       "      <td>22</td>\n",
       "      <td>Тюмень</td>\n",
       "      <td>ultra</td>\n",
       "      <td>4028.69</td>\n",
       "      <td>26.27</td>\n",
       "      <td>2021-08-28</td>\n",
       "      <td>August</td>\n",
       "      <td>2021</td>\n",
       "      <td>6</td>\n",
       "      <td>0</td>\n",
       "      <td>199</td>\n",
       "    </tr>\n",
       "    <tr>\n",
       "      <th>...</th>\n",
       "      <td>...</td>\n",
       "      <td>...</td>\n",
       "      <td>...</td>\n",
       "      <td>...</td>\n",
       "      <td>...</td>\n",
       "      <td>...</td>\n",
       "      <td>...</td>\n",
       "      <td>...</td>\n",
       "      <td>...</td>\n",
       "      <td>...</td>\n",
       "      <td>...</td>\n",
       "      <td>...</td>\n",
       "      <td>...</td>\n",
       "    </tr>\n",
       "    <tr>\n",
       "      <th>6495</th>\n",
       "      <td>699</td>\n",
       "      <td>Оксана</td>\n",
       "      <td>22</td>\n",
       "      <td>Москва</td>\n",
       "      <td>ultra</td>\n",
       "      <td>3973.05</td>\n",
       "      <td>24.67</td>\n",
       "      <td>2021-08-29</td>\n",
       "      <td>August</td>\n",
       "      <td>2021</td>\n",
       "      <td>6</td>\n",
       "      <td>0</td>\n",
       "      <td>199</td>\n",
       "    </tr>\n",
       "    <tr>\n",
       "      <th>6496</th>\n",
       "      <td>699</td>\n",
       "      <td>Оксана</td>\n",
       "      <td>22</td>\n",
       "      <td>Москва</td>\n",
       "      <td>ultra</td>\n",
       "      <td>3288.70</td>\n",
       "      <td>15.89</td>\n",
       "      <td>2021-09-12</td>\n",
       "      <td>September</td>\n",
       "      <td>2021</td>\n",
       "      <td>6</td>\n",
       "      <td>0</td>\n",
       "      <td>199</td>\n",
       "    </tr>\n",
       "    <tr>\n",
       "      <th>6497</th>\n",
       "      <td>699</td>\n",
       "      <td>Оксана</td>\n",
       "      <td>22</td>\n",
       "      <td>Москва</td>\n",
       "      <td>ultra</td>\n",
       "      <td>3076.16</td>\n",
       "      <td>14.39</td>\n",
       "      <td>2021-09-26</td>\n",
       "      <td>September</td>\n",
       "      <td>2021</td>\n",
       "      <td>6</td>\n",
       "      <td>0</td>\n",
       "      <td>199</td>\n",
       "    </tr>\n",
       "    <tr>\n",
       "      <th>6498</th>\n",
       "      <td>699</td>\n",
       "      <td>Оксана</td>\n",
       "      <td>22</td>\n",
       "      <td>Москва</td>\n",
       "      <td>ultra</td>\n",
       "      <td>4707.85</td>\n",
       "      <td>15.84</td>\n",
       "      <td>2021-10-17</td>\n",
       "      <td>October</td>\n",
       "      <td>2021</td>\n",
       "      <td>6</td>\n",
       "      <td>0</td>\n",
       "      <td>199</td>\n",
       "    </tr>\n",
       "    <tr>\n",
       "      <th>6499</th>\n",
       "      <td>699</td>\n",
       "      <td>Оксана</td>\n",
       "      <td>22</td>\n",
       "      <td>Москва</td>\n",
       "      <td>ultra</td>\n",
       "      <td>3202.89</td>\n",
       "      <td>25.22</td>\n",
       "      <td>2021-12-03</td>\n",
       "      <td>December</td>\n",
       "      <td>2021</td>\n",
       "      <td>6</td>\n",
       "      <td>0</td>\n",
       "      <td>199</td>\n",
       "    </tr>\n",
       "  </tbody>\n",
       "</table>\n",
       "<p>6500 rows × 13 columns</p>\n",
       "</div>"
      ],
      "text/plain": [
       "      user_id    name  age    city subscription_type  distance  duration  \\\n",
       "0           1    Кира   22  Тюмень             ultra   4409.92     25.60   \n",
       "1           1    Кира   22  Тюмень             ultra   2617.59     15.82   \n",
       "2           1    Кира   22  Тюмень             ultra    754.16      6.23   \n",
       "3           1    Кира   22  Тюмень             ultra   2694.78     18.51   \n",
       "4           1    Кира   22  Тюмень             ultra   4028.69     26.27   \n",
       "...       ...     ...  ...     ...               ...       ...       ...   \n",
       "6495      699  Оксана   22  Москва             ultra   3973.05     24.67   \n",
       "6496      699  Оксана   22  Москва             ultra   3288.70     15.89   \n",
       "6497      699  Оксана   22  Москва             ultra   3076.16     14.39   \n",
       "6498      699  Оксана   22  Москва             ultra   4707.85     15.84   \n",
       "6499      699  Оксана   22  Москва             ultra   3202.89     25.22   \n",
       "\n",
       "           date      month  year  minute_price  start_ride_price  \\\n",
       "0    2021-01-01    January  2021             6                 0   \n",
       "1    2021-01-18    January  2021             6                 0   \n",
       "2    2021-04-20      April  2021             6                 0   \n",
       "3    2021-08-11     August  2021             6                 0   \n",
       "4    2021-08-28     August  2021             6                 0   \n",
       "...         ...        ...   ...           ...               ...   \n",
       "6495 2021-08-29     August  2021             6                 0   \n",
       "6496 2021-09-12  September  2021             6                 0   \n",
       "6497 2021-09-26  September  2021             6                 0   \n",
       "6498 2021-10-17    October  2021             6                 0   \n",
       "6499 2021-12-03   December  2021             6                 0   \n",
       "\n",
       "      subscription_fee  \n",
       "0                  199  \n",
       "1                  199  \n",
       "2                  199  \n",
       "3                  199  \n",
       "4                  199  \n",
       "...                ...  \n",
       "6495               199  \n",
       "6496               199  \n",
       "6497               199  \n",
       "6498               199  \n",
       "6499               199  \n",
       "\n",
       "[6500 rows x 13 columns]"
      ]
     },
     "execution_count": 32,
     "metadata": {},
     "output_type": "execute_result"
    }
   ],
   "source": [
    "no_subscription_data = combined_data.query('subscription_type == \"free\"')\n",
    "subscription_data = combined_data.query('subscription_type == \"ultra\"')\n",
    "subscription_data"
   ]
  },
  {
   "cell_type": "code",
   "execution_count": 33,
   "id": "ac98f6c2",
   "metadata": {},
   "outputs": [
    {
     "data": {
      "text/html": [
       "<div>\n",
       "<style scoped>\n",
       "    .dataframe tbody tr th:only-of-type {\n",
       "        vertical-align: middle;\n",
       "    }\n",
       "\n",
       "    .dataframe tbody tr th {\n",
       "        vertical-align: top;\n",
       "    }\n",
       "\n",
       "    .dataframe thead th {\n",
       "        text-align: right;\n",
       "    }\n",
       "</style>\n",
       "<table border=\"1\" class=\"dataframe\">\n",
       "  <thead>\n",
       "    <tr style=\"text-align: right;\">\n",
       "      <th></th>\n",
       "      <th>user_id</th>\n",
       "      <th>name</th>\n",
       "      <th>age</th>\n",
       "      <th>city</th>\n",
       "      <th>subscription_type</th>\n",
       "      <th>distance</th>\n",
       "      <th>duration</th>\n",
       "      <th>date</th>\n",
       "      <th>month</th>\n",
       "      <th>year</th>\n",
       "      <th>minute_price</th>\n",
       "      <th>start_ride_price</th>\n",
       "      <th>subscription_fee</th>\n",
       "    </tr>\n",
       "  </thead>\n",
       "  <tbody>\n",
       "    <tr>\n",
       "      <th>6500</th>\n",
       "      <td>700</td>\n",
       "      <td>Айдар</td>\n",
       "      <td>22</td>\n",
       "      <td>Омск</td>\n",
       "      <td>free</td>\n",
       "      <td>2515.69</td>\n",
       "      <td>14.94</td>\n",
       "      <td>2021-01-02</td>\n",
       "      <td>January</td>\n",
       "      <td>2021</td>\n",
       "      <td>8</td>\n",
       "      <td>50</td>\n",
       "      <td>0</td>\n",
       "    </tr>\n",
       "    <tr>\n",
       "      <th>6501</th>\n",
       "      <td>700</td>\n",
       "      <td>Айдар</td>\n",
       "      <td>22</td>\n",
       "      <td>Омск</td>\n",
       "      <td>free</td>\n",
       "      <td>846.93</td>\n",
       "      <td>16.23</td>\n",
       "      <td>2021-02-01</td>\n",
       "      <td>February</td>\n",
       "      <td>2021</td>\n",
       "      <td>8</td>\n",
       "      <td>50</td>\n",
       "      <td>0</td>\n",
       "    </tr>\n",
       "    <tr>\n",
       "      <th>6502</th>\n",
       "      <td>700</td>\n",
       "      <td>Айдар</td>\n",
       "      <td>22</td>\n",
       "      <td>Омск</td>\n",
       "      <td>free</td>\n",
       "      <td>4004.43</td>\n",
       "      <td>20.02</td>\n",
       "      <td>2021-02-04</td>\n",
       "      <td>February</td>\n",
       "      <td>2021</td>\n",
       "      <td>8</td>\n",
       "      <td>50</td>\n",
       "      <td>0</td>\n",
       "    </tr>\n",
       "    <tr>\n",
       "      <th>6503</th>\n",
       "      <td>700</td>\n",
       "      <td>Айдар</td>\n",
       "      <td>22</td>\n",
       "      <td>Омск</td>\n",
       "      <td>free</td>\n",
       "      <td>1205.91</td>\n",
       "      <td>9.78</td>\n",
       "      <td>2021-02-10</td>\n",
       "      <td>February</td>\n",
       "      <td>2021</td>\n",
       "      <td>8</td>\n",
       "      <td>50</td>\n",
       "      <td>0</td>\n",
       "    </tr>\n",
       "    <tr>\n",
       "      <th>6504</th>\n",
       "      <td>700</td>\n",
       "      <td>Айдар</td>\n",
       "      <td>22</td>\n",
       "      <td>Омск</td>\n",
       "      <td>free</td>\n",
       "      <td>3047.38</td>\n",
       "      <td>17.43</td>\n",
       "      <td>2021-02-14</td>\n",
       "      <td>February</td>\n",
       "      <td>2021</td>\n",
       "      <td>8</td>\n",
       "      <td>50</td>\n",
       "      <td>0</td>\n",
       "    </tr>\n",
       "    <tr>\n",
       "      <th>...</th>\n",
       "      <td>...</td>\n",
       "      <td>...</td>\n",
       "      <td>...</td>\n",
       "      <td>...</td>\n",
       "      <td>...</td>\n",
       "      <td>...</td>\n",
       "      <td>...</td>\n",
       "      <td>...</td>\n",
       "      <td>...</td>\n",
       "      <td>...</td>\n",
       "      <td>...</td>\n",
       "      <td>...</td>\n",
       "      <td>...</td>\n",
       "    </tr>\n",
       "    <tr>\n",
       "      <th>18063</th>\n",
       "      <td>1534</td>\n",
       "      <td>Альберт</td>\n",
       "      <td>25</td>\n",
       "      <td>Краснодар</td>\n",
       "      <td>free</td>\n",
       "      <td>3781.10</td>\n",
       "      <td>19.82</td>\n",
       "      <td>2021-11-04</td>\n",
       "      <td>November</td>\n",
       "      <td>2021</td>\n",
       "      <td>8</td>\n",
       "      <td>50</td>\n",
       "      <td>0</td>\n",
       "    </tr>\n",
       "    <tr>\n",
       "      <th>18064</th>\n",
       "      <td>1534</td>\n",
       "      <td>Альберт</td>\n",
       "      <td>25</td>\n",
       "      <td>Краснодар</td>\n",
       "      <td>free</td>\n",
       "      <td>2840.42</td>\n",
       "      <td>21.41</td>\n",
       "      <td>2021-11-16</td>\n",
       "      <td>November</td>\n",
       "      <td>2021</td>\n",
       "      <td>8</td>\n",
       "      <td>50</td>\n",
       "      <td>0</td>\n",
       "    </tr>\n",
       "    <tr>\n",
       "      <th>18065</th>\n",
       "      <td>1534</td>\n",
       "      <td>Альберт</td>\n",
       "      <td>25</td>\n",
       "      <td>Краснодар</td>\n",
       "      <td>free</td>\n",
       "      <td>3826.19</td>\n",
       "      <td>18.44</td>\n",
       "      <td>2021-11-18</td>\n",
       "      <td>November</td>\n",
       "      <td>2021</td>\n",
       "      <td>8</td>\n",
       "      <td>50</td>\n",
       "      <td>0</td>\n",
       "    </tr>\n",
       "    <tr>\n",
       "      <th>18066</th>\n",
       "      <td>1534</td>\n",
       "      <td>Альберт</td>\n",
       "      <td>25</td>\n",
       "      <td>Краснодар</td>\n",
       "      <td>free</td>\n",
       "      <td>2902.31</td>\n",
       "      <td>16.67</td>\n",
       "      <td>2021-11-27</td>\n",
       "      <td>November</td>\n",
       "      <td>2021</td>\n",
       "      <td>8</td>\n",
       "      <td>50</td>\n",
       "      <td>0</td>\n",
       "    </tr>\n",
       "    <tr>\n",
       "      <th>18067</th>\n",
       "      <td>1534</td>\n",
       "      <td>Альберт</td>\n",
       "      <td>25</td>\n",
       "      <td>Краснодар</td>\n",
       "      <td>free</td>\n",
       "      <td>2371.71</td>\n",
       "      <td>15.89</td>\n",
       "      <td>2021-12-29</td>\n",
       "      <td>December</td>\n",
       "      <td>2021</td>\n",
       "      <td>8</td>\n",
       "      <td>50</td>\n",
       "      <td>0</td>\n",
       "    </tr>\n",
       "  </tbody>\n",
       "</table>\n",
       "<p>11568 rows × 13 columns</p>\n",
       "</div>"
      ],
      "text/plain": [
       "       user_id     name  age       city subscription_type  distance  duration  \\\n",
       "6500       700    Айдар   22       Омск              free   2515.69     14.94   \n",
       "6501       700    Айдар   22       Омск              free    846.93     16.23   \n",
       "6502       700    Айдар   22       Омск              free   4004.43     20.02   \n",
       "6503       700    Айдар   22       Омск              free   1205.91      9.78   \n",
       "6504       700    Айдар   22       Омск              free   3047.38     17.43   \n",
       "...        ...      ...  ...        ...               ...       ...       ...   \n",
       "18063     1534  Альберт   25  Краснодар              free   3781.10     19.82   \n",
       "18064     1534  Альберт   25  Краснодар              free   2840.42     21.41   \n",
       "18065     1534  Альберт   25  Краснодар              free   3826.19     18.44   \n",
       "18066     1534  Альберт   25  Краснодар              free   2902.31     16.67   \n",
       "18067     1534  Альберт   25  Краснодар              free   2371.71     15.89   \n",
       "\n",
       "            date     month  year  minute_price  start_ride_price  \\\n",
       "6500  2021-01-02   January  2021             8                50   \n",
       "6501  2021-02-01  February  2021             8                50   \n",
       "6502  2021-02-04  February  2021             8                50   \n",
       "6503  2021-02-10  February  2021             8                50   \n",
       "6504  2021-02-14  February  2021             8                50   \n",
       "...          ...       ...   ...           ...               ...   \n",
       "18063 2021-11-04  November  2021             8                50   \n",
       "18064 2021-11-16  November  2021             8                50   \n",
       "18065 2021-11-18  November  2021             8                50   \n",
       "18066 2021-11-27  November  2021             8                50   \n",
       "18067 2021-12-29  December  2021             8                50   \n",
       "\n",
       "       subscription_fee  \n",
       "6500                  0  \n",
       "6501                  0  \n",
       "6502                  0  \n",
       "6503                  0  \n",
       "6504                  0  \n",
       "...                 ...  \n",
       "18063                 0  \n",
       "18064                 0  \n",
       "18065                 0  \n",
       "18066                 0  \n",
       "18067                 0  \n",
       "\n",
       "[11568 rows x 13 columns]"
      ]
     },
     "execution_count": 33,
     "metadata": {},
     "output_type": "execute_result"
    }
   ],
   "source": [
    "no_subscription_data"
   ]
  },
  {
   "cell_type": "code",
   "execution_count": 34,
   "id": "5d1b13bb",
   "metadata": {},
   "outputs": [
    {
     "data": {
      "text/html": [
       "<div>\n",
       "<style scoped>\n",
       "    .dataframe tbody tr th:only-of-type {\n",
       "        vertical-align: middle;\n",
       "    }\n",
       "\n",
       "    .dataframe tbody tr th {\n",
       "        vertical-align: top;\n",
       "    }\n",
       "\n",
       "    .dataframe thead th {\n",
       "        text-align: right;\n",
       "    }\n",
       "</style>\n",
       "<table border=\"1\" class=\"dataframe\">\n",
       "  <thead>\n",
       "    <tr style=\"text-align: right;\">\n",
       "      <th></th>\n",
       "      <th>user_id</th>\n",
       "      <th>name</th>\n",
       "      <th>age</th>\n",
       "      <th>city</th>\n",
       "      <th>subscription_type</th>\n",
       "      <th>distance</th>\n",
       "      <th>duration</th>\n",
       "      <th>date</th>\n",
       "      <th>month</th>\n",
       "      <th>year</th>\n",
       "      <th>minute_price</th>\n",
       "      <th>start_ride_price</th>\n",
       "      <th>subscription_fee</th>\n",
       "    </tr>\n",
       "  </thead>\n",
       "  <tbody>\n",
       "    <tr>\n",
       "      <th>0</th>\n",
       "      <td>1</td>\n",
       "      <td>Кира</td>\n",
       "      <td>22</td>\n",
       "      <td>Тюмень</td>\n",
       "      <td>ultra</td>\n",
       "      <td>4409.92</td>\n",
       "      <td>25.60</td>\n",
       "      <td>2021-01-01</td>\n",
       "      <td>January</td>\n",
       "      <td>2021</td>\n",
       "      <td>6</td>\n",
       "      <td>0</td>\n",
       "      <td>199</td>\n",
       "    </tr>\n",
       "    <tr>\n",
       "      <th>1</th>\n",
       "      <td>1</td>\n",
       "      <td>Кира</td>\n",
       "      <td>22</td>\n",
       "      <td>Тюмень</td>\n",
       "      <td>ultra</td>\n",
       "      <td>2617.59</td>\n",
       "      <td>15.82</td>\n",
       "      <td>2021-01-18</td>\n",
       "      <td>January</td>\n",
       "      <td>2021</td>\n",
       "      <td>6</td>\n",
       "      <td>0</td>\n",
       "      <td>199</td>\n",
       "    </tr>\n",
       "    <tr>\n",
       "      <th>2</th>\n",
       "      <td>1</td>\n",
       "      <td>Кира</td>\n",
       "      <td>22</td>\n",
       "      <td>Тюмень</td>\n",
       "      <td>ultra</td>\n",
       "      <td>754.16</td>\n",
       "      <td>6.23</td>\n",
       "      <td>2021-04-20</td>\n",
       "      <td>April</td>\n",
       "      <td>2021</td>\n",
       "      <td>6</td>\n",
       "      <td>0</td>\n",
       "      <td>199</td>\n",
       "    </tr>\n",
       "    <tr>\n",
       "      <th>3</th>\n",
       "      <td>1</td>\n",
       "      <td>Кира</td>\n",
       "      <td>22</td>\n",
       "      <td>Тюмень</td>\n",
       "      <td>ultra</td>\n",
       "      <td>2694.78</td>\n",
       "      <td>18.51</td>\n",
       "      <td>2021-08-11</td>\n",
       "      <td>August</td>\n",
       "      <td>2021</td>\n",
       "      <td>6</td>\n",
       "      <td>0</td>\n",
       "      <td>199</td>\n",
       "    </tr>\n",
       "    <tr>\n",
       "      <th>4</th>\n",
       "      <td>1</td>\n",
       "      <td>Кира</td>\n",
       "      <td>22</td>\n",
       "      <td>Тюмень</td>\n",
       "      <td>ultra</td>\n",
       "      <td>4028.69</td>\n",
       "      <td>26.27</td>\n",
       "      <td>2021-08-28</td>\n",
       "      <td>August</td>\n",
       "      <td>2021</td>\n",
       "      <td>6</td>\n",
       "      <td>0</td>\n",
       "      <td>199</td>\n",
       "    </tr>\n",
       "    <tr>\n",
       "      <th>...</th>\n",
       "      <td>...</td>\n",
       "      <td>...</td>\n",
       "      <td>...</td>\n",
       "      <td>...</td>\n",
       "      <td>...</td>\n",
       "      <td>...</td>\n",
       "      <td>...</td>\n",
       "      <td>...</td>\n",
       "      <td>...</td>\n",
       "      <td>...</td>\n",
       "      <td>...</td>\n",
       "      <td>...</td>\n",
       "      <td>...</td>\n",
       "    </tr>\n",
       "    <tr>\n",
       "      <th>6495</th>\n",
       "      <td>699</td>\n",
       "      <td>Оксана</td>\n",
       "      <td>22</td>\n",
       "      <td>Москва</td>\n",
       "      <td>ultra</td>\n",
       "      <td>3973.05</td>\n",
       "      <td>24.67</td>\n",
       "      <td>2021-08-29</td>\n",
       "      <td>August</td>\n",
       "      <td>2021</td>\n",
       "      <td>6</td>\n",
       "      <td>0</td>\n",
       "      <td>199</td>\n",
       "    </tr>\n",
       "    <tr>\n",
       "      <th>6496</th>\n",
       "      <td>699</td>\n",
       "      <td>Оксана</td>\n",
       "      <td>22</td>\n",
       "      <td>Москва</td>\n",
       "      <td>ultra</td>\n",
       "      <td>3288.70</td>\n",
       "      <td>15.89</td>\n",
       "      <td>2021-09-12</td>\n",
       "      <td>September</td>\n",
       "      <td>2021</td>\n",
       "      <td>6</td>\n",
       "      <td>0</td>\n",
       "      <td>199</td>\n",
       "    </tr>\n",
       "    <tr>\n",
       "      <th>6497</th>\n",
       "      <td>699</td>\n",
       "      <td>Оксана</td>\n",
       "      <td>22</td>\n",
       "      <td>Москва</td>\n",
       "      <td>ultra</td>\n",
       "      <td>3076.16</td>\n",
       "      <td>14.39</td>\n",
       "      <td>2021-09-26</td>\n",
       "      <td>September</td>\n",
       "      <td>2021</td>\n",
       "      <td>6</td>\n",
       "      <td>0</td>\n",
       "      <td>199</td>\n",
       "    </tr>\n",
       "    <tr>\n",
       "      <th>6498</th>\n",
       "      <td>699</td>\n",
       "      <td>Оксана</td>\n",
       "      <td>22</td>\n",
       "      <td>Москва</td>\n",
       "      <td>ultra</td>\n",
       "      <td>4707.85</td>\n",
       "      <td>15.84</td>\n",
       "      <td>2021-10-17</td>\n",
       "      <td>October</td>\n",
       "      <td>2021</td>\n",
       "      <td>6</td>\n",
       "      <td>0</td>\n",
       "      <td>199</td>\n",
       "    </tr>\n",
       "    <tr>\n",
       "      <th>6499</th>\n",
       "      <td>699</td>\n",
       "      <td>Оксана</td>\n",
       "      <td>22</td>\n",
       "      <td>Москва</td>\n",
       "      <td>ultra</td>\n",
       "      <td>3202.89</td>\n",
       "      <td>25.22</td>\n",
       "      <td>2021-12-03</td>\n",
       "      <td>December</td>\n",
       "      <td>2021</td>\n",
       "      <td>6</td>\n",
       "      <td>0</td>\n",
       "      <td>199</td>\n",
       "    </tr>\n",
       "  </tbody>\n",
       "</table>\n",
       "<p>6500 rows × 13 columns</p>\n",
       "</div>"
      ],
      "text/plain": [
       "      user_id    name  age    city subscription_type  distance  duration  \\\n",
       "0           1    Кира   22  Тюмень             ultra   4409.92     25.60   \n",
       "1           1    Кира   22  Тюмень             ultra   2617.59     15.82   \n",
       "2           1    Кира   22  Тюмень             ultra    754.16      6.23   \n",
       "3           1    Кира   22  Тюмень             ultra   2694.78     18.51   \n",
       "4           1    Кира   22  Тюмень             ultra   4028.69     26.27   \n",
       "...       ...     ...  ...     ...               ...       ...       ...   \n",
       "6495      699  Оксана   22  Москва             ultra   3973.05     24.67   \n",
       "6496      699  Оксана   22  Москва             ultra   3288.70     15.89   \n",
       "6497      699  Оксана   22  Москва             ultra   3076.16     14.39   \n",
       "6498      699  Оксана   22  Москва             ultra   4707.85     15.84   \n",
       "6499      699  Оксана   22  Москва             ultra   3202.89     25.22   \n",
       "\n",
       "           date      month  year  minute_price  start_ride_price  \\\n",
       "0    2021-01-01    January  2021             6                 0   \n",
       "1    2021-01-18    January  2021             6                 0   \n",
       "2    2021-04-20      April  2021             6                 0   \n",
       "3    2021-08-11     August  2021             6                 0   \n",
       "4    2021-08-28     August  2021             6                 0   \n",
       "...         ...        ...   ...           ...               ...   \n",
       "6495 2021-08-29     August  2021             6                 0   \n",
       "6496 2021-09-12  September  2021             6                 0   \n",
       "6497 2021-09-26  September  2021             6                 0   \n",
       "6498 2021-10-17    October  2021             6                 0   \n",
       "6499 2021-12-03   December  2021             6                 0   \n",
       "\n",
       "      subscription_fee  \n",
       "0                  199  \n",
       "1                  199  \n",
       "2                  199  \n",
       "3                  199  \n",
       "4                  199  \n",
       "...                ...  \n",
       "6495               199  \n",
       "6496               199  \n",
       "6497               199  \n",
       "6498               199  \n",
       "6499               199  \n",
       "\n",
       "[6500 rows x 13 columns]"
      ]
     },
     "execution_count": 34,
     "metadata": {},
     "output_type": "execute_result"
    }
   ],
   "source": [
    "subscription_data"
   ]
  },
  {
   "cell_type": "markdown",
   "id": "2e87f0eb",
   "metadata": {},
   "source": [
    "#### 4.3 Визуализируйте информацию о расстоянии и времени поездок для пользователей обеих категорий."
   ]
  },
  {
   "cell_type": "code",
   "execution_count": 35,
   "id": "759605cc",
   "metadata": {},
   "outputs": [
    {
     "data": {
      "image/png": "[encoded data removed]",
      "text/plain": [
       "<Figure size 540x360 with 1 Axes>"
      ]
     },
     "metadata": {
      "needs_background": "light"
     },
     "output_type": "display_data"
    },
    {
     "data": {
      "image/png": "[encoded data removed]",
      "text/plain": [
       "<Figure size 540x360 with 1 Axes>"
      ]
     },
     "metadata": {
      "needs_background": "light"
     },
     "output_type": "display_data"
    },
    {
     "data": {
      "text/plain": [
       "<Figure size 432x288 with 0 Axes>"
      ]
     },
     "metadata": {},
     "output_type": "display_data"
    }
   ],
   "source": [
    "fig1, ax1 = plt.subplots(figsize=(7.5, 5))\n",
    "ax1.hist(no_subscription_data['distance'], label='Без подписки', bins = 10)\n",
    "ax1.hist(subscription_data['distance'], label='С подпиской')\n",
    "ax1.set_title('Распределение расстояний')\n",
    "ax1.set_xlabel('Расстояние')\n",
    "ax1.set_ylabel('Количество поездок')\n",
    "ax1.legend()\n",
    "\n",
    "fig2, ax2 = plt.subplots(figsize=(7.5, 5))\n",
    "ax2.hist(no_subscription_data['duration'], label='Без подписки', bins = 10)\n",
    "ax2.hist(subscription_data['duration'], label='С подпиской')\n",
    "ax2.set_title('Распределение времени поездок')\n",
    "ax2.set_xlabel('Время поездки (мин)')\n",
    "ax2.set_ylabel('Количество поездок')\n",
    "ax2.legend()\n",
    "\n",
    "plt.figure(1)\n",
    "plt.show()\n",
    "\n",
    "plt.figure(2)\n",
    "plt.show()"
   ]
  },
  {
   "cell_type": "code",
   "execution_count": 36,
   "id": "fbb6be4f",
   "metadata": {},
   "outputs": [
    {
     "name": "stdout",
     "output_type": "stream",
     "text": [
      "Статистика для данных без подписки:\n",
      "Минимум: 0.86\n",
      "Максимум: 7211.01\n",
      "Среднее: 3045.495283540802\n",
      "Медиана: 3114.6499999999996\n",
      "\n",
      "Статистика для данных с подпиской:\n",
      "Минимум: 244.21\n",
      "Максимум: 5699.77\n",
      "Среднее: 3115.445430769231\n",
      "Медиана: 3148.6400000000003\n",
      "\n",
      "Статистика для данных без подписки:\n",
      "Минимум: 0.5\n",
      "Максимум: 34.95\n",
      "Среднее: 17.390899896265562\n",
      "Медиана: 17.33\n",
      "\n",
      "Статистика для данных с подпиской:\n",
      "Минимум: 3.76\n",
      "Максимум: 40.82\n",
      "Среднее: 18.542016923076922\n",
      "Медиана: 18.18\n"
     ]
    },
    {
     "data": {
      "image/png": "[encoded data removed]",
      "text/plain": [
       "<Figure size 432x288 with 1 Axes>"
      ]
     },
     "metadata": {
      "needs_background": "light"
     },
     "output_type": "display_data"
    },
    {
     "data": {
      "image/png": "[encoded data removed]",
      "text/plain": [
       "<Figure size 432x288 with 1 Axes>"
      ]
     },
     "metadata": {
      "needs_background": "light"
     },
     "output_type": "display_data"
    }
   ],
   "source": [
    "plt.hist(no_subscription_data['distance'], label='Без подписки', bins=10)\n",
    "plt.hist(subscription_data['distance'], label='С подпиской', bins=10)\n",
    "plt.xlabel('Расстояние (км)')\n",
    "plt.ylabel('Количество поездок')\n",
    "plt.title('Распределение расстояний')\n",
    "plt.legend()\n",
    "\n",
    "plt.axvline(no_subscription_data['distance'].min(), color='red', linestyle='--')\n",
    "plt.axvline(no_subscription_data['distance'].max(), color='red', linestyle='--')\n",
    "\n",
    "print('Статистика для данных без подписки:')\n",
    "print('Минимум:', no_subscription_data['distance'].min())\n",
    "print('Максимум:', no_subscription_data['distance'].max())\n",
    "print('Среднее:', no_subscription_data['distance'].mean())\n",
    "print('Медиана:', no_subscription_data['distance'].median())\n",
    "\n",
    "print('\\nСтатистика для данных с подпиской:')\n",
    "print('Минимум:', subscription_data['distance'].min())\n",
    "print('Максимум:', subscription_data['distance'].max())\n",
    "print('Среднее:', subscription_data['distance'].mean())\n",
    "print('Медиана:', subscription_data['distance'].median())\n",
    "\n",
    "plt.figure()\n",
    "plt.hist(no_subscription_data['duration'], label='Без подписки', bins=10)\n",
    "plt.hist(subscription_data['duration'], label='С подпиской', bins=10)\n",
    "plt.xlabel('Продолжительность поездки (мин)')\n",
    "plt.ylabel('Количество поездок')\n",
    "plt.title('Распределение времени поездок')\n",
    "plt.legend()\n",
    "\n",
    "plt.axvline(no_subscription_data['duration'].min(), color='red', linestyle='--')\n",
    "plt.axvline(no_subscription_data['duration'].max(), color='red', linestyle='--')\n",
    "\n",
    "print('\\nСтатистика для данных без подписки:')\n",
    "print('Минимум:', no_subscription_data['duration'].min())\n",
    "print('Максимум:', no_subscription_data['duration'].max())\n",
    "print('Среднее:', no_subscription_data['duration'].mean())\n",
    "print('Медиана:', no_subscription_data['duration'].median())\n",
    "\n",
    "print('\\nСтатистика для данных с подпиской:')\n",
    "print('Минимум:', subscription_data['duration'].min())\n",
    "print('Максимум:', subscription_data['duration'].max())\n",
    "print('Среднее:', subscription_data['duration'].mean())\n",
    "print('Медиана:', subscription_data['duration'].median())\n",
    "\n",
    "plt.show()"
   ]
  },
  {
   "cell_type": "code",
   "execution_count": 37,
   "id": "95b50978",
   "metadata": {},
   "outputs": [
    {
     "data": {
      "image/png": "[encoded data removed]",
      "text/plain": [
       "<Figure size 432x288 with 1 Axes>"
      ]
     },
     "metadata": {
      "needs_background": "light"
     },
     "output_type": "display_data"
    },
    {
     "data": {
      "image/png": "[encoded data removed]",
      "text/plain": [
       "<Figure size 432x288 with 1 Axes>"
      ]
     },
     "metadata": {
      "needs_background": "light"
     },
     "output_type": "display_data"
    }
   ],
   "source": [
    "plt.boxplot([no_subscription_data['distance'], subscription_data['distance']], labels=['Без подписки', 'С подпиской'])\n",
    "plt.xlabel('Тип подписки')\n",
    "plt.ylabel('Расстояние (км)')\n",
    "plt.title('Распределение расстояний')\n",
    "\n",
    "plt.figure()\n",
    "plt.boxplot([no_subscription_data['duration'], subscription_data['duration']], labels=['Без подписки', 'С подпиской'])\n",
    "plt.xlabel('Тип подписки')\n",
    "plt.ylabel('Продолжительность поездки (мин)')\n",
    "plt.title('Распределение времени поездок')\n",
    "\n",
    "plt.show()"
   ]
  },
  {
   "cell_type": "markdown",
   "id": "5bd7fcac",
   "metadata": {},
   "source": [
    "\n",
    "Статистика для данных без подписки:\n",
    "Минимум: 0.86\n",
    "Максимум: 7211.01\n",
    "Среднее: 3045.495283540802\n",
    "Медиана: 3114.6499999999996\n",
    "\n",
    "Статистика для данных с подпиской:\n",
    "Минимум: 244.21\n",
    "Максимум: 5699.77\n",
    "Среднее: 3115.445430769231\n",
    "Медиана: 3148.6400000000003\n",
    "\n",
    "Статистика для данных без подписки:\n",
    "Минимум: 0.5\n",
    "Максимум: 34.95\n",
    "Среднее: 17.390899896265562\n",
    "Медиана: 17.33\n",
    "\n",
    "Статистика для данных с подпиской:\n",
    "Минимум: 3.76\n",
    "Максимум: 40.82\n",
    "Среднее: 18.542016923076922\n",
    "Медиана: 18.18\n",
    "    \n",
    "Данные имеют нормальное распределение\n"
   ]
  },
  {
   "cell_type": "markdown",
   "id": "c548c57a",
   "metadata": {},
   "source": [
    "Кол-во людей с подпиской больше и кол-во поездкок соотвестнно больше\n",
    "Без подписки люди ездят дольше и дальше"
   ]
  },
  {
   "cell_type": "markdown",
   "id": "402d620f",
   "metadata": {},
   "source": [
    "#### Шаг 5. Подсчёт выручки"
   ]
  },
  {
   "cell_type": "markdown",
   "id": "b9bee8e6",
   "metadata": {},
   "source": [
    "#### 5.1 Создайте датафрейм с агрегированными данными о поездках на основе датафрейма с объединёнными данными из шага 4: найдите суммарное расстояние, количество поездок и суммарное время для каждого пользователя за каждый месяц."
   ]
  },
  {
   "cell_type": "code",
   "execution_count": 38,
   "id": "d6dc9d73",
   "metadata": {},
   "outputs": [
    {
     "data": {
      "text/html": [
       "<div>\n",
       "<style scoped>\n",
       "    .dataframe tbody tr th:only-of-type {\n",
       "        vertical-align: middle;\n",
       "    }\n",
       "\n",
       "    .dataframe tbody tr th {\n",
       "        vertical-align: top;\n",
       "    }\n",
       "\n",
       "    .dataframe thead th {\n",
       "        text-align: right;\n",
       "    }\n",
       "</style>\n",
       "<table border=\"1\" class=\"dataframe\">\n",
       "  <thead>\n",
       "    <tr style=\"text-align: right;\">\n",
       "      <th></th>\n",
       "      <th>user_id</th>\n",
       "      <th>name</th>\n",
       "      <th>age</th>\n",
       "      <th>city</th>\n",
       "      <th>subscription_type</th>\n",
       "      <th>distance</th>\n",
       "      <th>duration</th>\n",
       "      <th>date</th>\n",
       "      <th>month</th>\n",
       "      <th>year</th>\n",
       "      <th>minute_price</th>\n",
       "      <th>start_ride_price</th>\n",
       "      <th>subscription_fee</th>\n",
       "    </tr>\n",
       "  </thead>\n",
       "  <tbody>\n",
       "    <tr>\n",
       "      <th>0</th>\n",
       "      <td>1</td>\n",
       "      <td>Кира</td>\n",
       "      <td>22</td>\n",
       "      <td>Тюмень</td>\n",
       "      <td>ultra</td>\n",
       "      <td>4409.92</td>\n",
       "      <td>25.60</td>\n",
       "      <td>2021-01-01</td>\n",
       "      <td>January</td>\n",
       "      <td>2021</td>\n",
       "      <td>6</td>\n",
       "      <td>0</td>\n",
       "      <td>199</td>\n",
       "    </tr>\n",
       "    <tr>\n",
       "      <th>1</th>\n",
       "      <td>1</td>\n",
       "      <td>Кира</td>\n",
       "      <td>22</td>\n",
       "      <td>Тюмень</td>\n",
       "      <td>ultra</td>\n",
       "      <td>2617.59</td>\n",
       "      <td>15.82</td>\n",
       "      <td>2021-01-18</td>\n",
       "      <td>January</td>\n",
       "      <td>2021</td>\n",
       "      <td>6</td>\n",
       "      <td>0</td>\n",
       "      <td>199</td>\n",
       "    </tr>\n",
       "    <tr>\n",
       "      <th>2</th>\n",
       "      <td>1</td>\n",
       "      <td>Кира</td>\n",
       "      <td>22</td>\n",
       "      <td>Тюмень</td>\n",
       "      <td>ultra</td>\n",
       "      <td>754.16</td>\n",
       "      <td>6.23</td>\n",
       "      <td>2021-04-20</td>\n",
       "      <td>April</td>\n",
       "      <td>2021</td>\n",
       "      <td>6</td>\n",
       "      <td>0</td>\n",
       "      <td>199</td>\n",
       "    </tr>\n",
       "    <tr>\n",
       "      <th>3</th>\n",
       "      <td>1</td>\n",
       "      <td>Кира</td>\n",
       "      <td>22</td>\n",
       "      <td>Тюмень</td>\n",
       "      <td>ultra</td>\n",
       "      <td>2694.78</td>\n",
       "      <td>18.51</td>\n",
       "      <td>2021-08-11</td>\n",
       "      <td>August</td>\n",
       "      <td>2021</td>\n",
       "      <td>6</td>\n",
       "      <td>0</td>\n",
       "      <td>199</td>\n",
       "    </tr>\n",
       "    <tr>\n",
       "      <th>4</th>\n",
       "      <td>1</td>\n",
       "      <td>Кира</td>\n",
       "      <td>22</td>\n",
       "      <td>Тюмень</td>\n",
       "      <td>ultra</td>\n",
       "      <td>4028.69</td>\n",
       "      <td>26.27</td>\n",
       "      <td>2021-08-28</td>\n",
       "      <td>August</td>\n",
       "      <td>2021</td>\n",
       "      <td>6</td>\n",
       "      <td>0</td>\n",
       "      <td>199</td>\n",
       "    </tr>\n",
       "  </tbody>\n",
       "</table>\n",
       "</div>"
      ],
      "text/plain": [
       "   user_id  name  age    city subscription_type  distance  duration  \\\n",
       "0        1  Кира   22  Тюмень             ultra   4409.92     25.60   \n",
       "1        1  Кира   22  Тюмень             ultra   2617.59     15.82   \n",
       "2        1  Кира   22  Тюмень             ultra    754.16      6.23   \n",
       "3        1  Кира   22  Тюмень             ultra   2694.78     18.51   \n",
       "4        1  Кира   22  Тюмень             ultra   4028.69     26.27   \n",
       "\n",
       "        date    month  year  minute_price  start_ride_price  subscription_fee  \n",
       "0 2021-01-01  January  2021             6                 0               199  \n",
       "1 2021-01-18  January  2021             6                 0               199  \n",
       "2 2021-04-20    April  2021             6                 0               199  \n",
       "3 2021-08-11   August  2021             6                 0               199  \n",
       "4 2021-08-28   August  2021             6                 0               199  "
      ]
     },
     "execution_count": 38,
     "metadata": {},
     "output_type": "execute_result"
    }
   ],
   "source": [
    "combined_data.head()"
   ]
  },
  {
   "cell_type": "code",
   "execution_count": 39,
   "id": "220a5a0c",
   "metadata": {},
   "outputs": [],
   "source": [
    "combined_data['duration'] = np.ceil(combined_data['duration']) "
   ]
  },
  {
   "cell_type": "code",
   "execution_count": 40,
   "id": "9e450416",
   "metadata": {},
   "outputs": [
    {
     "name": "stdout",
     "output_type": "stream",
     "text": [
      "Количество пропусков в общем датасете:\n",
      "user_id              0\n",
      "name                 0\n",
      "age                  0\n",
      "city                 0\n",
      "subscription_type    0\n",
      "distance             0\n",
      "duration             0\n",
      "date                 0\n",
      "month                0\n",
      "year                 0\n",
      "minute_price         0\n",
      "start_ride_price     0\n",
      "subscription_fee     0\n",
      "dtype: int64\n"
     ]
    }
   ],
   "source": [
    "print('Количество пропусков в общем датасете:')\n",
    "print(combined_data.isnull().sum())"
   ]
  },
  {
   "cell_type": "code",
   "execution_count": 41,
   "id": "b3ca2685",
   "metadata": {},
   "outputs": [
    {
     "data": {
      "text/html": [
       "<div>\n",
       "<style scoped>\n",
       "    .dataframe tbody tr th:only-of-type {\n",
       "        vertical-align: middle;\n",
       "    }\n",
       "\n",
       "    .dataframe tbody tr th {\n",
       "        vertical-align: top;\n",
       "    }\n",
       "\n",
       "    .dataframe thead th {\n",
       "        text-align: right;\n",
       "    }\n",
       "</style>\n",
       "<table border=\"1\" class=\"dataframe\">\n",
       "  <thead>\n",
       "    <tr style=\"text-align: right;\">\n",
       "      <th></th>\n",
       "      <th></th>\n",
       "      <th>total_distance</th>\n",
       "      <th>total_duration</th>\n",
       "      <th>num_trips</th>\n",
       "    </tr>\n",
       "    <tr>\n",
       "      <th>user_id</th>\n",
       "      <th>month</th>\n",
       "      <th></th>\n",
       "      <th></th>\n",
       "      <th></th>\n",
       "    </tr>\n",
       "  </thead>\n",
       "  <tbody>\n",
       "    <tr>\n",
       "      <th rowspan=\"5\" valign=\"top\">1</th>\n",
       "      <th>April</th>\n",
       "      <td>754.16</td>\n",
       "      <td>7.0</td>\n",
       "      <td>1</td>\n",
       "    </tr>\n",
       "    <tr>\n",
       "      <th>August</th>\n",
       "      <td>6723.47</td>\n",
       "      <td>46.0</td>\n",
       "      <td>2</td>\n",
       "    </tr>\n",
       "    <tr>\n",
       "      <th>December</th>\n",
       "      <td>6751.63</td>\n",
       "      <td>28.0</td>\n",
       "      <td>2</td>\n",
       "    </tr>\n",
       "    <tr>\n",
       "      <th>January</th>\n",
       "      <td>7027.51</td>\n",
       "      <td>42.0</td>\n",
       "      <td>2</td>\n",
       "    </tr>\n",
       "    <tr>\n",
       "      <th>November</th>\n",
       "      <td>7003.50</td>\n",
       "      <td>56.0</td>\n",
       "      <td>3</td>\n",
       "    </tr>\n",
       "    <tr>\n",
       "      <th>...</th>\n",
       "      <th>...</th>\n",
       "      <td>...</td>\n",
       "      <td>...</td>\n",
       "      <td>...</td>\n",
       "    </tr>\n",
       "    <tr>\n",
       "      <th rowspan=\"5\" valign=\"top\">1534</th>\n",
       "      <th>February</th>\n",
       "      <td>2103.91</td>\n",
       "      <td>14.0</td>\n",
       "      <td>1</td>\n",
       "    </tr>\n",
       "    <tr>\n",
       "      <th>January</th>\n",
       "      <td>4678.42</td>\n",
       "      <td>16.0</td>\n",
       "      <td>1</td>\n",
       "    </tr>\n",
       "    <tr>\n",
       "      <th>June</th>\n",
       "      <td>3409.47</td>\n",
       "      <td>26.0</td>\n",
       "      <td>2</td>\n",
       "    </tr>\n",
       "    <tr>\n",
       "      <th>November</th>\n",
       "      <td>13350.02</td>\n",
       "      <td>78.0</td>\n",
       "      <td>4</td>\n",
       "    </tr>\n",
       "    <tr>\n",
       "      <th>September</th>\n",
       "      <td>4928.17</td>\n",
       "      <td>23.0</td>\n",
       "      <td>1</td>\n",
       "    </tr>\n",
       "  </tbody>\n",
       "</table>\n",
       "<p>11331 rows × 3 columns</p>\n",
       "</div>"
      ],
      "text/plain": [
       "                   total_distance  total_duration  num_trips\n",
       "user_id month                                               \n",
       "1       April              754.16             7.0          1\n",
       "        August            6723.47            46.0          2\n",
       "        December          6751.63            28.0          2\n",
       "        January           7027.51            42.0          2\n",
       "        November          7003.50            56.0          3\n",
       "...                           ...             ...        ...\n",
       "1534    February          2103.91            14.0          1\n",
       "        January           4678.42            16.0          1\n",
       "        June              3409.47            26.0          2\n",
       "        November         13350.02            78.0          4\n",
       "        September         4928.17            23.0          1\n",
       "\n",
       "[11331 rows x 3 columns]"
      ]
     },
     "execution_count": 41,
     "metadata": {},
     "output_type": "execute_result"
    }
   ],
   "source": [
    "\n",
    "aggregated_data = combined_data.pivot_table(index = ['user_id', 'month'], values = ['distance', 'duration'], aggfunc = 'sum')\n",
    "aggregated_data.columns = ['total_distance', 'total_duration']\n",
    "aggregated_data['num_trips'] = combined_data.groupby(['user_id', 'month'])['distance'].count()\n",
    "aggregated_data"
   ]
  },
  {
   "cell_type": "code",
   "execution_count": 42,
   "id": "356033f6",
   "metadata": {},
   "outputs": [
    {
     "name": "stdout",
     "output_type": "stream",
     "text": [
      "Количество пропусков в столбце total_distance: 0\n",
      "Количество пропусков в столбце total_duration: 0\n",
      "Количество пропусков в столбце num_trips: 0\n"
     ]
    }
   ],
   "source": [
    "print('Количество пропусков в столбце total_distance:', aggregated_data['total_distance'].isnull().sum())\n",
    "print('Количество пропусков в столбце total_duration:', aggregated_data['total_duration'].isnull().sum())\n",
    "print('Количество пропусков в столбце num_trips:', aggregated_data['num_trips'].isnull().sum())"
   ]
  },
  {
   "cell_type": "markdown",
   "id": "3840d1e3",
   "metadata": {},
   "source": [
    "Создали таблицу с кол-во поездок в месяц, растоянние и время проведенненое в пути"
   ]
  },
  {
   "cell_type": "code",
   "execution_count": 43,
   "id": "8e4a7e35",
   "metadata": {},
   "outputs": [
    {
     "data": {
      "text/html": [
       "<div>\n",
       "<style scoped>\n",
       "    .dataframe tbody tr th:only-of-type {\n",
       "        vertical-align: middle;\n",
       "    }\n",
       "\n",
       "    .dataframe tbody tr th {\n",
       "        vertical-align: top;\n",
       "    }\n",
       "\n",
       "    .dataframe thead th {\n",
       "        text-align: right;\n",
       "    }\n",
       "</style>\n",
       "<table border=\"1\" class=\"dataframe\">\n",
       "  <thead>\n",
       "    <tr style=\"text-align: right;\">\n",
       "      <th></th>\n",
       "      <th></th>\n",
       "      <th>total_distance</th>\n",
       "      <th>total_duration</th>\n",
       "      <th>num_trips</th>\n",
       "    </tr>\n",
       "    <tr>\n",
       "      <th>user_id</th>\n",
       "      <th>month</th>\n",
       "      <th></th>\n",
       "      <th></th>\n",
       "      <th></th>\n",
       "    </tr>\n",
       "  </thead>\n",
       "  <tbody>\n",
       "    <tr>\n",
       "      <th rowspan=\"5\" valign=\"top\">1</th>\n",
       "      <th>April</th>\n",
       "      <td>754.16</td>\n",
       "      <td>7.0</td>\n",
       "      <td>1</td>\n",
       "    </tr>\n",
       "    <tr>\n",
       "      <th>August</th>\n",
       "      <td>6723.47</td>\n",
       "      <td>46.0</td>\n",
       "      <td>2</td>\n",
       "    </tr>\n",
       "    <tr>\n",
       "      <th>December</th>\n",
       "      <td>6751.63</td>\n",
       "      <td>28.0</td>\n",
       "      <td>2</td>\n",
       "    </tr>\n",
       "    <tr>\n",
       "      <th>January</th>\n",
       "      <td>7027.51</td>\n",
       "      <td>42.0</td>\n",
       "      <td>2</td>\n",
       "    </tr>\n",
       "    <tr>\n",
       "      <th>November</th>\n",
       "      <td>7003.50</td>\n",
       "      <td>56.0</td>\n",
       "      <td>3</td>\n",
       "    </tr>\n",
       "    <tr>\n",
       "      <th>...</th>\n",
       "      <th>...</th>\n",
       "      <td>...</td>\n",
       "      <td>...</td>\n",
       "      <td>...</td>\n",
       "    </tr>\n",
       "    <tr>\n",
       "      <th rowspan=\"5\" valign=\"top\">1534</th>\n",
       "      <th>February</th>\n",
       "      <td>2103.91</td>\n",
       "      <td>14.0</td>\n",
       "      <td>1</td>\n",
       "    </tr>\n",
       "    <tr>\n",
       "      <th>January</th>\n",
       "      <td>4678.42</td>\n",
       "      <td>16.0</td>\n",
       "      <td>1</td>\n",
       "    </tr>\n",
       "    <tr>\n",
       "      <th>June</th>\n",
       "      <td>3409.47</td>\n",
       "      <td>26.0</td>\n",
       "      <td>2</td>\n",
       "    </tr>\n",
       "    <tr>\n",
       "      <th>November</th>\n",
       "      <td>13350.02</td>\n",
       "      <td>78.0</td>\n",
       "      <td>4</td>\n",
       "    </tr>\n",
       "    <tr>\n",
       "      <th>September</th>\n",
       "      <td>4928.17</td>\n",
       "      <td>23.0</td>\n",
       "      <td>1</td>\n",
       "    </tr>\n",
       "  </tbody>\n",
       "</table>\n",
       "<p>11331 rows × 3 columns</p>\n",
       "</div>"
      ],
      "text/plain": [
       "                   total_distance  total_duration  num_trips\n",
       "user_id month                                               \n",
       "1       April              754.16             7.0          1\n",
       "        August            6723.47            46.0          2\n",
       "        December          6751.63            28.0          2\n",
       "        January           7027.51            42.0          2\n",
       "        November          7003.50            56.0          3\n",
       "...                           ...             ...        ...\n",
       "1534    February          2103.91            14.0          1\n",
       "        January           4678.42            16.0          1\n",
       "        June              3409.47            26.0          2\n",
       "        November         13350.02            78.0          4\n",
       "        September         4928.17            23.0          1\n",
       "\n",
       "[11331 rows x 3 columns]"
      ]
     },
     "execution_count": 43,
     "metadata": {},
     "output_type": "execute_result"
    }
   ],
   "source": [
    "aggregated_data"
   ]
  },
  {
   "cell_type": "markdown",
   "id": "f44e10d1",
   "metadata": {},
   "source": [
    "#### 5.2 В этот же датафрейм добавьте столбец с помесячной выручкой, которую принёс каждый пользователь. Для этого обратитесь к информации об условиях оплаты для подписчиков и тех, у кого нет подписки. Продолжительность каждой поездки в каждой строке исходного датафрейма для подсчёта стоимости округляется до следующего целого числа: например, значения \n",
    "25.3, \n",
    "25.5 и \n",
    "26.0\n",
    "должны быть преобразованы к \n",
    "26\n",
    "."
   ]
  },
  {
   "cell_type": "code",
   "execution_count": 44,
   "id": "97a4cf83",
   "metadata": {},
   "outputs": [
    {
     "data": {
      "text/html": [
       "<div>\n",
       "<style scoped>\n",
       "    .dataframe tbody tr th:only-of-type {\n",
       "        vertical-align: middle;\n",
       "    }\n",
       "\n",
       "    .dataframe tbody tr th {\n",
       "        vertical-align: top;\n",
       "    }\n",
       "\n",
       "    .dataframe thead th {\n",
       "        text-align: right;\n",
       "    }\n",
       "</style>\n",
       "<table border=\"1\" class=\"dataframe\">\n",
       "  <thead>\n",
       "    <tr style=\"text-align: right;\">\n",
       "      <th></th>\n",
       "      <th>user_id</th>\n",
       "      <th>month</th>\n",
       "      <th>total_distance</th>\n",
       "      <th>total_duration</th>\n",
       "      <th>num_trips</th>\n",
       "      <th>minute_price</th>\n",
       "      <th>start_ride_price</th>\n",
       "      <th>subscription_fee</th>\n",
       "      <th>subscription_type</th>\n",
       "    </tr>\n",
       "  </thead>\n",
       "  <tbody>\n",
       "    <tr>\n",
       "      <th>0</th>\n",
       "      <td>1</td>\n",
       "      <td>April</td>\n",
       "      <td>754.16</td>\n",
       "      <td>7.0</td>\n",
       "      <td>1</td>\n",
       "      <td>6</td>\n",
       "      <td>0</td>\n",
       "      <td>199</td>\n",
       "      <td>ultra</td>\n",
       "    </tr>\n",
       "    <tr>\n",
       "      <th>1</th>\n",
       "      <td>1</td>\n",
       "      <td>August</td>\n",
       "      <td>6723.47</td>\n",
       "      <td>46.0</td>\n",
       "      <td>2</td>\n",
       "      <td>6</td>\n",
       "      <td>0</td>\n",
       "      <td>199</td>\n",
       "      <td>ultra</td>\n",
       "    </tr>\n",
       "    <tr>\n",
       "      <th>2</th>\n",
       "      <td>1</td>\n",
       "      <td>August</td>\n",
       "      <td>6723.47</td>\n",
       "      <td>46.0</td>\n",
       "      <td>2</td>\n",
       "      <td>6</td>\n",
       "      <td>0</td>\n",
       "      <td>199</td>\n",
       "      <td>ultra</td>\n",
       "    </tr>\n",
       "    <tr>\n",
       "      <th>3</th>\n",
       "      <td>1</td>\n",
       "      <td>December</td>\n",
       "      <td>6751.63</td>\n",
       "      <td>28.0</td>\n",
       "      <td>2</td>\n",
       "      <td>6</td>\n",
       "      <td>0</td>\n",
       "      <td>199</td>\n",
       "      <td>ultra</td>\n",
       "    </tr>\n",
       "    <tr>\n",
       "      <th>4</th>\n",
       "      <td>1</td>\n",
       "      <td>December</td>\n",
       "      <td>6751.63</td>\n",
       "      <td>28.0</td>\n",
       "      <td>2</td>\n",
       "      <td>6</td>\n",
       "      <td>0</td>\n",
       "      <td>199</td>\n",
       "      <td>ultra</td>\n",
       "    </tr>\n",
       "    <tr>\n",
       "      <th>...</th>\n",
       "      <td>...</td>\n",
       "      <td>...</td>\n",
       "      <td>...</td>\n",
       "      <td>...</td>\n",
       "      <td>...</td>\n",
       "      <td>...</td>\n",
       "      <td>...</td>\n",
       "      <td>...</td>\n",
       "      <td>...</td>\n",
       "    </tr>\n",
       "    <tr>\n",
       "      <th>18063</th>\n",
       "      <td>1534</td>\n",
       "      <td>November</td>\n",
       "      <td>13350.02</td>\n",
       "      <td>78.0</td>\n",
       "      <td>4</td>\n",
       "      <td>8</td>\n",
       "      <td>50</td>\n",
       "      <td>0</td>\n",
       "      <td>free</td>\n",
       "    </tr>\n",
       "    <tr>\n",
       "      <th>18064</th>\n",
       "      <td>1534</td>\n",
       "      <td>November</td>\n",
       "      <td>13350.02</td>\n",
       "      <td>78.0</td>\n",
       "      <td>4</td>\n",
       "      <td>8</td>\n",
       "      <td>50</td>\n",
       "      <td>0</td>\n",
       "      <td>free</td>\n",
       "    </tr>\n",
       "    <tr>\n",
       "      <th>18065</th>\n",
       "      <td>1534</td>\n",
       "      <td>November</td>\n",
       "      <td>13350.02</td>\n",
       "      <td>78.0</td>\n",
       "      <td>4</td>\n",
       "      <td>8</td>\n",
       "      <td>50</td>\n",
       "      <td>0</td>\n",
       "      <td>free</td>\n",
       "    </tr>\n",
       "    <tr>\n",
       "      <th>18066</th>\n",
       "      <td>1534</td>\n",
       "      <td>November</td>\n",
       "      <td>13350.02</td>\n",
       "      <td>78.0</td>\n",
       "      <td>4</td>\n",
       "      <td>8</td>\n",
       "      <td>50</td>\n",
       "      <td>0</td>\n",
       "      <td>free</td>\n",
       "    </tr>\n",
       "    <tr>\n",
       "      <th>18067</th>\n",
       "      <td>1534</td>\n",
       "      <td>September</td>\n",
       "      <td>4928.17</td>\n",
       "      <td>23.0</td>\n",
       "      <td>1</td>\n",
       "      <td>8</td>\n",
       "      <td>50</td>\n",
       "      <td>0</td>\n",
       "      <td>free</td>\n",
       "    </tr>\n",
       "  </tbody>\n",
       "</table>\n",
       "<p>18068 rows × 9 columns</p>\n",
       "</div>"
      ],
      "text/plain": [
       "       user_id      month  total_distance  total_duration  num_trips  \\\n",
       "0            1      April          754.16             7.0          1   \n",
       "1            1     August         6723.47            46.0          2   \n",
       "2            1     August         6723.47            46.0          2   \n",
       "3            1   December         6751.63            28.0          2   \n",
       "4            1   December         6751.63            28.0          2   \n",
       "...        ...        ...             ...             ...        ...   \n",
       "18063     1534   November        13350.02            78.0          4   \n",
       "18064     1534   November        13350.02            78.0          4   \n",
       "18065     1534   November        13350.02            78.0          4   \n",
       "18066     1534   November        13350.02            78.0          4   \n",
       "18067     1534  September         4928.17            23.0          1   \n",
       "\n",
       "       minute_price  start_ride_price  subscription_fee subscription_type  \n",
       "0                 6                 0               199             ultra  \n",
       "1                 6                 0               199             ultra  \n",
       "2                 6                 0               199             ultra  \n",
       "3                 6                 0               199             ultra  \n",
       "4                 6                 0               199             ultra  \n",
       "...             ...               ...               ...               ...  \n",
       "18063             8                50                 0              free  \n",
       "18064             8                50                 0              free  \n",
       "18065             8                50                 0              free  \n",
       "18066             8                50                 0              free  \n",
       "18067             8                50                 0              free  \n",
       "\n",
       "[18068 rows x 9 columns]"
      ]
     },
     "execution_count": 44,
     "metadata": {},
     "output_type": "execute_result"
    }
   ],
   "source": [
    "aggregated_data = aggregated_data.merge(combined_data[['user_id', 'month', 'minute_price', 'start_ride_price', 'subscription_fee', 'subscription_type']], on=['user_id', 'month'], how='left')\n",
    "aggregated_data.drop_duplicates()\n",
    "aggregated_data"
   ]
  },
  {
   "cell_type": "code",
   "execution_count": 45,
   "id": "b02643de",
   "metadata": {},
   "outputs": [
    {
     "data": {
      "text/html": [
       "<div>\n",
       "<style scoped>\n",
       "    .dataframe tbody tr th:only-of-type {\n",
       "        vertical-align: middle;\n",
       "    }\n",
       "\n",
       "    .dataframe tbody tr th {\n",
       "        vertical-align: top;\n",
       "    }\n",
       "\n",
       "    .dataframe thead th {\n",
       "        text-align: right;\n",
       "    }\n",
       "</style>\n",
       "<table border=\"1\" class=\"dataframe\">\n",
       "  <thead>\n",
       "    <tr style=\"text-align: right;\">\n",
       "      <th></th>\n",
       "      <th>user_id</th>\n",
       "      <th>month</th>\n",
       "      <th>total_distance</th>\n",
       "      <th>total_duration</th>\n",
       "      <th>num_trips</th>\n",
       "      <th>minute_price</th>\n",
       "      <th>start_ride_price</th>\n",
       "      <th>subscription_fee</th>\n",
       "      <th>subscription_type</th>\n",
       "    </tr>\n",
       "  </thead>\n",
       "  <tbody>\n",
       "    <tr>\n",
       "      <th>18018</th>\n",
       "      <td>1531</td>\n",
       "      <td>June</td>\n",
       "      <td>4041.88</td>\n",
       "      <td>28.0</td>\n",
       "      <td>2</td>\n",
       "      <td>8</td>\n",
       "      <td>50</td>\n",
       "      <td>0</td>\n",
       "      <td>free</td>\n",
       "    </tr>\n",
       "    <tr>\n",
       "      <th>18019</th>\n",
       "      <td>1531</td>\n",
       "      <td>June</td>\n",
       "      <td>4041.88</td>\n",
       "      <td>28.0</td>\n",
       "      <td>2</td>\n",
       "      <td>8</td>\n",
       "      <td>50</td>\n",
       "      <td>0</td>\n",
       "      <td>free</td>\n",
       "    </tr>\n",
       "    <tr>\n",
       "      <th>18020</th>\n",
       "      <td>1531</td>\n",
       "      <td>May</td>\n",
       "      <td>13526.16</td>\n",
       "      <td>73.0</td>\n",
       "      <td>4</td>\n",
       "      <td>8</td>\n",
       "      <td>50</td>\n",
       "      <td>0</td>\n",
       "      <td>free</td>\n",
       "    </tr>\n",
       "    <tr>\n",
       "      <th>18021</th>\n",
       "      <td>1531</td>\n",
       "      <td>May</td>\n",
       "      <td>13526.16</td>\n",
       "      <td>73.0</td>\n",
       "      <td>4</td>\n",
       "      <td>8</td>\n",
       "      <td>50</td>\n",
       "      <td>0</td>\n",
       "      <td>free</td>\n",
       "    </tr>\n",
       "    <tr>\n",
       "      <th>18022</th>\n",
       "      <td>1531</td>\n",
       "      <td>May</td>\n",
       "      <td>13526.16</td>\n",
       "      <td>73.0</td>\n",
       "      <td>4</td>\n",
       "      <td>8</td>\n",
       "      <td>50</td>\n",
       "      <td>0</td>\n",
       "      <td>free</td>\n",
       "    </tr>\n",
       "    <tr>\n",
       "      <th>18023</th>\n",
       "      <td>1531</td>\n",
       "      <td>May</td>\n",
       "      <td>13526.16</td>\n",
       "      <td>73.0</td>\n",
       "      <td>4</td>\n",
       "      <td>8</td>\n",
       "      <td>50</td>\n",
       "      <td>0</td>\n",
       "      <td>free</td>\n",
       "    </tr>\n",
       "    <tr>\n",
       "      <th>18024</th>\n",
       "      <td>1531</td>\n",
       "      <td>November</td>\n",
       "      <td>5889.51</td>\n",
       "      <td>35.0</td>\n",
       "      <td>2</td>\n",
       "      <td>8</td>\n",
       "      <td>50</td>\n",
       "      <td>0</td>\n",
       "      <td>free</td>\n",
       "    </tr>\n",
       "    <tr>\n",
       "      <th>18025</th>\n",
       "      <td>1531</td>\n",
       "      <td>November</td>\n",
       "      <td>5889.51</td>\n",
       "      <td>35.0</td>\n",
       "      <td>2</td>\n",
       "      <td>8</td>\n",
       "      <td>50</td>\n",
       "      <td>0</td>\n",
       "      <td>free</td>\n",
       "    </tr>\n",
       "    <tr>\n",
       "      <th>18026</th>\n",
       "      <td>1531</td>\n",
       "      <td>October</td>\n",
       "      <td>7606.90</td>\n",
       "      <td>33.0</td>\n",
       "      <td>2</td>\n",
       "      <td>8</td>\n",
       "      <td>50</td>\n",
       "      <td>0</td>\n",
       "      <td>free</td>\n",
       "    </tr>\n",
       "    <tr>\n",
       "      <th>18027</th>\n",
       "      <td>1531</td>\n",
       "      <td>October</td>\n",
       "      <td>7606.90</td>\n",
       "      <td>33.0</td>\n",
       "      <td>2</td>\n",
       "      <td>8</td>\n",
       "      <td>50</td>\n",
       "      <td>0</td>\n",
       "      <td>free</td>\n",
       "    </tr>\n",
       "    <tr>\n",
       "      <th>18028</th>\n",
       "      <td>1531</td>\n",
       "      <td>September</td>\n",
       "      <td>2544.43</td>\n",
       "      <td>21.0</td>\n",
       "      <td>1</td>\n",
       "      <td>8</td>\n",
       "      <td>50</td>\n",
       "      <td>0</td>\n",
       "      <td>free</td>\n",
       "    </tr>\n",
       "    <tr>\n",
       "      <th>18029</th>\n",
       "      <td>1532</td>\n",
       "      <td>April</td>\n",
       "      <td>842.10</td>\n",
       "      <td>9.0</td>\n",
       "      <td>1</td>\n",
       "      <td>8</td>\n",
       "      <td>50</td>\n",
       "      <td>0</td>\n",
       "      <td>free</td>\n",
       "    </tr>\n",
       "    <tr>\n",
       "      <th>18030</th>\n",
       "      <td>1532</td>\n",
       "      <td>August</td>\n",
       "      <td>8774.46</td>\n",
       "      <td>47.0</td>\n",
       "      <td>2</td>\n",
       "      <td>8</td>\n",
       "      <td>50</td>\n",
       "      <td>0</td>\n",
       "      <td>free</td>\n",
       "    </tr>\n",
       "    <tr>\n",
       "      <th>18031</th>\n",
       "      <td>1532</td>\n",
       "      <td>August</td>\n",
       "      <td>8774.46</td>\n",
       "      <td>47.0</td>\n",
       "      <td>2</td>\n",
       "      <td>8</td>\n",
       "      <td>50</td>\n",
       "      <td>0</td>\n",
       "      <td>free</td>\n",
       "    </tr>\n",
       "    <tr>\n",
       "      <th>18032</th>\n",
       "      <td>1532</td>\n",
       "      <td>December</td>\n",
       "      <td>6111.89</td>\n",
       "      <td>42.0</td>\n",
       "      <td>2</td>\n",
       "      <td>8</td>\n",
       "      <td>50</td>\n",
       "      <td>0</td>\n",
       "      <td>free</td>\n",
       "    </tr>\n",
       "    <tr>\n",
       "      <th>18033</th>\n",
       "      <td>1532</td>\n",
       "      <td>December</td>\n",
       "      <td>6111.89</td>\n",
       "      <td>42.0</td>\n",
       "      <td>2</td>\n",
       "      <td>8</td>\n",
       "      <td>50</td>\n",
       "      <td>0</td>\n",
       "      <td>free</td>\n",
       "    </tr>\n",
       "    <tr>\n",
       "      <th>18034</th>\n",
       "      <td>1532</td>\n",
       "      <td>January</td>\n",
       "      <td>2615.48</td>\n",
       "      <td>15.0</td>\n",
       "      <td>1</td>\n",
       "      <td>8</td>\n",
       "      <td>50</td>\n",
       "      <td>0</td>\n",
       "      <td>free</td>\n",
       "    </tr>\n",
       "    <tr>\n",
       "      <th>18035</th>\n",
       "      <td>1532</td>\n",
       "      <td>July</td>\n",
       "      <td>3735.88</td>\n",
       "      <td>18.0</td>\n",
       "      <td>1</td>\n",
       "      <td>8</td>\n",
       "      <td>50</td>\n",
       "      <td>0</td>\n",
       "      <td>free</td>\n",
       "    </tr>\n",
       "    <tr>\n",
       "      <th>18036</th>\n",
       "      <td>1532</td>\n",
       "      <td>May</td>\n",
       "      <td>303.79</td>\n",
       "      <td>8.0</td>\n",
       "      <td>1</td>\n",
       "      <td>8</td>\n",
       "      <td>50</td>\n",
       "      <td>0</td>\n",
       "      <td>free</td>\n",
       "    </tr>\n",
       "    <tr>\n",
       "      <th>18037</th>\n",
       "      <td>1532</td>\n",
       "      <td>November</td>\n",
       "      <td>8627.50</td>\n",
       "      <td>60.0</td>\n",
       "      <td>4</td>\n",
       "      <td>8</td>\n",
       "      <td>50</td>\n",
       "      <td>0</td>\n",
       "      <td>free</td>\n",
       "    </tr>\n",
       "    <tr>\n",
       "      <th>18038</th>\n",
       "      <td>1532</td>\n",
       "      <td>November</td>\n",
       "      <td>8627.50</td>\n",
       "      <td>60.0</td>\n",
       "      <td>4</td>\n",
       "      <td>8</td>\n",
       "      <td>50</td>\n",
       "      <td>0</td>\n",
       "      <td>free</td>\n",
       "    </tr>\n",
       "    <tr>\n",
       "      <th>18039</th>\n",
       "      <td>1532</td>\n",
       "      <td>November</td>\n",
       "      <td>8627.50</td>\n",
       "      <td>60.0</td>\n",
       "      <td>4</td>\n",
       "      <td>8</td>\n",
       "      <td>50</td>\n",
       "      <td>0</td>\n",
       "      <td>free</td>\n",
       "    </tr>\n",
       "    <tr>\n",
       "      <th>18040</th>\n",
       "      <td>1532</td>\n",
       "      <td>November</td>\n",
       "      <td>8627.50</td>\n",
       "      <td>60.0</td>\n",
       "      <td>4</td>\n",
       "      <td>8</td>\n",
       "      <td>50</td>\n",
       "      <td>0</td>\n",
       "      <td>free</td>\n",
       "    </tr>\n",
       "    <tr>\n",
       "      <th>18041</th>\n",
       "      <td>1532</td>\n",
       "      <td>October</td>\n",
       "      <td>2891.12</td>\n",
       "      <td>21.0</td>\n",
       "      <td>1</td>\n",
       "      <td>8</td>\n",
       "      <td>50</td>\n",
       "      <td>0</td>\n",
       "      <td>free</td>\n",
       "    </tr>\n",
       "    <tr>\n",
       "      <th>18042</th>\n",
       "      <td>1533</td>\n",
       "      <td>April</td>\n",
       "      <td>2514.50</td>\n",
       "      <td>18.0</td>\n",
       "      <td>1</td>\n",
       "      <td>8</td>\n",
       "      <td>50</td>\n",
       "      <td>0</td>\n",
       "      <td>free</td>\n",
       "    </tr>\n",
       "    <tr>\n",
       "      <th>18043</th>\n",
       "      <td>1533</td>\n",
       "      <td>August</td>\n",
       "      <td>4581.94</td>\n",
       "      <td>22.0</td>\n",
       "      <td>1</td>\n",
       "      <td>8</td>\n",
       "      <td>50</td>\n",
       "      <td>0</td>\n",
       "      <td>free</td>\n",
       "    </tr>\n",
       "    <tr>\n",
       "      <th>18044</th>\n",
       "      <td>1533</td>\n",
       "      <td>February</td>\n",
       "      <td>310.49</td>\n",
       "      <td>11.0</td>\n",
       "      <td>1</td>\n",
       "      <td>8</td>\n",
       "      <td>50</td>\n",
       "      <td>0</td>\n",
       "      <td>free</td>\n",
       "    </tr>\n",
       "    <tr>\n",
       "      <th>18045</th>\n",
       "      <td>1533</td>\n",
       "      <td>January</td>\n",
       "      <td>3438.60</td>\n",
       "      <td>21.0</td>\n",
       "      <td>1</td>\n",
       "      <td>8</td>\n",
       "      <td>50</td>\n",
       "      <td>0</td>\n",
       "      <td>free</td>\n",
       "    </tr>\n",
       "    <tr>\n",
       "      <th>18046</th>\n",
       "      <td>1533</td>\n",
       "      <td>July</td>\n",
       "      <td>8772.52</td>\n",
       "      <td>48.0</td>\n",
       "      <td>3</td>\n",
       "      <td>8</td>\n",
       "      <td>50</td>\n",
       "      <td>0</td>\n",
       "      <td>free</td>\n",
       "    </tr>\n",
       "    <tr>\n",
       "      <th>18047</th>\n",
       "      <td>1533</td>\n",
       "      <td>July</td>\n",
       "      <td>8772.52</td>\n",
       "      <td>48.0</td>\n",
       "      <td>3</td>\n",
       "      <td>8</td>\n",
       "      <td>50</td>\n",
       "      <td>0</td>\n",
       "      <td>free</td>\n",
       "    </tr>\n",
       "    <tr>\n",
       "      <th>18048</th>\n",
       "      <td>1533</td>\n",
       "      <td>July</td>\n",
       "      <td>8772.52</td>\n",
       "      <td>48.0</td>\n",
       "      <td>3</td>\n",
       "      <td>8</td>\n",
       "      <td>50</td>\n",
       "      <td>0</td>\n",
       "      <td>free</td>\n",
       "    </tr>\n",
       "    <tr>\n",
       "      <th>18049</th>\n",
       "      <td>1533</td>\n",
       "      <td>June</td>\n",
       "      <td>1035.00</td>\n",
       "      <td>7.0</td>\n",
       "      <td>1</td>\n",
       "      <td>8</td>\n",
       "      <td>50</td>\n",
       "      <td>0</td>\n",
       "      <td>free</td>\n",
       "    </tr>\n",
       "    <tr>\n",
       "      <th>18050</th>\n",
       "      <td>1533</td>\n",
       "      <td>March</td>\n",
       "      <td>12822.70</td>\n",
       "      <td>93.0</td>\n",
       "      <td>4</td>\n",
       "      <td>8</td>\n",
       "      <td>50</td>\n",
       "      <td>0</td>\n",
       "      <td>free</td>\n",
       "    </tr>\n",
       "    <tr>\n",
       "      <th>18051</th>\n",
       "      <td>1533</td>\n",
       "      <td>March</td>\n",
       "      <td>12822.70</td>\n",
       "      <td>93.0</td>\n",
       "      <td>4</td>\n",
       "      <td>8</td>\n",
       "      <td>50</td>\n",
       "      <td>0</td>\n",
       "      <td>free</td>\n",
       "    </tr>\n",
       "    <tr>\n",
       "      <th>18052</th>\n",
       "      <td>1533</td>\n",
       "      <td>March</td>\n",
       "      <td>12822.70</td>\n",
       "      <td>93.0</td>\n",
       "      <td>4</td>\n",
       "      <td>8</td>\n",
       "      <td>50</td>\n",
       "      <td>0</td>\n",
       "      <td>free</td>\n",
       "    </tr>\n",
       "    <tr>\n",
       "      <th>18053</th>\n",
       "      <td>1533</td>\n",
       "      <td>March</td>\n",
       "      <td>12822.70</td>\n",
       "      <td>93.0</td>\n",
       "      <td>4</td>\n",
       "      <td>8</td>\n",
       "      <td>50</td>\n",
       "      <td>0</td>\n",
       "      <td>free</td>\n",
       "    </tr>\n",
       "    <tr>\n",
       "      <th>18054</th>\n",
       "      <td>1533</td>\n",
       "      <td>November</td>\n",
       "      <td>3414.45</td>\n",
       "      <td>26.0</td>\n",
       "      <td>1</td>\n",
       "      <td>8</td>\n",
       "      <td>50</td>\n",
       "      <td>0</td>\n",
       "      <td>free</td>\n",
       "    </tr>\n",
       "    <tr>\n",
       "      <th>18055</th>\n",
       "      <td>1534</td>\n",
       "      <td>April</td>\n",
       "      <td>3434.29</td>\n",
       "      <td>15.0</td>\n",
       "      <td>1</td>\n",
       "      <td>8</td>\n",
       "      <td>50</td>\n",
       "      <td>0</td>\n",
       "      <td>free</td>\n",
       "    </tr>\n",
       "    <tr>\n",
       "      <th>18056</th>\n",
       "      <td>1534</td>\n",
       "      <td>August</td>\n",
       "      <td>7622.45</td>\n",
       "      <td>48.0</td>\n",
       "      <td>2</td>\n",
       "      <td>8</td>\n",
       "      <td>50</td>\n",
       "      <td>0</td>\n",
       "      <td>free</td>\n",
       "    </tr>\n",
       "    <tr>\n",
       "      <th>18057</th>\n",
       "      <td>1534</td>\n",
       "      <td>August</td>\n",
       "      <td>7622.45</td>\n",
       "      <td>48.0</td>\n",
       "      <td>2</td>\n",
       "      <td>8</td>\n",
       "      <td>50</td>\n",
       "      <td>0</td>\n",
       "      <td>free</td>\n",
       "    </tr>\n",
       "    <tr>\n",
       "      <th>18058</th>\n",
       "      <td>1534</td>\n",
       "      <td>December</td>\n",
       "      <td>2371.71</td>\n",
       "      <td>16.0</td>\n",
       "      <td>1</td>\n",
       "      <td>8</td>\n",
       "      <td>50</td>\n",
       "      <td>0</td>\n",
       "      <td>free</td>\n",
       "    </tr>\n",
       "    <tr>\n",
       "      <th>18059</th>\n",
       "      <td>1534</td>\n",
       "      <td>February</td>\n",
       "      <td>2103.91</td>\n",
       "      <td>14.0</td>\n",
       "      <td>1</td>\n",
       "      <td>8</td>\n",
       "      <td>50</td>\n",
       "      <td>0</td>\n",
       "      <td>free</td>\n",
       "    </tr>\n",
       "    <tr>\n",
       "      <th>18060</th>\n",
       "      <td>1534</td>\n",
       "      <td>January</td>\n",
       "      <td>4678.42</td>\n",
       "      <td>16.0</td>\n",
       "      <td>1</td>\n",
       "      <td>8</td>\n",
       "      <td>50</td>\n",
       "      <td>0</td>\n",
       "      <td>free</td>\n",
       "    </tr>\n",
       "    <tr>\n",
       "      <th>18061</th>\n",
       "      <td>1534</td>\n",
       "      <td>June</td>\n",
       "      <td>3409.47</td>\n",
       "      <td>26.0</td>\n",
       "      <td>2</td>\n",
       "      <td>8</td>\n",
       "      <td>50</td>\n",
       "      <td>0</td>\n",
       "      <td>free</td>\n",
       "    </tr>\n",
       "    <tr>\n",
       "      <th>18062</th>\n",
       "      <td>1534</td>\n",
       "      <td>June</td>\n",
       "      <td>3409.47</td>\n",
       "      <td>26.0</td>\n",
       "      <td>2</td>\n",
       "      <td>8</td>\n",
       "      <td>50</td>\n",
       "      <td>0</td>\n",
       "      <td>free</td>\n",
       "    </tr>\n",
       "    <tr>\n",
       "      <th>18063</th>\n",
       "      <td>1534</td>\n",
       "      <td>November</td>\n",
       "      <td>13350.02</td>\n",
       "      <td>78.0</td>\n",
       "      <td>4</td>\n",
       "      <td>8</td>\n",
       "      <td>50</td>\n",
       "      <td>0</td>\n",
       "      <td>free</td>\n",
       "    </tr>\n",
       "    <tr>\n",
       "      <th>18064</th>\n",
       "      <td>1534</td>\n",
       "      <td>November</td>\n",
       "      <td>13350.02</td>\n",
       "      <td>78.0</td>\n",
       "      <td>4</td>\n",
       "      <td>8</td>\n",
       "      <td>50</td>\n",
       "      <td>0</td>\n",
       "      <td>free</td>\n",
       "    </tr>\n",
       "    <tr>\n",
       "      <th>18065</th>\n",
       "      <td>1534</td>\n",
       "      <td>November</td>\n",
       "      <td>13350.02</td>\n",
       "      <td>78.0</td>\n",
       "      <td>4</td>\n",
       "      <td>8</td>\n",
       "      <td>50</td>\n",
       "      <td>0</td>\n",
       "      <td>free</td>\n",
       "    </tr>\n",
       "    <tr>\n",
       "      <th>18066</th>\n",
       "      <td>1534</td>\n",
       "      <td>November</td>\n",
       "      <td>13350.02</td>\n",
       "      <td>78.0</td>\n",
       "      <td>4</td>\n",
       "      <td>8</td>\n",
       "      <td>50</td>\n",
       "      <td>0</td>\n",
       "      <td>free</td>\n",
       "    </tr>\n",
       "    <tr>\n",
       "      <th>18067</th>\n",
       "      <td>1534</td>\n",
       "      <td>September</td>\n",
       "      <td>4928.17</td>\n",
       "      <td>23.0</td>\n",
       "      <td>1</td>\n",
       "      <td>8</td>\n",
       "      <td>50</td>\n",
       "      <td>0</td>\n",
       "      <td>free</td>\n",
       "    </tr>\n",
       "  </tbody>\n",
       "</table>\n",
       "</div>"
      ],
      "text/plain": [
       "       user_id      month  total_distance  total_duration  num_trips  \\\n",
       "18018     1531       June         4041.88            28.0          2   \n",
       "18019     1531       June         4041.88            28.0          2   \n",
       "18020     1531        May        13526.16            73.0          4   \n",
       "18021     1531        May        13526.16            73.0          4   \n",
       "18022     1531        May        13526.16            73.0          4   \n",
       "18023     1531        May        13526.16            73.0          4   \n",
       "18024     1531   November         5889.51            35.0          2   \n",
       "18025     1531   November         5889.51            35.0          2   \n",
       "18026     1531    October         7606.90            33.0          2   \n",
       "18027     1531    October         7606.90            33.0          2   \n",
       "18028     1531  September         2544.43            21.0          1   \n",
       "18029     1532      April          842.10             9.0          1   \n",
       "18030     1532     August         8774.46            47.0          2   \n",
       "18031     1532     August         8774.46            47.0          2   \n",
       "18032     1532   December         6111.89            42.0          2   \n",
       "18033     1532   December         6111.89            42.0          2   \n",
       "18034     1532    January         2615.48            15.0          1   \n",
       "18035     1532       July         3735.88            18.0          1   \n",
       "18036     1532        May          303.79             8.0          1   \n",
       "18037     1532   November         8627.50            60.0          4   \n",
       "18038     1532   November         8627.50            60.0          4   \n",
       "18039     1532   November         8627.50            60.0          4   \n",
       "18040     1532   November         8627.50            60.0          4   \n",
       "18041     1532    October         2891.12            21.0          1   \n",
       "18042     1533      April         2514.50            18.0          1   \n",
       "18043     1533     August         4581.94            22.0          1   \n",
       "18044     1533   February          310.49            11.0          1   \n",
       "18045     1533    January         3438.60            21.0          1   \n",
       "18046     1533       July         8772.52            48.0          3   \n",
       "18047     1533       July         8772.52            48.0          3   \n",
       "18048     1533       July         8772.52            48.0          3   \n",
       "18049     1533       June         1035.00             7.0          1   \n",
       "18050     1533      March        12822.70            93.0          4   \n",
       "18051     1533      March        12822.70            93.0          4   \n",
       "18052     1533      March        12822.70            93.0          4   \n",
       "18053     1533      March        12822.70            93.0          4   \n",
       "18054     1533   November         3414.45            26.0          1   \n",
       "18055     1534      April         3434.29            15.0          1   \n",
       "18056     1534     August         7622.45            48.0          2   \n",
       "18057     1534     August         7622.45            48.0          2   \n",
       "18058     1534   December         2371.71            16.0          1   \n",
       "18059     1534   February         2103.91            14.0          1   \n",
       "18060     1534    January         4678.42            16.0          1   \n",
       "18061     1534       June         3409.47            26.0          2   \n",
       "18062     1534       June         3409.47            26.0          2   \n",
       "18063     1534   November        13350.02            78.0          4   \n",
       "18064     1534   November        13350.02            78.0          4   \n",
       "18065     1534   November        13350.02            78.0          4   \n",
       "18066     1534   November        13350.02            78.0          4   \n",
       "18067     1534  September         4928.17            23.0          1   \n",
       "\n",
       "       minute_price  start_ride_price  subscription_fee subscription_type  \n",
       "18018             8                50                 0              free  \n",
       "18019             8                50                 0              free  \n",
       "18020             8                50                 0              free  \n",
       "18021             8                50                 0              free  \n",
       "18022             8                50                 0              free  \n",
       "18023             8                50                 0              free  \n",
       "18024             8                50                 0              free  \n",
       "18025             8                50                 0              free  \n",
       "18026             8                50                 0              free  \n",
       "18027             8                50                 0              free  \n",
       "18028             8                50                 0              free  \n",
       "18029             8                50                 0              free  \n",
       "18030             8                50                 0              free  \n",
       "18031             8                50                 0              free  \n",
       "18032             8                50                 0              free  \n",
       "18033             8                50                 0              free  \n",
       "18034             8                50                 0              free  \n",
       "18035             8                50                 0              free  \n",
       "18036             8                50                 0              free  \n",
       "18037             8                50                 0              free  \n",
       "18038             8                50                 0              free  \n",
       "18039             8                50                 0              free  \n",
       "18040             8                50                 0              free  \n",
       "18041             8                50                 0              free  \n",
       "18042             8                50                 0              free  \n",
       "18043             8                50                 0              free  \n",
       "18044             8                50                 0              free  \n",
       "18045             8                50                 0              free  \n",
       "18046             8                50                 0              free  \n",
       "18047             8                50                 0              free  \n",
       "18048             8                50                 0              free  \n",
       "18049             8                50                 0              free  \n",
       "18050             8                50                 0              free  \n",
       "18051             8                50                 0              free  \n",
       "18052             8                50                 0              free  \n",
       "18053             8                50                 0              free  \n",
       "18054             8                50                 0              free  \n",
       "18055             8                50                 0              free  \n",
       "18056             8                50                 0              free  \n",
       "18057             8                50                 0              free  \n",
       "18058             8                50                 0              free  \n",
       "18059             8                50                 0              free  \n",
       "18060             8                50                 0              free  \n",
       "18061             8                50                 0              free  \n",
       "18062             8                50                 0              free  \n",
       "18063             8                50                 0              free  \n",
       "18064             8                50                 0              free  \n",
       "18065             8                50                 0              free  \n",
       "18066             8                50                 0              free  \n",
       "18067             8                50                 0              free  "
      ]
     },
     "execution_count": 45,
     "metadata": {},
     "output_type": "execute_result"
    }
   ],
   "source": [
    "aggregated_data.tail(50)"
   ]
  },
  {
   "cell_type": "code",
   "execution_count": 46,
   "id": "18375651",
   "metadata": {},
   "outputs": [
    {
     "data": {
      "text/html": [
       "<div>\n",
       "<style scoped>\n",
       "    .dataframe tbody tr th:only-of-type {\n",
       "        vertical-align: middle;\n",
       "    }\n",
       "\n",
       "    .dataframe tbody tr th {\n",
       "        vertical-align: top;\n",
       "    }\n",
       "\n",
       "    .dataframe thead th {\n",
       "        text-align: right;\n",
       "    }\n",
       "</style>\n",
       "<table border=\"1\" class=\"dataframe\">\n",
       "  <thead>\n",
       "    <tr style=\"text-align: right;\">\n",
       "      <th></th>\n",
       "      <th>user_id</th>\n",
       "      <th>month</th>\n",
       "      <th>total_distance</th>\n",
       "      <th>total_duration</th>\n",
       "      <th>num_trips</th>\n",
       "      <th>minute_price</th>\n",
       "      <th>start_ride_price</th>\n",
       "      <th>subscription_fee</th>\n",
       "      <th>subscription_type</th>\n",
       "    </tr>\n",
       "  </thead>\n",
       "  <tbody>\n",
       "    <tr>\n",
       "      <th>0</th>\n",
       "      <td>1</td>\n",
       "      <td>April</td>\n",
       "      <td>754.16</td>\n",
       "      <td>7.0</td>\n",
       "      <td>1</td>\n",
       "      <td>6</td>\n",
       "      <td>0</td>\n",
       "      <td>199</td>\n",
       "      <td>ultra</td>\n",
       "    </tr>\n",
       "    <tr>\n",
       "      <th>1</th>\n",
       "      <td>1</td>\n",
       "      <td>August</td>\n",
       "      <td>6723.47</td>\n",
       "      <td>46.0</td>\n",
       "      <td>2</td>\n",
       "      <td>6</td>\n",
       "      <td>0</td>\n",
       "      <td>199</td>\n",
       "      <td>ultra</td>\n",
       "    </tr>\n",
       "    <tr>\n",
       "      <th>3</th>\n",
       "      <td>1</td>\n",
       "      <td>December</td>\n",
       "      <td>6751.63</td>\n",
       "      <td>28.0</td>\n",
       "      <td>2</td>\n",
       "      <td>6</td>\n",
       "      <td>0</td>\n",
       "      <td>199</td>\n",
       "      <td>ultra</td>\n",
       "    </tr>\n",
       "    <tr>\n",
       "      <th>5</th>\n",
       "      <td>1</td>\n",
       "      <td>January</td>\n",
       "      <td>7027.51</td>\n",
       "      <td>42.0</td>\n",
       "      <td>2</td>\n",
       "      <td>6</td>\n",
       "      <td>0</td>\n",
       "      <td>199</td>\n",
       "      <td>ultra</td>\n",
       "    </tr>\n",
       "    <tr>\n",
       "      <th>7</th>\n",
       "      <td>1</td>\n",
       "      <td>November</td>\n",
       "      <td>7003.50</td>\n",
       "      <td>56.0</td>\n",
       "      <td>3</td>\n",
       "      <td>6</td>\n",
       "      <td>0</td>\n",
       "      <td>199</td>\n",
       "      <td>ultra</td>\n",
       "    </tr>\n",
       "    <tr>\n",
       "      <th>...</th>\n",
       "      <td>...</td>\n",
       "      <td>...</td>\n",
       "      <td>...</td>\n",
       "      <td>...</td>\n",
       "      <td>...</td>\n",
       "      <td>...</td>\n",
       "      <td>...</td>\n",
       "      <td>...</td>\n",
       "      <td>...</td>\n",
       "    </tr>\n",
       "    <tr>\n",
       "      <th>18059</th>\n",
       "      <td>1534</td>\n",
       "      <td>February</td>\n",
       "      <td>2103.91</td>\n",
       "      <td>14.0</td>\n",
       "      <td>1</td>\n",
       "      <td>8</td>\n",
       "      <td>50</td>\n",
       "      <td>0</td>\n",
       "      <td>free</td>\n",
       "    </tr>\n",
       "    <tr>\n",
       "      <th>18060</th>\n",
       "      <td>1534</td>\n",
       "      <td>January</td>\n",
       "      <td>4678.42</td>\n",
       "      <td>16.0</td>\n",
       "      <td>1</td>\n",
       "      <td>8</td>\n",
       "      <td>50</td>\n",
       "      <td>0</td>\n",
       "      <td>free</td>\n",
       "    </tr>\n",
       "    <tr>\n",
       "      <th>18061</th>\n",
       "      <td>1534</td>\n",
       "      <td>June</td>\n",
       "      <td>3409.47</td>\n",
       "      <td>26.0</td>\n",
       "      <td>2</td>\n",
       "      <td>8</td>\n",
       "      <td>50</td>\n",
       "      <td>0</td>\n",
       "      <td>free</td>\n",
       "    </tr>\n",
       "    <tr>\n",
       "      <th>18063</th>\n",
       "      <td>1534</td>\n",
       "      <td>November</td>\n",
       "      <td>13350.02</td>\n",
       "      <td>78.0</td>\n",
       "      <td>4</td>\n",
       "      <td>8</td>\n",
       "      <td>50</td>\n",
       "      <td>0</td>\n",
       "      <td>free</td>\n",
       "    </tr>\n",
       "    <tr>\n",
       "      <th>18067</th>\n",
       "      <td>1534</td>\n",
       "      <td>September</td>\n",
       "      <td>4928.17</td>\n",
       "      <td>23.0</td>\n",
       "      <td>1</td>\n",
       "      <td>8</td>\n",
       "      <td>50</td>\n",
       "      <td>0</td>\n",
       "      <td>free</td>\n",
       "    </tr>\n",
       "  </tbody>\n",
       "</table>\n",
       "<p>11331 rows × 9 columns</p>\n",
       "</div>"
      ],
      "text/plain": [
       "       user_id      month  total_distance  total_duration  num_trips  \\\n",
       "0            1      April          754.16             7.0          1   \n",
       "1            1     August         6723.47            46.0          2   \n",
       "3            1   December         6751.63            28.0          2   \n",
       "5            1    January         7027.51            42.0          2   \n",
       "7            1   November         7003.50            56.0          3   \n",
       "...        ...        ...             ...             ...        ...   \n",
       "18059     1534   February         2103.91            14.0          1   \n",
       "18060     1534    January         4678.42            16.0          1   \n",
       "18061     1534       June         3409.47            26.0          2   \n",
       "18063     1534   November        13350.02            78.0          4   \n",
       "18067     1534  September         4928.17            23.0          1   \n",
       "\n",
       "       minute_price  start_ride_price  subscription_fee subscription_type  \n",
       "0                 6                 0               199             ultra  \n",
       "1                 6                 0               199             ultra  \n",
       "3                 6                 0               199             ultra  \n",
       "5                 6                 0               199             ultra  \n",
       "7                 6                 0               199             ultra  \n",
       "...             ...               ...               ...               ...  \n",
       "18059             8                50                 0              free  \n",
       "18060             8                50                 0              free  \n",
       "18061             8                50                 0              free  \n",
       "18063             8                50                 0              free  \n",
       "18067             8                50                 0              free  \n",
       "\n",
       "[11331 rows x 9 columns]"
      ]
     },
     "execution_count": 46,
     "metadata": {},
     "output_type": "execute_result"
    }
   ],
   "source": [
    "aggregated_data.drop_duplicates()"
   ]
  },
  {
   "cell_type": "code",
   "execution_count": 47,
   "id": "06f682ac",
   "metadata": {},
   "outputs": [],
   "source": [
    "aggregated_data['revenue'] = (aggregated_data['start_ride_price'] * aggregated_data['num_trips']) + (aggregated_data['minute_price'] * aggregated_data['total_duration']) + aggregated_data['subscription_fee']"
   ]
  },
  {
   "cell_type": "code",
   "execution_count": 48,
   "id": "de17dc08",
   "metadata": {},
   "outputs": [],
   "source": [
    "aggregated_data = aggregated_data.drop_duplicates()\n"
   ]
  },
  {
   "cell_type": "code",
   "execution_count": 49,
   "id": "3d8b78aa",
   "metadata": {},
   "outputs": [
    {
     "data": {
      "text/html": [
       "<div>\n",
       "<style scoped>\n",
       "    .dataframe tbody tr th:only-of-type {\n",
       "        vertical-align: middle;\n",
       "    }\n",
       "\n",
       "    .dataframe tbody tr th {\n",
       "        vertical-align: top;\n",
       "    }\n",
       "\n",
       "    .dataframe thead th {\n",
       "        text-align: right;\n",
       "    }\n",
       "</style>\n",
       "<table border=\"1\" class=\"dataframe\">\n",
       "  <thead>\n",
       "    <tr style=\"text-align: right;\">\n",
       "      <th></th>\n",
       "      <th>user_id</th>\n",
       "      <th>month</th>\n",
       "      <th>total_distance</th>\n",
       "      <th>total_duration</th>\n",
       "      <th>num_trips</th>\n",
       "      <th>minute_price</th>\n",
       "      <th>start_ride_price</th>\n",
       "      <th>subscription_fee</th>\n",
       "      <th>subscription_type</th>\n",
       "      <th>revenue</th>\n",
       "    </tr>\n",
       "  </thead>\n",
       "  <tbody>\n",
       "    <tr>\n",
       "      <th>0</th>\n",
       "      <td>1</td>\n",
       "      <td>April</td>\n",
       "      <td>754.16</td>\n",
       "      <td>7.0</td>\n",
       "      <td>1</td>\n",
       "      <td>6</td>\n",
       "      <td>0</td>\n",
       "      <td>199</td>\n",
       "      <td>ultra</td>\n",
       "      <td>241.0</td>\n",
       "    </tr>\n",
       "    <tr>\n",
       "      <th>1</th>\n",
       "      <td>1</td>\n",
       "      <td>August</td>\n",
       "      <td>6723.47</td>\n",
       "      <td>46.0</td>\n",
       "      <td>2</td>\n",
       "      <td>6</td>\n",
       "      <td>0</td>\n",
       "      <td>199</td>\n",
       "      <td>ultra</td>\n",
       "      <td>475.0</td>\n",
       "    </tr>\n",
       "    <tr>\n",
       "      <th>3</th>\n",
       "      <td>1</td>\n",
       "      <td>December</td>\n",
       "      <td>6751.63</td>\n",
       "      <td>28.0</td>\n",
       "      <td>2</td>\n",
       "      <td>6</td>\n",
       "      <td>0</td>\n",
       "      <td>199</td>\n",
       "      <td>ultra</td>\n",
       "      <td>367.0</td>\n",
       "    </tr>\n",
       "    <tr>\n",
       "      <th>5</th>\n",
       "      <td>1</td>\n",
       "      <td>January</td>\n",
       "      <td>7027.51</td>\n",
       "      <td>42.0</td>\n",
       "      <td>2</td>\n",
       "      <td>6</td>\n",
       "      <td>0</td>\n",
       "      <td>199</td>\n",
       "      <td>ultra</td>\n",
       "      <td>451.0</td>\n",
       "    </tr>\n",
       "    <tr>\n",
       "      <th>7</th>\n",
       "      <td>1</td>\n",
       "      <td>November</td>\n",
       "      <td>7003.50</td>\n",
       "      <td>56.0</td>\n",
       "      <td>3</td>\n",
       "      <td>6</td>\n",
       "      <td>0</td>\n",
       "      <td>199</td>\n",
       "      <td>ultra</td>\n",
       "      <td>535.0</td>\n",
       "    </tr>\n",
       "    <tr>\n",
       "      <th>...</th>\n",
       "      <td>...</td>\n",
       "      <td>...</td>\n",
       "      <td>...</td>\n",
       "      <td>...</td>\n",
       "      <td>...</td>\n",
       "      <td>...</td>\n",
       "      <td>...</td>\n",
       "      <td>...</td>\n",
       "      <td>...</td>\n",
       "      <td>...</td>\n",
       "    </tr>\n",
       "    <tr>\n",
       "      <th>18059</th>\n",
       "      <td>1534</td>\n",
       "      <td>February</td>\n",
       "      <td>2103.91</td>\n",
       "      <td>14.0</td>\n",
       "      <td>1</td>\n",
       "      <td>8</td>\n",
       "      <td>50</td>\n",
       "      <td>0</td>\n",
       "      <td>free</td>\n",
       "      <td>162.0</td>\n",
       "    </tr>\n",
       "    <tr>\n",
       "      <th>18060</th>\n",
       "      <td>1534</td>\n",
       "      <td>January</td>\n",
       "      <td>4678.42</td>\n",
       "      <td>16.0</td>\n",
       "      <td>1</td>\n",
       "      <td>8</td>\n",
       "      <td>50</td>\n",
       "      <td>0</td>\n",
       "      <td>free</td>\n",
       "      <td>178.0</td>\n",
       "    </tr>\n",
       "    <tr>\n",
       "      <th>18061</th>\n",
       "      <td>1534</td>\n",
       "      <td>June</td>\n",
       "      <td>3409.47</td>\n",
       "      <td>26.0</td>\n",
       "      <td>2</td>\n",
       "      <td>8</td>\n",
       "      <td>50</td>\n",
       "      <td>0</td>\n",
       "      <td>free</td>\n",
       "      <td>308.0</td>\n",
       "    </tr>\n",
       "    <tr>\n",
       "      <th>18063</th>\n",
       "      <td>1534</td>\n",
       "      <td>November</td>\n",
       "      <td>13350.02</td>\n",
       "      <td>78.0</td>\n",
       "      <td>4</td>\n",
       "      <td>8</td>\n",
       "      <td>50</td>\n",
       "      <td>0</td>\n",
       "      <td>free</td>\n",
       "      <td>824.0</td>\n",
       "    </tr>\n",
       "    <tr>\n",
       "      <th>18067</th>\n",
       "      <td>1534</td>\n",
       "      <td>September</td>\n",
       "      <td>4928.17</td>\n",
       "      <td>23.0</td>\n",
       "      <td>1</td>\n",
       "      <td>8</td>\n",
       "      <td>50</td>\n",
       "      <td>0</td>\n",
       "      <td>free</td>\n",
       "      <td>234.0</td>\n",
       "    </tr>\n",
       "  </tbody>\n",
       "</table>\n",
       "<p>11331 rows × 10 columns</p>\n",
       "</div>"
      ],
      "text/plain": [
       "       user_id      month  total_distance  total_duration  num_trips  \\\n",
       "0            1      April          754.16             7.0          1   \n",
       "1            1     August         6723.47            46.0          2   \n",
       "3            1   December         6751.63            28.0          2   \n",
       "5            1    January         7027.51            42.0          2   \n",
       "7            1   November         7003.50            56.0          3   \n",
       "...        ...        ...             ...             ...        ...   \n",
       "18059     1534   February         2103.91            14.0          1   \n",
       "18060     1534    January         4678.42            16.0          1   \n",
       "18061     1534       June         3409.47            26.0          2   \n",
       "18063     1534   November        13350.02            78.0          4   \n",
       "18067     1534  September         4928.17            23.0          1   \n",
       "\n",
       "       minute_price  start_ride_price  subscription_fee subscription_type  \\\n",
       "0                 6                 0               199             ultra   \n",
       "1                 6                 0               199             ultra   \n",
       "3                 6                 0               199             ultra   \n",
       "5                 6                 0               199             ultra   \n",
       "7                 6                 0               199             ultra   \n",
       "...             ...               ...               ...               ...   \n",
       "18059             8                50                 0              free   \n",
       "18060             8                50                 0              free   \n",
       "18061             8                50                 0              free   \n",
       "18063             8                50                 0              free   \n",
       "18067             8                50                 0              free   \n",
       "\n",
       "       revenue  \n",
       "0        241.0  \n",
       "1        475.0  \n",
       "3        367.0  \n",
       "5        451.0  \n",
       "7        535.0  \n",
       "...        ...  \n",
       "18059    162.0  \n",
       "18060    178.0  \n",
       "18061    308.0  \n",
       "18063    824.0  \n",
       "18067    234.0  \n",
       "\n",
       "[11331 rows x 10 columns]"
      ]
     },
     "execution_count": 49,
     "metadata": {},
     "output_type": "execute_result"
    }
   ],
   "source": [
    "aggregated_data"
   ]
  },
  {
   "cell_type": "code",
   "execution_count": 50,
   "id": "522f6bbc",
   "metadata": {},
   "outputs": [
    {
     "data": {
      "text/html": [
       "<div>\n",
       "<style scoped>\n",
       "    .dataframe tbody tr th:only-of-type {\n",
       "        vertical-align: middle;\n",
       "    }\n",
       "\n",
       "    .dataframe tbody tr th {\n",
       "        vertical-align: top;\n",
       "    }\n",
       "\n",
       "    .dataframe thead th {\n",
       "        text-align: right;\n",
       "    }\n",
       "</style>\n",
       "<table border=\"1\" class=\"dataframe\">\n",
       "  <thead>\n",
       "    <tr style=\"text-align: right;\">\n",
       "      <th></th>\n",
       "      <th>revenue</th>\n",
       "    </tr>\n",
       "    <tr>\n",
       "      <th>subscription_type</th>\n",
       "      <th></th>\n",
       "    </tr>\n",
       "  </thead>\n",
       "  <tbody>\n",
       "    <tr>\n",
       "      <th>free</th>\n",
       "      <td>2233656.0</td>\n",
       "    </tr>\n",
       "    <tr>\n",
       "      <th>ultra</th>\n",
       "      <td>1644237.0</td>\n",
       "    </tr>\n",
       "  </tbody>\n",
       "</table>\n",
       "</div>"
      ],
      "text/plain": [
       "                     revenue\n",
       "subscription_type           \n",
       "free               2233656.0\n",
       "ultra              1644237.0"
      ]
     },
     "execution_count": 50,
     "metadata": {},
     "output_type": "execute_result"
    }
   ],
   "source": [
    "pivot_agreg = aggregated_data.pivot_table(index = 'subscription_type', values = 'revenue', aggfunc = 'sum')\n",
    "pivot_agreg"
   ]
  },
  {
   "cell_type": "code",
   "execution_count": 51,
   "id": "8d71d266",
   "metadata": {},
   "outputs": [
    {
     "data": {
      "image/png": "[encoded data removed]",
      "text/plain": [
       "<Figure size 432x288 with 1 Axes>"
      ]
     },
     "metadata": {},
     "output_type": "display_data"
    }
   ],
   "source": [
    "pivot_agreg.plot(kind='pie', subplots=True, autopct='%1.1f%%', title='Сумма выручки по типам подписок')\n",
    "\n",
    "plt.ylabel('Выручка')\n",
    "plt.legend(title='Тип подписки')\n",
    "plt.tight_layout()\n",
    "plt.show()"
   ]
  },
  {
   "cell_type": "markdown",
   "id": "18e72404",
   "metadata": {},
   "source": [
    "Пользователи с подпиской приносят 42.4 % выручки, пользователи без подписки 57.6%"
   ]
  },
  {
   "cell_type": "markdown",
   "id": "2c7f414b",
   "metadata": {},
   "source": []
  },
  {
   "cell_type": "markdown",
   "id": "41545ac0",
   "metadata": {},
   "source": [
    "#### Шаг 6. Проверка гипотез"
   ]
  },
  {
   "cell_type": "markdown",
   "id": "453b1b84",
   "metadata": {},
   "source": [
    "#### 6.1 Важно понять, тратят ли пользователи с подпиской больше времени на поездки? Если да, то пользователи с подпиской могут быть «выгоднее» для компании. Проверьте гипотезу. Используйте исходные данные о продолжительности каждой сессии — отдельно для подписчиков и тех, у кого нет подписки."
   ]
  },
  {
   "cell_type": "markdown",
   "id": "926751d4",
   "metadata": {},
   "source": [
    "Гипотеза: Пользователи с подпиской тратят больше времени на поездки, чем пользователи без подписки.\n",
    "\n",
    "Нулевая гипотеза (H0): Среднее время поездки для пользователей с подпиской равно среднему времени поездки для пользователей без подписки.\n",
    "\n",
    "Альтернативная гипотеза (H1): Среднее время поездки для пользователей с подпиской больше среднего времени поездки для пользователей без подписки.\n",
    "\n",
    "Уровень значимости (альфа): 0,05"
   ]
  },
  {
   "cell_type": "code",
   "execution_count": 52,
   "id": "54bda121",
   "metadata": {},
   "outputs": [
    {
     "name": "stdout",
     "output_type": "stream",
     "text": [
      "Среднее выборки без подписки 17.390899896265562\n",
      "Среднее выборки с подпиской 18.542016923076922\n",
      "p-значение 5.6460360110885e-37\n",
      "Отвергаем нулевую гипотезу\n"
     ]
    }
   ],
   "source": [
    "alpha = 0.05\n",
    "\n",
    "print('Среднее выборки без подписки', np.mean(no_subscription_data['duration']))\n",
    "print('Среднее выборки с подпиской', np.mean(subscription_data['duration']))\n",
    "results = st.ttest_ind(subscription_data['duration'],no_subscription_data['duration'], alternative = 'greater', equal_var = False)\n",
    "print('p-значение', results.pvalue)\n",
    "if results.pvalue < alpha:\n",
    "    print('Отвергаем нулевую гипотезу')\n",
    "else:\n",
    "    print('Не отвергаем нулевую гипотезу')\n",
    "    "
   ]
  },
  {
   "cell_type": "markdown",
   "id": "078fcd79",
   "metadata": {},
   "source": []
  },
  {
   "cell_type": "markdown",
   "id": "eac0d4fd",
   "metadata": {},
   "source": [
    "#### 6.2 Расстояние одной поездки в \n",
    "3130 метров — оптимальное с точки зрения износа самоката. Можно ли сказать, что среднее расстояние, которое проезжают пользователи с подпиской за одну поездку, не превышает \n",
    "3130 метров? Проверьте гипотезу и сделайте выводы."
   ]
  },
  {
   "cell_type": "markdown",
   "id": "3d61509e",
   "metadata": {},
   "source": [
    "Гипотеза: Среднее расстояние, которое проезжают пользователи с подпиской за одну поездку, не превышает 3130 метров.\n",
    "Нулевая гипотеза (H0): Среднее расстояние поездки для пользователей с подпиской больше или равно 3130 метров.\n",
    "Альтернативная гипотеза (H1): Среднее расстояние поездки для пользователей с подпиской меньше 3130 метров."
   ]
  },
  {
   "cell_type": "code",
   "execution_count": 53,
   "id": "ce24f118",
   "metadata": {},
   "outputs": [
    {
     "name": "stdout",
     "output_type": "stream",
     "text": [
      "p-значение 0.0804637394157586\n",
      "Среднее 3115.445430769231\n",
      "Не отвергаем нулевую гипотезу\n"
     ]
    }
   ],
   "source": [
    "ultra = subscription_data['distance']\n",
    "ideal = 3130\n",
    "results_ultra = st.ttest_1samp(ultra, ideal, alternative = 'less')\n",
    "print('p-значение', results_ultra.pvalue)\n",
    "print('Среднее', np.mean(ultra))\n",
    "if results_ultra.pvalue < alpha:\n",
    "    print('Отвергаем нулевую гипотезу')\n",
    "else:\n",
    "    print('Не отвергаем нулевую гипотезу')\n",
    "\n"
   ]
  },
  {
   "cell_type": "markdown",
   "id": "a88e0940",
   "metadata": {},
   "source": [
    "#### 6.3 Проверьте гипотезу о том, будет ли помесячная выручка от пользователей с подпиской по месяцам выше, чем выручка от пользователей без подписки. Сделайте вывод."
   ]
  },
  {
   "cell_type": "markdown",
   "id": "36cd5a3a",
   "metadata": {},
   "source": [
    "Нулевая гипотеза (H0): Помесячная выручка от пользователей с подпиской не выше, чем выручка от пользователей без подписки.\n",
    "Альтернативная гипотеза (H1): Помесячная выручка от пользователей с подпиской выше, чем выручка от пользователей без подписки."
   ]
  },
  {
   "cell_type": "code",
   "execution_count": 54,
   "id": "ee846de0",
   "metadata": {},
   "outputs": [
    {
     "name": "stdout",
     "output_type": "stream",
     "text": [
      "p-значение 1.8164914860049708e-31\n",
      "Ср первой 362.7260092653872\n",
      "Ср второй 328.5754633715799\n",
      "Отвергаем нулевую гипотезу\n"
     ]
    }
   ],
   "source": [
    "ultra_rev = aggregated_data.loc[aggregated_data['subscription_type'] == 'ultra']\n",
    "ultra_revn = ultra_rev['revenue']\n",
    "free_rev = aggregated_data.loc[aggregated_data['subscription_type'] == 'free']\n",
    "free_revn = free_rev['revenue']\n",
    "results_new = st.ttest_ind(ultra_revn, free_revn, alternative = 'greater')\n",
    "print('p-значение', results_new.pvalue)\n",
    "print('Ср первой', np.mean(ultra_revn))\n",
    "print('Ср второй', np.mean(free_revn))\n",
    "if results_new.pvalue < alpha:\n",
    "    print('Отвергаем нулевую гипотезу')\n",
    "else:\n",
    "    print('Не отвергаем нулевую гипотезу')"
   ]
  },
  {
   "cell_type": "markdown",
   "id": "5a814371",
   "metadata": {},
   "source": [
    "Это означает, что мы отвергаем нулевую гипотезу и можем сделать вывод о том, что помесячная выручка от пользователей с подпиской выше, чем выручка от пользователей без подписки."
   ]
  },
  {
   "cell_type": "markdown",
   "id": "d5972f47",
   "metadata": {},
   "source": [
    "#### 6.4 Представьте такую ситуацию: техническая команда сервиса обновила сервера, с которыми взаимодействует мобильное приложение. Она надеется, что из-за этого количество обращений в техподдержку значимо снизилось. Некоторый файл содержит для каждого пользователя данные о количестве обращений до обновления и после него. Какой тест вам понадобился бы для проверки этой гипотезы?"
   ]
  },
  {
   "cell_type": "markdown",
   "id": "a675285e",
   "metadata": {},
   "source": [
    "Двухвыборочный t-тест для зависимых выборок."
   ]
  },
  {
   "cell_type": "markdown",
   "id": "28ffc25a",
   "metadata": {},
   "source": [
    "Гипотеза: Среднее количество обращений в техподдержку после обновления серверов ниже, чем среднее количество обращений до обновления.\n",
    "Нулевая гипотеза (H0): Среднее количество обращений в техподдержку после обновления серверов равно среднему количеству обращений до обновления.\n",
    "Альтернативная гипотеза (H1): Среднее количество обращений в техподдержку после обновления серверов ниже, чем среднее количество обращений до обновления."
   ]
  },
  {
   "cell_type": "markdown",
   "id": "3f13f7a5",
   "metadata": {},
   "source": [
    "Для проверки гипотезы о том, что количество обращений в техподдержку после обновления серверов значимо снизилось, нам необходимо провести парный t-тест(ttest_rel). Если p-value ниже 0.05 то количество обращений в техподдержку до и после обновления серверов, и среднее количество обращений после обновления стало ниже. В другом случае количество обращений до и после обновления серверов не изменилось."
   ]
  },
  {
   "cell_type": "markdown",
   "id": "61213c5e",
   "metadata": {},
   "source": [
    "#### Шаг 7. Распределения"
   ]
  },
  {
   "cell_type": "markdown",
   "id": "b80336f7",
   "metadata": {},
   "source": [
    "\n",
    "### Вывод:\n",
    "Основную выручку приносят пользователи без подписки, компании стоит придумать еще несколько продуктов( тарифов) для привлечения людей к плкупке подписки ведь выручка людей без подписки составляет 2233656., что 57.6% общей выручки. Также меня смутило то, что в Пятигорске чаще пользуются самокатами нежели в Москве(Город пробов), возможно компания делает недостаточный упор на рекламу и привлечение пользоватлей. Возможно это связано с тем, что данные предоставлены за 2021 год. Но с новыми правиами, что каждый электросамокат должен иметь номер, выручка за 2023 год упала.\n",
    "Среднее расстояние одной поездки для пользователей с подпиской не превышает 3130 метров.\n",
    "Помесячная выручка от пользователей с подпиской выше, чем выручка от пользователей без подписки.\n",
    "Для проверки этих гипотез использовались различные статистические тесты, включая t-тест и двухвыборочный t-тест для независимых выборок.\n",
    "\n",
    "#### Полученные результаты позволяют сделать следующие рекомендации продуктовой команде сервиса:\n",
    "\n",
    "Внедрение акций и программ лояльности, ориентированных на привлечение новых подписчиков.\n",
    "Разработка новых маршрутов и предложений для пользователей с подпиской, которые стимулируют их к более активному использованию сервиса.\n"
   ]
  },
  {
   "cell_type": "code",
   "execution_count": null,
   "id": "4ccd8083",
   "metadata": {},
   "outputs": [],
   "source": []
  }
 ],
 "metadata": {
  "ExecuteTimeLog": [
   {
    "duration": 986,
    "start_time": "2024-04-07T17:26:21.148Z"
   },
   {
    "duration": 304,
    "start_time": "2024-04-07T17:29:08.916Z"
   },
   {
    "duration": 2,
    "start_time": "2024-04-07T17:29:10.737Z"
   },
   {
    "duration": 67,
    "start_time": "2024-04-07T17:29:11.590Z"
   },
   {
    "duration": 64,
    "start_time": "2024-04-07T17:29:48.891Z"
   },
   {
    "duration": 73,
    "start_time": "2024-04-07T17:31:46.120Z"
   },
   {
    "duration": 13,
    "start_time": "2024-04-07T17:31:53.434Z"
   },
   {
    "duration": 4,
    "start_time": "2024-04-07T17:33:13.627Z"
   },
   {
    "duration": 4,
    "start_time": "2024-04-07T17:34:06.097Z"
   },
   {
    "duration": 8,
    "start_time": "2024-04-07T17:34:24.343Z"
   },
   {
    "duration": 7,
    "start_time": "2024-04-07T17:34:41.161Z"
   },
   {
    "duration": 8,
    "start_time": "2024-04-07T17:35:03.645Z"
   },
   {
    "duration": 7,
    "start_time": "2024-04-07T17:38:25.002Z"
   },
   {
    "duration": 5,
    "start_time": "2024-04-07T17:39:11.375Z"
   },
   {
    "duration": 5,
    "start_time": "2024-04-07T17:39:13.743Z"
   },
   {
    "duration": 15,
    "start_time": "2024-04-07T17:39:34.558Z"
   },
   {
    "duration": 8,
    "start_time": "2024-04-07T17:40:39.811Z"
   },
   {
    "duration": 11,
    "start_time": "2024-04-07T17:42:56.588Z"
   },
   {
    "duration": 3,
    "start_time": "2024-04-07T17:46:08.486Z"
   },
   {
    "duration": 12,
    "start_time": "2024-04-07T17:46:22.964Z"
   },
   {
    "duration": 3,
    "start_time": "2024-04-07T17:46:55.641Z"
   },
   {
    "duration": 68,
    "start_time": "2024-04-07T17:46:56.510Z"
   },
   {
    "duration": 8,
    "start_time": "2024-04-07T17:46:57.072Z"
   },
   {
    "duration": 4,
    "start_time": "2024-04-07T17:46:57.872Z"
   },
   {
    "duration": 4,
    "start_time": "2024-04-07T17:46:58.209Z"
   },
   {
    "duration": 7,
    "start_time": "2024-04-07T17:46:58.574Z"
   },
   {
    "duration": 14,
    "start_time": "2024-04-07T17:46:59.964Z"
   },
   {
    "duration": 11,
    "start_time": "2024-04-07T17:47:03.997Z"
   },
   {
    "duration": 9,
    "start_time": "2024-04-07T17:48:39.759Z"
   },
   {
    "duration": 8,
    "start_time": "2024-04-07T17:50:37.163Z"
   },
   {
    "duration": 4,
    "start_time": "2024-04-07T17:51:30.984Z"
   },
   {
    "duration": 9,
    "start_time": "2024-04-07T17:52:10.340Z"
   },
   {
    "duration": 16,
    "start_time": "2024-04-07T17:53:00.107Z"
   },
   {
    "duration": 10,
    "start_time": "2024-04-07T17:57:32.551Z"
   },
   {
    "duration": 15,
    "start_time": "2024-04-07T17:58:00.765Z"
   },
   {
    "duration": 25,
    "start_time": "2024-04-07T17:58:09.227Z"
   },
   {
    "duration": 9,
    "start_time": "2024-04-07T17:58:57.713Z"
   },
   {
    "duration": 21,
    "start_time": "2024-04-07T17:59:37.248Z"
   },
   {
    "duration": 10,
    "start_time": "2024-04-07T17:59:38.826Z"
   },
   {
    "duration": 3,
    "start_time": "2024-04-07T17:59:46.644Z"
   },
   {
    "duration": 65,
    "start_time": "2024-04-07T17:59:47.318Z"
   },
   {
    "duration": 8,
    "start_time": "2024-04-07T17:59:47.777Z"
   },
   {
    "duration": 4,
    "start_time": "2024-04-07T17:59:48.262Z"
   },
   {
    "duration": 4,
    "start_time": "2024-04-07T17:59:48.499Z"
   },
   {
    "duration": 7,
    "start_time": "2024-04-07T17:59:48.766Z"
   },
   {
    "duration": 12,
    "start_time": "2024-04-07T17:59:49.057Z"
   },
   {
    "duration": 16,
    "start_time": "2024-04-07T17:59:50.634Z"
   },
   {
    "duration": 9,
    "start_time": "2024-04-07T17:59:52.331Z"
   },
   {
    "duration": 12,
    "start_time": "2024-04-07T17:59:56.506Z"
   },
   {
    "duration": 12,
    "start_time": "2024-04-07T17:59:57.561Z"
   },
   {
    "duration": 16,
    "start_time": "2024-04-07T17:59:59.068Z"
   },
   {
    "duration": 8,
    "start_time": "2024-04-07T18:00:03.439Z"
   },
   {
    "duration": 25,
    "start_time": "2024-04-07T18:00:25.751Z"
   },
   {
    "duration": 11,
    "start_time": "2024-04-07T18:00:27.167Z"
   },
   {
    "duration": 683,
    "start_time": "2024-04-07T18:00:42.300Z"
   },
   {
    "duration": 69,
    "start_time": "2024-04-07T18:00:42.985Z"
   },
   {
    "duration": 11,
    "start_time": "2024-04-07T18:00:43.056Z"
   },
   {
    "duration": 8,
    "start_time": "2024-04-07T18:00:43.069Z"
   },
   {
    "duration": 24,
    "start_time": "2024-04-07T18:00:43.078Z"
   },
   {
    "duration": 31,
    "start_time": "2024-04-07T18:00:43.103Z"
   },
   {
    "duration": 25,
    "start_time": "2024-04-07T18:00:43.135Z"
   },
   {
    "duration": 16,
    "start_time": "2024-04-07T18:00:43.161Z"
   },
   {
    "duration": 24,
    "start_time": "2024-04-07T18:00:43.178Z"
   },
   {
    "duration": 25,
    "start_time": "2024-04-07T18:00:43.205Z"
   },
   {
    "duration": 23,
    "start_time": "2024-04-07T18:00:43.232Z"
   },
   {
    "duration": 28,
    "start_time": "2024-04-07T18:00:43.256Z"
   },
   {
    "duration": 28,
    "start_time": "2024-04-07T18:00:43.285Z"
   },
   {
    "duration": 15,
    "start_time": "2024-04-07T18:02:11.175Z"
   },
   {
    "duration": 10,
    "start_time": "2024-04-07T18:02:13.769Z"
   },
   {
    "duration": 8,
    "start_time": "2024-04-07T18:03:30.146Z"
   },
   {
    "duration": 7,
    "start_time": "2024-04-07T18:03:32.536Z"
   },
   {
    "duration": 687,
    "start_time": "2024-04-07T18:03:39.325Z"
   },
   {
    "duration": 69,
    "start_time": "2024-04-07T18:03:40.014Z"
   },
   {
    "duration": 14,
    "start_time": "2024-04-07T18:03:40.088Z"
   },
   {
    "duration": 5,
    "start_time": "2024-04-07T18:03:40.104Z"
   },
   {
    "duration": 5,
    "start_time": "2024-04-07T18:03:40.110Z"
   },
   {
    "duration": 6,
    "start_time": "2024-04-07T18:03:40.117Z"
   },
   {
    "duration": 14,
    "start_time": "2024-04-07T18:03:40.125Z"
   },
   {
    "duration": 61,
    "start_time": "2024-04-07T18:03:40.140Z"
   },
   {
    "duration": 6,
    "start_time": "2024-04-07T18:03:40.203Z"
   },
   {
    "duration": 20,
    "start_time": "2024-04-07T18:03:40.211Z"
   },
   {
    "duration": 9,
    "start_time": "2024-04-07T18:03:40.232Z"
   },
   {
    "duration": 16,
    "start_time": "2024-04-07T18:03:40.243Z"
   },
   {
    "duration": 13,
    "start_time": "2024-04-07T18:03:40.291Z"
   },
   {
    "duration": 19,
    "start_time": "2024-04-07T18:03:40.305Z"
   },
   {
    "duration": 9,
    "start_time": "2024-04-07T18:03:40.326Z"
   },
   {
    "duration": 5,
    "start_time": "2024-04-07T18:04:36.063Z"
   },
   {
    "duration": 8,
    "start_time": "2024-04-07T18:04:38.058Z"
   },
   {
    "duration": 10,
    "start_time": "2024-04-07T18:06:37.229Z"
   },
   {
    "duration": 14,
    "start_time": "2024-04-07T18:06:39.369Z"
   },
   {
    "duration": 17,
    "start_time": "2024-04-07T18:06:50.052Z"
   },
   {
    "duration": 8,
    "start_time": "2024-04-07T18:07:44.579Z"
   },
   {
    "duration": 8,
    "start_time": "2024-04-07T18:08:26.964Z"
   },
   {
    "duration": 148,
    "start_time": "2024-04-07T18:11:55.622Z"
   },
   {
    "duration": 142,
    "start_time": "2024-04-07T18:12:48.889Z"
   },
   {
    "duration": 146,
    "start_time": "2024-04-07T18:12:54.316Z"
   },
   {
    "duration": 167,
    "start_time": "2024-04-07T18:13:00.330Z"
   },
   {
    "duration": 186,
    "start_time": "2024-04-07T18:13:04.465Z"
   },
   {
    "duration": 133,
    "start_time": "2024-04-07T18:13:08.502Z"
   },
   {
    "duration": 140,
    "start_time": "2024-04-07T18:13:12.620Z"
   },
   {
    "duration": 74,
    "start_time": "2024-04-07T18:14:32.449Z"
   },
   {
    "duration": 146,
    "start_time": "2024-04-07T18:16:24.641Z"
   },
   {
    "duration": 76,
    "start_time": "2024-04-07T18:18:55.897Z"
   },
   {
    "duration": 157,
    "start_time": "2024-04-07T18:20:01.006Z"
   },
   {
    "duration": 146,
    "start_time": "2024-04-07T18:20:45.823Z"
   },
   {
    "duration": 80,
    "start_time": "2024-04-07T18:21:10.873Z"
   },
   {
    "duration": 147,
    "start_time": "2024-04-07T18:22:15.707Z"
   },
   {
    "duration": 199,
    "start_time": "2024-04-07T18:22:46.646Z"
   },
   {
    "duration": 154,
    "start_time": "2024-04-07T18:22:51.565Z"
   },
   {
    "duration": 292,
    "start_time": "2024-04-07T18:22:58.890Z"
   },
   {
    "duration": 1267,
    "start_time": "2024-04-07T18:24:55.532Z"
   },
   {
    "duration": 148,
    "start_time": "2024-04-07T18:25:28.605Z"
   },
   {
    "duration": 220,
    "start_time": "2024-04-07T18:25:36.395Z"
   },
   {
    "duration": 270,
    "start_time": "2024-04-07T18:25:49.095Z"
   },
   {
    "duration": 211,
    "start_time": "2024-04-07T18:27:34.596Z"
   },
   {
    "duration": 5,
    "start_time": "2024-04-07T18:29:12.052Z"
   },
   {
    "duration": 212,
    "start_time": "2024-04-07T18:29:32.661Z"
   },
   {
    "duration": 5,
    "start_time": "2024-04-07T18:29:49.003Z"
   },
   {
    "duration": 206,
    "start_time": "2024-04-07T18:29:50.001Z"
   },
   {
    "duration": 347,
    "start_time": "2024-04-07T18:29:54.810Z"
   },
   {
    "duration": 274,
    "start_time": "2024-04-07T18:30:11.675Z"
   },
   {
    "duration": 5,
    "start_time": "2024-04-07T18:30:26.637Z"
   },
   {
    "duration": 276,
    "start_time": "2024-04-07T18:30:27.154Z"
   },
   {
    "duration": 4,
    "start_time": "2024-04-07T18:30:38.391Z"
   },
   {
    "duration": 283,
    "start_time": "2024-04-07T18:30:39.045Z"
   },
   {
    "duration": 174,
    "start_time": "2024-04-07T18:30:43.189Z"
   },
   {
    "duration": 190,
    "start_time": "2024-04-07T18:30:48.728Z"
   },
   {
    "duration": 155,
    "start_time": "2024-04-07T18:30:54.184Z"
   },
   {
    "duration": 4,
    "start_time": "2024-04-07T18:31:06.241Z"
   },
   {
    "duration": 163,
    "start_time": "2024-04-07T18:31:06.559Z"
   },
   {
    "duration": 290,
    "start_time": "2024-04-07T18:31:12.007Z"
   },
   {
    "duration": 16,
    "start_time": "2024-04-07T18:31:40.264Z"
   },
   {
    "duration": 15,
    "start_time": "2024-04-07T18:31:49.643Z"
   },
   {
    "duration": 12,
    "start_time": "2024-04-07T18:31:53.919Z"
   },
   {
    "duration": 204,
    "start_time": "2024-04-07T18:34:41.941Z"
   },
   {
    "duration": 258,
    "start_time": "2024-04-07T18:35:47.844Z"
   },
   {
    "duration": 12,
    "start_time": "2024-04-07T18:35:51.471Z"
   },
   {
    "duration": 140,
    "start_time": "2024-04-07T18:37:10.944Z"
   },
   {
    "duration": 237,
    "start_time": "2024-04-07T18:39:07.788Z"
   },
   {
    "duration": 11,
    "start_time": "2024-04-07T18:42:54.855Z"
   },
   {
    "duration": 27,
    "start_time": "2024-04-07T18:43:01.670Z"
   },
   {
    "duration": 17,
    "start_time": "2024-04-07T18:45:12.336Z"
   },
   {
    "duration": 34,
    "start_time": "2024-04-07T18:46:37.483Z"
   },
   {
    "duration": 13,
    "start_time": "2024-04-07T18:47:45.280Z"
   },
   {
    "duration": 19,
    "start_time": "2024-04-07T18:48:25.667Z"
   },
   {
    "duration": 20,
    "start_time": "2024-04-07T18:48:33.170Z"
   },
   {
    "duration": 278,
    "start_time": "2024-04-07T18:49:16.301Z"
   },
   {
    "duration": 321,
    "start_time": "2024-04-07T18:51:38.356Z"
   },
   {
    "duration": 221,
    "start_time": "2024-04-07T18:53:39.720Z"
   },
   {
    "duration": 376,
    "start_time": "2024-04-07T18:53:53.365Z"
   },
   {
    "duration": 1234,
    "start_time": "2024-04-07T18:54:42.192Z"
   },
   {
    "duration": 409,
    "start_time": "2024-04-07T18:54:51.619Z"
   },
   {
    "duration": 398,
    "start_time": "2024-04-07T18:55:01.972Z"
   },
   {
    "duration": 335,
    "start_time": "2024-04-07T18:59:26.152Z"
   },
   {
    "duration": 1429,
    "start_time": "2024-04-07T19:00:46.876Z"
   },
   {
    "duration": 1259,
    "start_time": "2024-04-07T19:01:02.631Z"
   },
   {
    "duration": 1258,
    "start_time": "2024-04-07T19:02:31.572Z"
   },
   {
    "duration": 343,
    "start_time": "2024-04-07T19:04:32.856Z"
   },
   {
    "duration": 323,
    "start_time": "2024-04-07T19:05:27.884Z"
   },
   {
    "duration": 19,
    "start_time": "2024-04-07T19:05:42.847Z"
   },
   {
    "duration": 321,
    "start_time": "2024-04-07T19:05:52.747Z"
   },
   {
    "duration": 323,
    "start_time": "2024-04-07T19:06:28.823Z"
   },
   {
    "duration": 321,
    "start_time": "2024-04-07T19:07:14.258Z"
   },
   {
    "duration": 1337,
    "start_time": "2024-04-07T19:08:05.712Z"
   },
   {
    "duration": 15,
    "start_time": "2024-04-07T19:09:14.508Z"
   },
   {
    "duration": 28,
    "start_time": "2024-04-07T19:09:29.108Z"
   },
   {
    "duration": 28,
    "start_time": "2024-04-07T19:09:44.125Z"
   },
   {
    "duration": 359,
    "start_time": "2024-04-07T19:14:45.092Z"
   },
   {
    "duration": 346,
    "start_time": "2024-04-07T19:14:59.932Z"
   },
   {
    "duration": 22,
    "start_time": "2024-04-07T19:15:11.774Z"
   },
   {
    "duration": 15,
    "start_time": "2024-04-07T19:15:25.620Z"
   },
   {
    "duration": 21,
    "start_time": "2024-04-07T19:21:37.349Z"
   },
   {
    "duration": 11,
    "start_time": "2024-04-07T19:24:23.091Z"
   },
   {
    "duration": 21,
    "start_time": "2024-04-07T19:26:49.284Z"
   },
   {
    "duration": 30,
    "start_time": "2024-04-07T19:26:59.866Z"
   },
   {
    "duration": 1275,
    "start_time": "2024-04-07T19:31:09.121Z"
   },
   {
    "duration": 6,
    "start_time": "2024-04-07T19:31:21.077Z"
   },
   {
    "duration": 21,
    "start_time": "2024-04-07T19:31:51.864Z"
   },
   {
    "duration": 7,
    "start_time": "2024-04-07T19:32:58.732Z"
   },
   {
    "duration": 20,
    "start_time": "2024-04-07T19:32:59.443Z"
   },
   {
    "duration": 102,
    "start_time": "2024-04-07T19:40:48.510Z"
   },
   {
    "duration": 78,
    "start_time": "2024-04-07T19:41:58.073Z"
   },
   {
    "duration": 98,
    "start_time": "2024-04-07T19:42:04.927Z"
   },
   {
    "duration": 71,
    "start_time": "2024-04-07T19:43:06.988Z"
   },
   {
    "duration": 53,
    "start_time": "2024-04-07T19:44:13.524Z"
   },
   {
    "duration": 7,
    "start_time": "2024-04-07T19:44:18.132Z"
   },
   {
    "duration": 24,
    "start_time": "2024-04-07T19:44:19.146Z"
   },
   {
    "duration": 119,
    "start_time": "2024-04-07T19:44:25.962Z"
   },
   {
    "duration": 12,
    "start_time": "2024-04-07T19:46:02.089Z"
   },
   {
    "duration": 11,
    "start_time": "2024-04-07T19:46:09.821Z"
   },
   {
    "duration": 37,
    "start_time": "2024-04-07T19:46:14.348Z"
   },
   {
    "duration": 22,
    "start_time": "2024-04-07T19:46:20.853Z"
   },
   {
    "duration": 11,
    "start_time": "2024-04-07T19:48:16.798Z"
   },
   {
    "duration": 387,
    "start_time": "2024-04-07T19:49:02.177Z"
   },
   {
    "duration": 300,
    "start_time": "2024-04-07T19:49:11.637Z"
   },
   {
    "duration": 125,
    "start_time": "2024-04-07T19:50:07.924Z"
   },
   {
    "duration": 144,
    "start_time": "2024-04-07T19:50:13.708Z"
   },
   {
    "duration": 101,
    "start_time": "2024-04-07T19:51:23.247Z"
   },
   {
    "duration": 317,
    "start_time": "2024-04-07T19:51:41.229Z"
   },
   {
    "duration": 153,
    "start_time": "2024-04-07T20:18:08.867Z"
   },
   {
    "duration": 7,
    "start_time": "2024-04-07T20:19:10.891Z"
   },
   {
    "duration": 466,
    "start_time": "2024-04-07T20:20:03.970Z"
   },
   {
    "duration": 306,
    "start_time": "2024-04-07T20:20:10.410Z"
   },
   {
    "duration": 1170,
    "start_time": "2024-04-07T20:20:37.493Z"
   },
   {
    "duration": 66,
    "start_time": "2024-04-07T20:20:38.665Z"
   },
   {
    "duration": 13,
    "start_time": "2024-04-07T20:20:38.733Z"
   },
   {
    "duration": 3,
    "start_time": "2024-04-07T20:20:38.749Z"
   },
   {
    "duration": 12,
    "start_time": "2024-04-07T20:20:38.754Z"
   },
   {
    "duration": 11,
    "start_time": "2024-04-07T20:20:38.768Z"
   },
   {
    "duration": 19,
    "start_time": "2024-04-07T20:20:38.780Z"
   },
   {
    "duration": 5,
    "start_time": "2024-04-07T20:20:38.800Z"
   },
   {
    "duration": 7,
    "start_time": "2024-04-07T20:20:38.807Z"
   },
   {
    "duration": 10,
    "start_time": "2024-04-07T20:20:38.817Z"
   },
   {
    "duration": 10,
    "start_time": "2024-04-07T20:20:38.829Z"
   },
   {
    "duration": 10,
    "start_time": "2024-04-07T20:20:38.842Z"
   },
   {
    "duration": 12,
    "start_time": "2024-04-07T20:20:38.892Z"
   },
   {
    "duration": 16,
    "start_time": "2024-04-07T20:20:38.906Z"
   },
   {
    "duration": 9,
    "start_time": "2024-04-07T20:20:38.923Z"
   },
   {
    "duration": 20,
    "start_time": "2024-04-07T20:20:38.934Z"
   },
   {
    "duration": 8,
    "start_time": "2024-04-07T20:20:38.992Z"
   },
   {
    "duration": 192,
    "start_time": "2024-04-07T20:20:39.001Z"
   },
   {
    "duration": 266,
    "start_time": "2024-04-07T20:20:39.194Z"
   },
   {
    "duration": 94,
    "start_time": "2024-04-07T20:20:39.462Z"
   },
   {
    "duration": 248,
    "start_time": "2024-04-07T20:20:39.558Z"
   },
   {
    "duration": 305,
    "start_time": "2024-04-07T20:20:39.807Z"
   },
   {
    "duration": 13,
    "start_time": "2024-04-07T20:20:40.113Z"
   },
   {
    "duration": 173,
    "start_time": "2024-04-07T20:20:40.128Z"
   },
   {
    "duration": 35,
    "start_time": "2024-04-07T20:20:40.303Z"
   },
   {
    "duration": 14,
    "start_time": "2024-04-07T20:20:40.339Z"
   },
   {
    "duration": 52,
    "start_time": "2024-04-07T20:20:40.355Z"
   },
   {
    "duration": 28,
    "start_time": "2024-04-07T20:20:40.411Z"
   },
   {
    "duration": 496,
    "start_time": "2024-04-07T20:20:40.441Z"
   },
   {
    "duration": 21,
    "start_time": "2024-04-07T20:20:40.939Z"
   },
   {
    "duration": 31,
    "start_time": "2024-04-07T20:20:40.962Z"
   },
   {
    "duration": 57,
    "start_time": "2024-04-07T20:20:40.995Z"
   },
   {
    "duration": 1367,
    "start_time": "2024-04-07T20:20:41.054Z"
   },
   {
    "duration": 0,
    "start_time": "2024-04-07T20:20:42.423Z"
   },
   {
    "duration": 0,
    "start_time": "2024-04-07T20:20:42.425Z"
   },
   {
    "duration": 0,
    "start_time": "2024-04-07T20:20:42.426Z"
   },
   {
    "duration": 0,
    "start_time": "2024-04-07T20:20:42.427Z"
   },
   {
    "duration": 6,
    "start_time": "2024-04-07T20:21:43.571Z"
   },
   {
    "duration": 29,
    "start_time": "2024-04-07T20:21:45.671Z"
   },
   {
    "duration": 22,
    "start_time": "2024-04-07T20:21:49.045Z"
   },
   {
    "duration": 285,
    "start_time": "2024-04-07T20:21:49.862Z"
   },
   {
    "duration": 278,
    "start_time": "2024-04-07T20:22:16.570Z"
   },
   {
    "duration": 19,
    "start_time": "2024-04-07T20:23:55.443Z"
   },
   {
    "duration": 17,
    "start_time": "2024-04-07T20:24:30.693Z"
   },
   {
    "duration": 11,
    "start_time": "2024-04-07T20:24:44.895Z"
   },
   {
    "duration": 17,
    "start_time": "2024-04-07T20:24:53.026Z"
   },
   {
    "duration": 9,
    "start_time": "2024-04-07T20:24:56.676Z"
   },
   {
    "duration": 259,
    "start_time": "2024-04-07T20:25:05.022Z"
   },
   {
    "duration": 13,
    "start_time": "2024-04-07T20:29:18.949Z"
   },
   {
    "duration": 7,
    "start_time": "2024-04-07T20:29:23.815Z"
   },
   {
    "duration": 5,
    "start_time": "2024-04-07T20:29:53.698Z"
   },
   {
    "duration": 148,
    "start_time": "2024-04-07T20:34:52.632Z"
   },
   {
    "duration": 84,
    "start_time": "2024-04-07T20:35:54.120Z"
   },
   {
    "duration": 12,
    "start_time": "2024-04-07T20:36:16.393Z"
   },
   {
    "duration": 7,
    "start_time": "2024-04-07T20:36:23.949Z"
   },
   {
    "duration": 8,
    "start_time": "2024-04-07T20:37:44.968Z"
   },
   {
    "duration": 7,
    "start_time": "2024-04-07T20:37:52.440Z"
   },
   {
    "duration": 26,
    "start_time": "2024-04-07T20:41:33.334Z"
   },
   {
    "duration": 5,
    "start_time": "2024-04-07T20:44:57.520Z"
   },
   {
    "duration": 5,
    "start_time": "2024-04-07T20:45:13.294Z"
   },
   {
    "duration": 6,
    "start_time": "2024-04-07T20:45:40.537Z"
   },
   {
    "duration": 74,
    "start_time": "2024-04-07T20:56:37.573Z"
   },
   {
    "duration": 13,
    "start_time": "2024-04-07T20:58:37.748Z"
   },
   {
    "duration": 105,
    "start_time": "2024-04-07T21:02:15.803Z"
   },
   {
    "duration": 1261,
    "start_time": "2024-04-07T21:23:20.069Z"
   },
   {
    "duration": 205,
    "start_time": "2024-04-07T21:23:21.332Z"
   },
   {
    "duration": 12,
    "start_time": "2024-04-07T21:23:21.539Z"
   },
   {
    "duration": 4,
    "start_time": "2024-04-07T21:23:21.553Z"
   },
   {
    "duration": 10,
    "start_time": "2024-04-07T21:23:21.558Z"
   },
   {
    "duration": 8,
    "start_time": "2024-04-07T21:23:21.569Z"
   },
   {
    "duration": 12,
    "start_time": "2024-04-07T21:23:21.578Z"
   },
   {
    "duration": 6,
    "start_time": "2024-04-07T21:23:21.591Z"
   },
   {
    "duration": 8,
    "start_time": "2024-04-07T21:23:21.598Z"
   },
   {
    "duration": 9,
    "start_time": "2024-04-07T21:23:21.608Z"
   },
   {
    "duration": 10,
    "start_time": "2024-04-07T21:23:21.619Z"
   },
   {
    "duration": 10,
    "start_time": "2024-04-07T21:23:21.631Z"
   },
   {
    "duration": 32,
    "start_time": "2024-04-07T21:23:21.642Z"
   },
   {
    "duration": 21,
    "start_time": "2024-04-07T21:23:21.675Z"
   },
   {
    "duration": 8,
    "start_time": "2024-04-07T21:23:21.697Z"
   },
   {
    "duration": 21,
    "start_time": "2024-04-07T21:23:21.706Z"
   },
   {
    "duration": 14,
    "start_time": "2024-04-07T21:23:21.728Z"
   },
   {
    "duration": 165,
    "start_time": "2024-04-07T21:23:21.743Z"
   },
   {
    "duration": 225,
    "start_time": "2024-04-07T21:23:21.910Z"
   },
   {
    "duration": 85,
    "start_time": "2024-04-07T21:23:22.137Z"
   },
   {
    "duration": 206,
    "start_time": "2024-04-07T21:23:22.223Z"
   },
   {
    "duration": 249,
    "start_time": "2024-04-07T21:23:22.430Z"
   },
   {
    "duration": 10,
    "start_time": "2024-04-07T21:23:22.681Z"
   },
   {
    "duration": 151,
    "start_time": "2024-04-07T21:23:22.692Z"
   },
   {
    "duration": 38,
    "start_time": "2024-04-07T21:23:22.845Z"
   },
   {
    "duration": 27,
    "start_time": "2024-04-07T21:23:22.885Z"
   },
   {
    "duration": 18,
    "start_time": "2024-04-07T21:23:22.913Z"
   },
   {
    "duration": 41,
    "start_time": "2024-04-07T21:23:22.934Z"
   },
   {
    "duration": 419,
    "start_time": "2024-04-07T21:23:22.977Z"
   },
   {
    "duration": 18,
    "start_time": "2024-04-07T21:23:23.398Z"
   },
   {
    "duration": 14,
    "start_time": "2024-04-07T21:23:23.417Z"
   },
   {
    "duration": 46,
    "start_time": "2024-04-07T21:23:23.432Z"
   },
   {
    "duration": 5,
    "start_time": "2024-04-07T21:23:23.480Z"
   },
   {
    "duration": 27,
    "start_time": "2024-04-07T21:23:23.486Z"
   },
   {
    "duration": 15,
    "start_time": "2024-04-07T21:23:23.514Z"
   },
   {
    "duration": 319,
    "start_time": "2024-04-07T21:23:23.531Z"
   },
   {
    "duration": 106,
    "start_time": "2024-04-07T21:23:23.851Z"
   },
   {
    "duration": 0,
    "start_time": "2024-04-07T21:23:23.966Z"
   },
   {
    "duration": 0,
    "start_time": "2024-04-07T21:23:23.967Z"
   },
   {
    "duration": 6,
    "start_time": "2024-04-07T21:23:52.338Z"
   },
   {
    "duration": 6,
    "start_time": "2024-04-07T21:23:54.280Z"
   },
   {
    "duration": 11,
    "start_time": "2024-04-07T21:23:56.298Z"
   },
   {
    "duration": 5,
    "start_time": "2024-04-07T21:25:11.719Z"
   },
   {
    "duration": 3,
    "start_time": "2024-04-07T21:27:29.495Z"
   },
   {
    "duration": 4,
    "start_time": "2024-04-07T21:27:38.254Z"
   },
   {
    "duration": 4,
    "start_time": "2024-04-07T21:27:43.540Z"
   },
   {
    "duration": 3,
    "start_time": "2024-04-07T21:27:47.495Z"
   },
   {
    "duration": 41,
    "start_time": "2024-04-07T22:43:09.744Z"
   },
   {
    "duration": 1111,
    "start_time": "2024-04-07T22:43:20.406Z"
   },
   {
    "duration": 209,
    "start_time": "2024-04-07T22:43:22.277Z"
   },
   {
    "duration": 11,
    "start_time": "2024-04-07T22:43:22.950Z"
   },
   {
    "duration": 3,
    "start_time": "2024-04-07T22:43:25.447Z"
   },
   {
    "duration": 3,
    "start_time": "2024-04-07T22:43:25.812Z"
   },
   {
    "duration": 5,
    "start_time": "2024-04-07T22:43:26.158Z"
   },
   {
    "duration": 15,
    "start_time": "2024-04-07T22:43:27.351Z"
   },
   {
    "duration": 4,
    "start_time": "2024-04-07T22:43:30.219Z"
   },
   {
    "duration": 6,
    "start_time": "2024-04-07T22:43:31.283Z"
   },
   {
    "duration": 11,
    "start_time": "2024-04-07T22:43:33.203Z"
   },
   {
    "duration": 7,
    "start_time": "2024-04-07T22:43:33.916Z"
   },
   {
    "duration": 8,
    "start_time": "2024-04-07T22:43:35.778Z"
   },
   {
    "duration": 8,
    "start_time": "2024-04-07T22:43:36.402Z"
   },
   {
    "duration": 16,
    "start_time": "2024-04-07T22:44:40.278Z"
   },
   {
    "duration": 8,
    "start_time": "2024-04-07T22:44:44.069Z"
   },
   {
    "duration": 14,
    "start_time": "2024-04-07T22:44:47.904Z"
   },
   {
    "duration": 68,
    "start_time": "2024-04-07T22:47:34.650Z"
   },
   {
    "duration": 17,
    "start_time": "2024-04-07T22:47:50.307Z"
   },
   {
    "duration": 22,
    "start_time": "2024-04-07T22:48:06.504Z"
   },
   {
    "duration": 12,
    "start_time": "2024-04-07T22:49:12.581Z"
   },
   {
    "duration": 10,
    "start_time": "2024-04-07T22:49:28.855Z"
   },
   {
    "duration": 11,
    "start_time": "2024-04-07T22:49:34.929Z"
   },
   {
    "duration": 12,
    "start_time": "2024-04-07T22:49:46.895Z"
   },
   {
    "duration": 13,
    "start_time": "2024-04-07T22:49:50.123Z"
   },
   {
    "duration": 14,
    "start_time": "2024-04-07T22:50:52.849Z"
   },
   {
    "duration": 17,
    "start_time": "2024-04-07T22:50:58.978Z"
   },
   {
    "duration": 6,
    "start_time": "2024-04-07T22:51:41.328Z"
   },
   {
    "duration": 6,
    "start_time": "2024-04-07T22:51:51.964Z"
   },
   {
    "duration": 5,
    "start_time": "2024-04-07T22:52:03.626Z"
   },
   {
    "duration": 4,
    "start_time": "2024-04-07T22:52:34.354Z"
   },
   {
    "duration": 8,
    "start_time": "2024-04-07T22:52:45.553Z"
   },
   {
    "duration": 7,
    "start_time": "2024-04-07T22:53:47.610Z"
   },
   {
    "duration": 121,
    "start_time": "2024-04-07T22:53:48.862Z"
   },
   {
    "duration": 172,
    "start_time": "2024-04-07T22:53:54.368Z"
   },
   {
    "duration": 144,
    "start_time": "2024-04-07T22:56:12.599Z"
   },
   {
    "duration": 142,
    "start_time": "2024-04-07T22:56:18.882Z"
   },
   {
    "duration": 120,
    "start_time": "2024-04-07T22:56:24.386Z"
   },
   {
    "duration": 91,
    "start_time": "2024-04-07T22:58:03.357Z"
   },
   {
    "duration": 3,
    "start_time": "2024-04-07T23:01:18.648Z"
   },
   {
    "duration": 3,
    "start_time": "2024-04-07T23:02:44.860Z"
   },
   {
    "duration": 7,
    "start_time": "2024-04-07T23:02:56.680Z"
   },
   {
    "duration": 32,
    "start_time": "2024-04-07T23:03:08.753Z"
   },
   {
    "duration": 3,
    "start_time": "2024-04-07T23:03:14.217Z"
   },
   {
    "duration": 59,
    "start_time": "2024-04-07T23:04:45.102Z"
   },
   {
    "duration": 3,
    "start_time": "2024-04-07T23:04:53.886Z"
   },
   {
    "duration": 27,
    "start_time": "2024-04-07T23:04:54.147Z"
   },
   {
    "duration": 3,
    "start_time": "2024-04-07T23:04:55.652Z"
   },
   {
    "duration": 21,
    "start_time": "2024-04-07T23:04:59.081Z"
   },
   {
    "duration": 15,
    "start_time": "2024-04-07T23:04:59.356Z"
   },
   {
    "duration": 18,
    "start_time": "2024-04-07T23:04:59.773Z"
   },
   {
    "duration": 293,
    "start_time": "2024-04-07T23:05:03.099Z"
   },
   {
    "duration": 668,
    "start_time": "2024-04-07T23:07:48.235Z"
   },
   {
    "duration": 487,
    "start_time": "2024-04-07T23:09:36.934Z"
   },
   {
    "duration": 201,
    "start_time": "2024-04-07T23:12:19.755Z"
   },
   {
    "duration": 15,
    "start_time": "2024-04-07T23:14:13.612Z"
   },
   {
    "duration": 11,
    "start_time": "2024-04-07T23:14:17.660Z"
   },
   {
    "duration": 11,
    "start_time": "2024-04-07T23:14:54.224Z"
   },
   {
    "duration": 5,
    "start_time": "2024-04-07T23:16:27.995Z"
   },
   {
    "duration": 4,
    "start_time": "2024-04-07T23:16:52.359Z"
   },
   {
    "duration": 4,
    "start_time": "2024-04-07T23:17:17.669Z"
   },
   {
    "duration": 12,
    "start_time": "2024-04-07T23:17:20.863Z"
   },
   {
    "duration": 16,
    "start_time": "2024-04-07T23:19:10.008Z"
   },
   {
    "duration": 12,
    "start_time": "2024-04-07T23:19:20.973Z"
   },
   {
    "duration": 770,
    "start_time": "2024-04-07T23:19:47.132Z"
   },
   {
    "duration": 4,
    "start_time": "2024-04-07T23:19:58.768Z"
   },
   {
    "duration": 3,
    "start_time": "2024-04-07T23:20:13.478Z"
   },
   {
    "duration": 3,
    "start_time": "2024-04-07T23:20:19.304Z"
   },
   {
    "duration": 2,
    "start_time": "2024-04-07T23:20:39.312Z"
   },
   {
    "duration": 64,
    "start_time": "2024-04-07T23:20:40.048Z"
   },
   {
    "duration": 8,
    "start_time": "2024-04-07T23:20:40.392Z"
   },
   {
    "duration": 3,
    "start_time": "2024-04-07T23:20:40.950Z"
   },
   {
    "duration": 4,
    "start_time": "2024-04-07T23:20:41.179Z"
   },
   {
    "duration": 6,
    "start_time": "2024-04-07T23:20:41.384Z"
   },
   {
    "duration": 10,
    "start_time": "2024-04-07T23:20:41.594Z"
   },
   {
    "duration": 4,
    "start_time": "2024-04-07T23:20:42.948Z"
   },
   {
    "duration": 6,
    "start_time": "2024-04-07T23:20:43.599Z"
   },
   {
    "duration": 8,
    "start_time": "2024-04-07T23:20:44.004Z"
   },
   {
    "duration": 7,
    "start_time": "2024-04-07T23:20:44.435Z"
   },
   {
    "duration": 11,
    "start_time": "2024-04-07T23:20:44.679Z"
   },
   {
    "duration": 10,
    "start_time": "2024-04-07T23:20:45.127Z"
   },
   {
    "duration": 13,
    "start_time": "2024-04-07T23:20:45.866Z"
   },
   {
    "duration": 7,
    "start_time": "2024-04-07T23:20:47.801Z"
   },
   {
    "duration": 18,
    "start_time": "2024-04-07T23:20:48.779Z"
   },
   {
    "duration": 7,
    "start_time": "2024-04-07T23:20:50.595Z"
   },
   {
    "duration": 6,
    "start_time": "2024-04-07T23:20:52.018Z"
   },
   {
    "duration": 4,
    "start_time": "2024-04-07T23:20:52.430Z"
   },
   {
    "duration": 8,
    "start_time": "2024-04-07T23:20:53.134Z"
   },
   {
    "duration": 126,
    "start_time": "2024-04-07T23:20:55.177Z"
   },
   {
    "duration": 166,
    "start_time": "2024-04-07T23:20:56.688Z"
   },
   {
    "duration": 62,
    "start_time": "2024-04-07T23:20:58.211Z"
   },
   {
    "duration": 109,
    "start_time": "2024-04-07T23:20:59.867Z"
   },
   {
    "duration": 252,
    "start_time": "2024-04-07T23:21:02.431Z"
   },
   {
    "duration": 7,
    "start_time": "2024-04-07T23:21:03.292Z"
   },
   {
    "duration": 109,
    "start_time": "2024-04-07T23:21:04.875Z"
   },
   {
    "duration": 89,
    "start_time": "2024-04-07T23:21:05.503Z"
   },
   {
    "duration": 3,
    "start_time": "2024-04-07T23:21:09.371Z"
   },
   {
    "duration": 26,
    "start_time": "2024-04-07T23:21:10.047Z"
   },
   {
    "duration": 3,
    "start_time": "2024-04-07T23:21:16.017Z"
   },
   {
    "duration": 21,
    "start_time": "2024-04-07T23:21:17.760Z"
   },
   {
    "duration": 16,
    "start_time": "2024-04-07T23:21:25.217Z"
   },
   {
    "duration": 15,
    "start_time": "2024-04-07T23:21:32.416Z"
   },
   {
    "duration": 279,
    "start_time": "2024-04-07T23:21:34.837Z"
   },
   {
    "duration": 435,
    "start_time": "2024-04-07T23:21:35.352Z"
   },
   {
    "duration": 223,
    "start_time": "2024-04-07T23:21:36.487Z"
   },
   {
    "duration": 10,
    "start_time": "2024-04-07T23:21:42.480Z"
   },
   {
    "duration": 5,
    "start_time": "2024-04-07T23:21:46.402Z"
   },
   {
    "duration": 16,
    "start_time": "2024-04-07T23:21:47.381Z"
   },
   {
    "duration": 5,
    "start_time": "2024-04-07T23:21:48.757Z"
   },
   {
    "duration": 12,
    "start_time": "2024-04-07T23:21:51.276Z"
   },
   {
    "duration": 9,
    "start_time": "2024-04-07T23:23:20.038Z"
   },
   {
    "duration": 6,
    "start_time": "2024-04-07T23:23:29.694Z"
   },
   {
    "duration": 5,
    "start_time": "2024-04-07T23:23:32.448Z"
   },
   {
    "duration": 15,
    "start_time": "2024-04-07T23:23:33.740Z"
   },
   {
    "duration": 5,
    "start_time": "2024-04-07T23:23:35.432Z"
   },
   {
    "duration": 15,
    "start_time": "2024-04-07T23:24:23.543Z"
   },
   {
    "duration": 25,
    "start_time": "2024-04-07T23:24:31.189Z"
   },
   {
    "duration": 16,
    "start_time": "2024-04-07T23:25:14.460Z"
   },
   {
    "duration": 5,
    "start_time": "2024-04-07T23:25:14.914Z"
   },
   {
    "duration": 11,
    "start_time": "2024-04-07T23:25:16.129Z"
   },
   {
    "duration": 10,
    "start_time": "2024-04-07T23:28:07.596Z"
   },
   {
    "duration": 4,
    "start_time": "2024-04-07T23:28:48.302Z"
   },
   {
    "duration": 1001,
    "start_time": "2024-04-07T23:29:02.192Z"
   },
   {
    "duration": 67,
    "start_time": "2024-04-07T23:29:03.194Z"
   },
   {
    "duration": 12,
    "start_time": "2024-04-07T23:29:03.597Z"
   },
   {
    "duration": 3,
    "start_time": "2024-04-07T23:29:04.298Z"
   },
   {
    "duration": 3,
    "start_time": "2024-04-07T23:29:04.535Z"
   },
   {
    "duration": 5,
    "start_time": "2024-04-07T23:29:04.742Z"
   },
   {
    "duration": 10,
    "start_time": "2024-04-07T23:29:04.957Z"
   },
   {
    "duration": 5,
    "start_time": "2024-04-07T23:29:05.355Z"
   },
   {
    "duration": 6,
    "start_time": "2024-04-07T23:29:05.998Z"
   },
   {
    "duration": 10,
    "start_time": "2024-04-07T23:29:06.409Z"
   },
   {
    "duration": 7,
    "start_time": "2024-04-07T23:29:06.836Z"
   },
   {
    "duration": 8,
    "start_time": "2024-04-07T23:29:07.077Z"
   },
   {
    "duration": 9,
    "start_time": "2024-04-07T23:29:07.565Z"
   },
   {
    "duration": 12,
    "start_time": "2024-04-07T23:29:08.812Z"
   },
   {
    "duration": 7,
    "start_time": "2024-04-07T23:29:09.561Z"
   },
   {
    "duration": 19,
    "start_time": "2024-04-07T23:29:10.115Z"
   },
   {
    "duration": 5,
    "start_time": "2024-04-07T23:29:11.776Z"
   },
   {
    "duration": 6,
    "start_time": "2024-04-07T23:29:12.707Z"
   },
   {
    "duration": 5,
    "start_time": "2024-04-07T23:29:13.038Z"
   },
   {
    "duration": 8,
    "start_time": "2024-04-07T23:29:13.590Z"
   },
   {
    "duration": 116,
    "start_time": "2024-04-07T23:29:14.759Z"
   },
   {
    "duration": 177,
    "start_time": "2024-04-07T23:29:15.442Z"
   },
   {
    "duration": 62,
    "start_time": "2024-04-07T23:29:16.841Z"
   },
   {
    "duration": 110,
    "start_time": "2024-04-07T23:29:18.206Z"
   },
   {
    "duration": 246,
    "start_time": "2024-04-07T23:29:20.202Z"
   },
   {
    "duration": 7,
    "start_time": "2024-04-07T23:29:21.224Z"
   },
   {
    "duration": 113,
    "start_time": "2024-04-07T23:29:22.660Z"
   },
   {
    "duration": 93,
    "start_time": "2024-04-07T23:29:22.957Z"
   },
   {
    "duration": 3,
    "start_time": "2024-04-07T23:29:28.666Z"
   },
   {
    "duration": 27,
    "start_time": "2024-04-07T23:29:29.318Z"
   },
   {
    "duration": 3,
    "start_time": "2024-04-07T23:29:29.850Z"
   },
   {
    "duration": 22,
    "start_time": "2024-04-07T23:29:31.227Z"
   },
   {
    "duration": 15,
    "start_time": "2024-04-07T23:29:32.444Z"
   },
   {
    "duration": 15,
    "start_time": "2024-04-07T23:29:33.011Z"
   },
   {
    "duration": 331,
    "start_time": "2024-04-07T23:29:35.274Z"
   },
   {
    "duration": 513,
    "start_time": "2024-04-07T23:29:35.790Z"
   },
   {
    "duration": 199,
    "start_time": "2024-04-07T23:29:38.041Z"
   },
   {
    "duration": 16,
    "start_time": "2024-04-07T23:29:43.204Z"
   },
   {
    "duration": 6,
    "start_time": "2024-04-07T23:29:45.762Z"
   },
   {
    "duration": 10,
    "start_time": "2024-04-07T23:29:54.733Z"
   },
   {
    "duration": 3,
    "start_time": "2024-04-07T23:29:55.795Z"
   },
   {
    "duration": 5,
    "start_time": "2024-04-07T23:29:58.334Z"
   },
   {
    "duration": 1003,
    "start_time": "2024-04-07T23:30:07.052Z"
   },
   {
    "duration": 829,
    "start_time": "2024-04-07T23:30:37.732Z"
   },
   {
    "duration": 12,
    "start_time": "2024-04-07T23:32:35.356Z"
   },
   {
    "duration": 11,
    "start_time": "2024-04-07T23:32:40.533Z"
   },
   {
    "duration": 19,
    "start_time": "2024-04-07T23:32:43.441Z"
   },
   {
    "duration": 974,
    "start_time": "2024-04-07T23:33:11.676Z"
   },
   {
    "duration": 63,
    "start_time": "2024-04-07T23:33:12.804Z"
   },
   {
    "duration": 11,
    "start_time": "2024-04-07T23:33:13.177Z"
   },
   {
    "duration": 3,
    "start_time": "2024-04-07T23:33:13.742Z"
   },
   {
    "duration": 4,
    "start_time": "2024-04-07T23:33:13.951Z"
   },
   {
    "duration": 5,
    "start_time": "2024-04-07T23:33:14.156Z"
   },
   {
    "duration": 10,
    "start_time": "2024-04-07T23:33:14.351Z"
   },
   {
    "duration": 4,
    "start_time": "2024-04-07T23:33:14.764Z"
   },
   {
    "duration": 5,
    "start_time": "2024-04-07T23:33:15.532Z"
   },
   {
    "duration": 8,
    "start_time": "2024-04-07T23:33:15.941Z"
   },
   {
    "duration": 7,
    "start_time": "2024-04-07T23:33:16.391Z"
   },
   {
    "duration": 7,
    "start_time": "2024-04-07T23:33:16.621Z"
   },
   {
    "duration": 8,
    "start_time": "2024-04-07T23:33:17.078Z"
   },
   {
    "duration": 11,
    "start_time": "2024-04-07T23:33:17.784Z"
   },
   {
    "duration": 7,
    "start_time": "2024-04-07T23:33:18.444Z"
   },
   {
    "duration": 18,
    "start_time": "2024-04-07T23:33:18.916Z"
   },
   {
    "duration": 6,
    "start_time": "2024-04-07T23:33:20.052Z"
   },
   {
    "duration": 6,
    "start_time": "2024-04-07T23:33:20.685Z"
   },
   {
    "duration": 5,
    "start_time": "2024-04-07T23:33:20.902Z"
   },
   {
    "duration": 8,
    "start_time": "2024-04-07T23:33:21.334Z"
   },
   {
    "duration": 119,
    "start_time": "2024-04-07T23:33:22.133Z"
   },
   {
    "duration": 179,
    "start_time": "2024-04-07T23:33:22.552Z"
   },
   {
    "duration": 59,
    "start_time": "2024-04-07T23:33:24.598Z"
   },
   {
    "duration": 120,
    "start_time": "2024-04-07T23:33:26.300Z"
   },
   {
    "duration": 198,
    "start_time": "2024-04-07T23:33:27.532Z"
   },
   {
    "duration": 8,
    "start_time": "2024-04-07T23:33:28.588Z"
   },
   {
    "duration": 112,
    "start_time": "2024-04-07T23:33:29.752Z"
   },
   {
    "duration": 99,
    "start_time": "2024-04-07T23:33:30.054Z"
   },
   {
    "duration": 3,
    "start_time": "2024-04-07T23:33:32.414Z"
   },
   {
    "duration": 28,
    "start_time": "2024-04-07T23:33:32.709Z"
   },
   {
    "duration": 3,
    "start_time": "2024-04-07T23:33:33.036Z"
   },
   {
    "duration": 26,
    "start_time": "2024-04-07T23:33:34.002Z"
   },
   {
    "duration": 17,
    "start_time": "2024-04-07T23:33:34.361Z"
   },
   {
    "duration": 16,
    "start_time": "2024-04-07T23:33:34.713Z"
   },
   {
    "duration": 337,
    "start_time": "2024-04-07T23:33:36.249Z"
   },
   {
    "duration": 484,
    "start_time": "2024-04-07T23:33:36.822Z"
   },
   {
    "duration": 191,
    "start_time": "2024-04-07T23:33:42.326Z"
   },
   {
    "duration": 10,
    "start_time": "2024-04-07T23:33:48.447Z"
   },
   {
    "duration": 6,
    "start_time": "2024-04-07T23:33:51.441Z"
   },
   {
    "duration": 24,
    "start_time": "2024-04-07T23:36:09.611Z"
   },
   {
    "duration": 19,
    "start_time": "2024-04-07T23:36:54.252Z"
   },
   {
    "duration": 24,
    "start_time": "2024-04-07T23:37:22.712Z"
   },
   {
    "duration": 16,
    "start_time": "2024-04-07T23:39:56.750Z"
   },
   {
    "duration": 24,
    "start_time": "2024-04-07T23:40:01.783Z"
   },
   {
    "duration": 4,
    "start_time": "2024-04-07T23:40:02.354Z"
   },
   {
    "duration": 14,
    "start_time": "2024-04-07T23:40:02.962Z"
   },
   {
    "duration": 11,
    "start_time": "2024-04-07T23:40:08.811Z"
   },
   {
    "duration": 245,
    "start_time": "2024-04-07T23:40:12.762Z"
   },
   {
    "duration": 24,
    "start_time": "2024-04-07T23:41:23.131Z"
   },
   {
    "duration": 4,
    "start_time": "2024-04-07T23:41:25.032Z"
   },
   {
    "duration": 5,
    "start_time": "2024-04-07T23:41:27.725Z"
   },
   {
    "duration": 12,
    "start_time": "2024-04-07T23:41:30.115Z"
   },
   {
    "duration": 24,
    "start_time": "2024-04-07T23:41:37.392Z"
   },
   {
    "duration": 30,
    "start_time": "2024-04-07T23:43:44.607Z"
   },
   {
    "duration": 52,
    "start_time": "2024-04-07T23:43:47.063Z"
   },
   {
    "duration": 187,
    "start_time": "2024-04-07T23:43:50.835Z"
   },
   {
    "duration": 985,
    "start_time": "2024-04-07T23:43:52.116Z"
   },
   {
    "duration": 914,
    "start_time": "2024-04-07T23:43:58.703Z"
   },
   {
    "duration": 6525,
    "start_time": "2024-04-07T23:44:08.582Z"
   },
   {
    "duration": 1092,
    "start_time": "2024-04-07T23:44:26.372Z"
   },
   {
    "duration": 64,
    "start_time": "2024-04-07T23:44:27.465Z"
   },
   {
    "duration": 11,
    "start_time": "2024-04-07T23:44:27.623Z"
   },
   {
    "duration": 3,
    "start_time": "2024-04-07T23:44:28.377Z"
   },
   {
    "duration": 4,
    "start_time": "2024-04-07T23:44:28.751Z"
   },
   {
    "duration": 6,
    "start_time": "2024-04-07T23:44:28.953Z"
   },
   {
    "duration": 12,
    "start_time": "2024-04-07T23:44:29.159Z"
   },
   {
    "duration": 4,
    "start_time": "2024-04-07T23:44:29.639Z"
   },
   {
    "duration": 6,
    "start_time": "2024-04-07T23:44:30.255Z"
   },
   {
    "duration": 9,
    "start_time": "2024-04-07T23:44:30.664Z"
   },
   {
    "duration": 7,
    "start_time": "2024-04-07T23:44:31.060Z"
   },
   {
    "duration": 8,
    "start_time": "2024-04-07T23:44:31.293Z"
   },
   {
    "duration": 9,
    "start_time": "2024-04-07T23:44:31.698Z"
   },
   {
    "duration": 11,
    "start_time": "2024-04-07T23:44:32.320Z"
   },
   {
    "duration": 8,
    "start_time": "2024-04-07T23:44:32.964Z"
   },
   {
    "duration": 19,
    "start_time": "2024-04-07T23:44:33.371Z"
   },
   {
    "duration": 6,
    "start_time": "2024-04-07T23:44:34.415Z"
   },
   {
    "duration": 6,
    "start_time": "2024-04-07T23:44:35.325Z"
   },
   {
    "duration": 4,
    "start_time": "2024-04-07T23:44:35.745Z"
   },
   {
    "duration": 8,
    "start_time": "2024-04-07T23:44:36.529Z"
   },
   {
    "duration": 119,
    "start_time": "2024-04-07T23:44:37.834Z"
   },
   {
    "duration": 199,
    "start_time": "2024-04-07T23:44:39.072Z"
   },
   {
    "duration": 63,
    "start_time": "2024-04-07T23:44:40.762Z"
   },
   {
    "duration": 117,
    "start_time": "2024-04-07T23:44:42.206Z"
   },
   {
    "duration": 200,
    "start_time": "2024-04-07T23:44:44.337Z"
   },
   {
    "duration": 6,
    "start_time": "2024-04-07T23:44:45.872Z"
   },
   {
    "duration": 108,
    "start_time": "2024-04-07T23:44:48.858Z"
   },
   {
    "duration": 98,
    "start_time": "2024-04-07T23:44:49.355Z"
   },
   {
    "duration": 4,
    "start_time": "2024-04-07T23:44:51.927Z"
   },
   {
    "duration": 30,
    "start_time": "2024-04-07T23:44:52.644Z"
   },
   {
    "duration": 3,
    "start_time": "2024-04-07T23:44:53.172Z"
   },
   {
    "duration": 25,
    "start_time": "2024-04-07T23:44:55.098Z"
   },
   {
    "duration": 16,
    "start_time": "2024-04-07T23:44:55.696Z"
   },
   {
    "duration": 15,
    "start_time": "2024-04-07T23:44:56.181Z"
   },
   {
    "duration": 346,
    "start_time": "2024-04-07T23:44:58.267Z"
   },
   {
    "duration": 522,
    "start_time": "2024-04-07T23:44:58.788Z"
   },
   {
    "duration": 207,
    "start_time": "2024-04-07T23:44:59.312Z"
   },
   {
    "duration": 10,
    "start_time": "2024-04-07T23:45:05.848Z"
   },
   {
    "duration": 6,
    "start_time": "2024-04-07T23:45:08.819Z"
   },
   {
    "duration": 28,
    "start_time": "2024-04-07T23:45:13.172Z"
   },
   {
    "duration": 4,
    "start_time": "2024-04-07T23:45:17.856Z"
   },
   {
    "duration": 4,
    "start_time": "2024-04-07T23:45:23.096Z"
   },
   {
    "duration": 12,
    "start_time": "2024-04-07T23:46:34.453Z"
   },
   {
    "duration": 23,
    "start_time": "2024-04-07T23:46:48.094Z"
   },
   {
    "duration": 65,
    "start_time": "2024-04-07T23:47:43.042Z"
   },
   {
    "duration": 765,
    "start_time": "2024-04-07T23:47:49.435Z"
   },
   {
    "duration": 927,
    "start_time": "2024-04-07T23:48:08.063Z"
   },
   {
    "duration": 64,
    "start_time": "2024-04-07T23:48:08.991Z"
   },
   {
    "duration": 10,
    "start_time": "2024-04-07T23:48:09.263Z"
   },
   {
    "duration": 3,
    "start_time": "2024-04-07T23:48:09.815Z"
   },
   {
    "duration": 4,
    "start_time": "2024-04-07T23:48:10.001Z"
   },
   {
    "duration": 5,
    "start_time": "2024-04-07T23:48:10.197Z"
   },
   {
    "duration": 12,
    "start_time": "2024-04-07T23:48:10.383Z"
   },
   {
    "duration": 4,
    "start_time": "2024-04-07T23:48:11.024Z"
   },
   {
    "duration": 5,
    "start_time": "2024-04-07T23:48:11.778Z"
   },
   {
    "duration": 9,
    "start_time": "2024-04-07T23:48:12.445Z"
   },
   {
    "duration": 7,
    "start_time": "2024-04-07T23:48:12.985Z"
   },
   {
    "duration": 8,
    "start_time": "2024-04-07T23:48:13.266Z"
   },
   {
    "duration": 9,
    "start_time": "2024-04-07T23:48:13.704Z"
   },
   {
    "duration": 13,
    "start_time": "2024-04-07T23:48:14.666Z"
   },
   {
    "duration": 7,
    "start_time": "2024-04-07T23:48:15.488Z"
   },
   {
    "duration": 19,
    "start_time": "2024-04-07T23:48:15.952Z"
   },
   {
    "duration": 5,
    "start_time": "2024-04-07T23:48:38.810Z"
   },
   {
    "duration": 6,
    "start_time": "2024-04-07T23:48:39.998Z"
   },
   {
    "duration": 4,
    "start_time": "2024-04-07T23:48:40.369Z"
   },
   {
    "duration": 8,
    "start_time": "2024-04-07T23:48:41.059Z"
   },
   {
    "duration": 118,
    "start_time": "2024-04-07T23:48:42.171Z"
   },
   {
    "duration": 192,
    "start_time": "2024-04-07T23:48:42.969Z"
   },
   {
    "duration": 61,
    "start_time": "2024-04-07T23:48:44.514Z"
   },
   {
    "duration": 111,
    "start_time": "2024-04-07T23:48:46.056Z"
   },
   {
    "duration": 197,
    "start_time": "2024-04-07T23:48:48.026Z"
   },
   {
    "duration": 7,
    "start_time": "2024-04-07T23:48:48.970Z"
   },
   {
    "duration": 114,
    "start_time": "2024-04-07T23:48:50.644Z"
   },
   {
    "duration": 92,
    "start_time": "2024-04-07T23:48:51.061Z"
   },
   {
    "duration": 3,
    "start_time": "2024-04-07T23:48:53.814Z"
   },
   {
    "duration": 29,
    "start_time": "2024-04-07T23:48:54.345Z"
   },
   {
    "duration": 4,
    "start_time": "2024-04-07T23:48:57.233Z"
   },
   {
    "duration": 24,
    "start_time": "2024-04-07T23:48:58.968Z"
   },
   {
    "duration": 19,
    "start_time": "2024-04-07T23:49:01.013Z"
   },
   {
    "duration": 14,
    "start_time": "2024-04-07T23:49:01.496Z"
   },
   {
    "duration": 336,
    "start_time": "2024-04-07T23:49:29.775Z"
   },
   {
    "duration": 486,
    "start_time": "2024-04-07T23:49:30.718Z"
   },
   {
    "duration": 187,
    "start_time": "2024-04-07T23:49:36.481Z"
   },
   {
    "duration": 10,
    "start_time": "2024-04-07T23:50:03.318Z"
   },
   {
    "duration": 7,
    "start_time": "2024-04-07T23:50:04.238Z"
   },
   {
    "duration": 24,
    "start_time": "2024-04-07T23:51:01.012Z"
   },
   {
    "duration": 5,
    "start_time": "2024-04-07T23:51:02.450Z"
   },
   {
    "duration": 11,
    "start_time": "2024-04-07T23:51:05.415Z"
   },
   {
    "duration": 22,
    "start_time": "2024-04-07T23:51:48.078Z"
   },
   {
    "duration": 30,
    "start_time": "2024-04-07T23:52:28.888Z"
   },
   {
    "duration": 114,
    "start_time": "2024-04-07T23:53:08.549Z"
   },
   {
    "duration": 295,
    "start_time": "2024-04-07T23:53:17.193Z"
   },
   {
    "duration": 1855,
    "start_time": "2024-04-07T23:53:25.479Z"
   },
   {
    "duration": 952,
    "start_time": "2024-04-07T23:53:52.005Z"
   },
   {
    "duration": 66,
    "start_time": "2024-04-07T23:53:52.959Z"
   },
   {
    "duration": 11,
    "start_time": "2024-04-07T23:53:53.137Z"
   },
   {
    "duration": 4,
    "start_time": "2024-04-07T23:53:53.566Z"
   },
   {
    "duration": 3,
    "start_time": "2024-04-07T23:53:53.712Z"
   },
   {
    "duration": 5,
    "start_time": "2024-04-07T23:53:53.850Z"
   },
   {
    "duration": 10,
    "start_time": "2024-04-07T23:53:53.986Z"
   },
   {
    "duration": 6,
    "start_time": "2024-04-07T23:53:54.253Z"
   },
   {
    "duration": 5,
    "start_time": "2024-04-07T23:53:54.608Z"
   },
   {
    "duration": 9,
    "start_time": "2024-04-07T23:53:54.861Z"
   },
   {
    "duration": 6,
    "start_time": "2024-04-07T23:53:55.240Z"
   },
   {
    "duration": 8,
    "start_time": "2024-04-07T23:53:55.599Z"
   },
   {
    "duration": 10,
    "start_time": "2024-04-07T23:53:55.925Z"
   },
   {
    "duration": 14,
    "start_time": "2024-04-07T23:53:56.404Z"
   },
   {
    "duration": 7,
    "start_time": "2024-04-07T23:53:56.858Z"
   },
   {
    "duration": 18,
    "start_time": "2024-04-07T23:53:57.297Z"
   },
   {
    "duration": 7,
    "start_time": "2024-04-07T23:53:58.155Z"
   },
   {
    "duration": 6,
    "start_time": "2024-04-07T23:53:58.622Z"
   },
   {
    "duration": 4,
    "start_time": "2024-04-07T23:53:58.782Z"
   },
   {
    "duration": 8,
    "start_time": "2024-04-07T23:53:59.095Z"
   },
   {
    "duration": 120,
    "start_time": "2024-04-07T23:53:59.626Z"
   },
   {
    "duration": 209,
    "start_time": "2024-04-07T23:54:00.001Z"
   },
   {
    "duration": 64,
    "start_time": "2024-04-07T23:54:01.085Z"
   },
   {
    "duration": 115,
    "start_time": "2024-04-07T23:54:02.058Z"
   },
   {
    "duration": 205,
    "start_time": "2024-04-07T23:54:03.147Z"
   },
   {
    "duration": 7,
    "start_time": "2024-04-07T23:54:03.821Z"
   },
   {
    "duration": 115,
    "start_time": "2024-04-07T23:54:05.076Z"
   },
   {
    "duration": 91,
    "start_time": "2024-04-07T23:54:05.580Z"
   },
   {
    "duration": 3,
    "start_time": "2024-04-07T23:54:09.287Z"
   },
   {
    "duration": 30,
    "start_time": "2024-04-07T23:54:09.765Z"
   },
   {
    "duration": 2,
    "start_time": "2024-04-07T23:54:10.132Z"
   },
   {
    "duration": 23,
    "start_time": "2024-04-07T23:54:11.283Z"
   },
   {
    "duration": 16,
    "start_time": "2024-04-07T23:54:12.072Z"
   },
   {
    "duration": 16,
    "start_time": "2024-04-07T23:54:13.076Z"
   },
   {
    "duration": 346,
    "start_time": "2024-04-07T23:54:16.985Z"
   },
   {
    "duration": 494,
    "start_time": "2024-04-07T23:54:17.509Z"
   },
   {
    "duration": 191,
    "start_time": "2024-04-07T23:54:18.082Z"
   },
   {
    "duration": 11,
    "start_time": "2024-04-07T23:54:22.879Z"
   },
   {
    "duration": 8,
    "start_time": "2024-04-07T23:54:24.652Z"
   },
   {
    "duration": 24,
    "start_time": "2024-04-07T23:54:37.042Z"
   },
   {
    "duration": 5,
    "start_time": "2024-04-07T23:54:39.536Z"
   },
   {
    "duration": 11,
    "start_time": "2024-04-07T23:54:48.152Z"
   },
   {
    "duration": 28,
    "start_time": "2024-04-07T23:55:10.213Z"
   },
   {
    "duration": 16,
    "start_time": "2024-04-07T23:55:38.133Z"
   },
   {
    "duration": 19,
    "start_time": "2024-04-07T23:55:57.948Z"
   },
   {
    "duration": 4,
    "start_time": "2024-04-07T23:57:09.112Z"
   },
   {
    "duration": 14,
    "start_time": "2024-04-07T23:57:11.972Z"
   },
   {
    "duration": 10,
    "start_time": "2024-04-07T23:57:13.655Z"
   },
   {
    "duration": 232,
    "start_time": "2024-04-07T23:57:17.102Z"
   },
   {
    "duration": 6,
    "start_time": "2024-04-07T23:57:54.450Z"
   },
   {
    "duration": 6,
    "start_time": "2024-04-08T00:00:04.227Z"
   },
   {
    "duration": 51,
    "start_time": "2024-04-08T00:06:50.981Z"
   },
   {
    "duration": 53,
    "start_time": "2024-04-08T00:06:53.285Z"
   },
   {
    "duration": 93,
    "start_time": "2024-04-08T00:07:17.763Z"
   },
   {
    "duration": 66,
    "start_time": "2024-04-08T00:07:20.014Z"
   },
   {
    "duration": 200,
    "start_time": "2024-04-08T00:11:52.407Z"
   },
   {
    "duration": 1244,
    "start_time": "2024-04-08T09:49:05.739Z"
   },
   {
    "duration": 305,
    "start_time": "2024-04-08T09:49:06.985Z"
   },
   {
    "duration": 14,
    "start_time": "2024-04-08T09:49:07.292Z"
   },
   {
    "duration": 18,
    "start_time": "2024-04-08T09:49:07.307Z"
   },
   {
    "duration": 11,
    "start_time": "2024-04-08T09:49:07.326Z"
   },
   {
    "duration": 29,
    "start_time": "2024-04-08T09:49:07.338Z"
   },
   {
    "duration": 23,
    "start_time": "2024-04-08T09:49:07.369Z"
   },
   {
    "duration": 7,
    "start_time": "2024-04-08T09:49:07.394Z"
   },
   {
    "duration": 9,
    "start_time": "2024-04-08T09:49:07.403Z"
   },
   {
    "duration": 11,
    "start_time": "2024-04-08T09:49:07.415Z"
   },
   {
    "duration": 22,
    "start_time": "2024-04-08T09:49:07.428Z"
   },
   {
    "duration": 29,
    "start_time": "2024-04-08T09:49:07.452Z"
   },
   {
    "duration": 16,
    "start_time": "2024-04-08T09:49:07.483Z"
   },
   {
    "duration": 17,
    "start_time": "2024-04-08T09:49:07.501Z"
   },
   {
    "duration": 9,
    "start_time": "2024-04-08T09:49:07.519Z"
   },
   {
    "duration": 53,
    "start_time": "2024-04-08T09:49:07.530Z"
   },
   {
    "duration": 7,
    "start_time": "2024-04-08T09:49:07.585Z"
   },
   {
    "duration": 8,
    "start_time": "2024-04-08T09:49:07.594Z"
   },
   {
    "duration": 7,
    "start_time": "2024-04-08T09:49:07.604Z"
   },
   {
    "duration": 14,
    "start_time": "2024-04-08T09:49:07.613Z"
   },
   {
    "duration": 203,
    "start_time": "2024-04-08T09:49:07.629Z"
   },
   {
    "duration": 236,
    "start_time": "2024-04-08T09:49:07.834Z"
   },
   {
    "duration": 113,
    "start_time": "2024-04-08T09:49:08.073Z"
   },
   {
    "duration": 178,
    "start_time": "2024-04-08T09:49:08.188Z"
   },
   {
    "duration": 284,
    "start_time": "2024-04-08T09:49:08.373Z"
   },
   {
    "duration": 17,
    "start_time": "2024-04-08T09:49:08.658Z"
   },
   {
    "duration": 162,
    "start_time": "2024-04-08T09:49:08.677Z"
   },
   {
    "duration": 132,
    "start_time": "2024-04-08T09:49:08.843Z"
   },
   {
    "duration": 4,
    "start_time": "2024-04-08T09:49:08.976Z"
   },
   {
    "duration": 44,
    "start_time": "2024-04-08T09:49:08.983Z"
   },
   {
    "duration": 4,
    "start_time": "2024-04-08T09:49:09.029Z"
   },
   {
    "duration": 51,
    "start_time": "2024-04-08T09:49:09.035Z"
   },
   {
    "duration": 20,
    "start_time": "2024-04-08T09:49:09.088Z"
   },
   {
    "duration": 19,
    "start_time": "2024-04-08T09:49:09.110Z"
   },
   {
    "duration": 512,
    "start_time": "2024-04-08T09:49:09.130Z"
   },
   {
    "duration": 645,
    "start_time": "2024-04-08T09:49:09.643Z"
   },
   {
    "duration": 268,
    "start_time": "2024-04-08T09:49:10.290Z"
   },
   {
    "duration": 17,
    "start_time": "2024-04-08T09:49:10.560Z"
   },
   {
    "duration": 20,
    "start_time": "2024-04-08T09:49:10.579Z"
   },
   {
    "duration": 46,
    "start_time": "2024-04-08T09:49:10.601Z"
   },
   {
    "duration": 24,
    "start_time": "2024-04-08T09:49:10.649Z"
   },
   {
    "duration": 21,
    "start_time": "2024-04-08T09:49:10.675Z"
   },
   {
    "duration": 46,
    "start_time": "2024-04-08T09:49:10.698Z"
   },
   {
    "duration": 40,
    "start_time": "2024-04-08T09:49:10.745Z"
   },
   {
    "duration": 39,
    "start_time": "2024-04-08T09:49:10.787Z"
   },
   {
    "duration": 6,
    "start_time": "2024-04-08T09:49:10.827Z"
   },
   {
    "duration": 36,
    "start_time": "2024-04-08T09:49:10.835Z"
   },
   {
    "duration": 31,
    "start_time": "2024-04-08T09:49:10.874Z"
   },
   {
    "duration": 293,
    "start_time": "2024-04-08T09:49:10.907Z"
   },
   {
    "duration": 7,
    "start_time": "2024-04-08T09:49:11.202Z"
   },
   {
    "duration": 24,
    "start_time": "2024-04-08T09:49:11.211Z"
   },
   {
    "duration": 33,
    "start_time": "2024-04-08T09:49:11.237Z"
   },
   {
    "duration": 196,
    "start_time": "2024-04-08T09:54:49.198Z"
   },
   {
    "duration": 203,
    "start_time": "2024-04-08T09:54:51.796Z"
   },
   {
    "duration": 188,
    "start_time": "2024-04-08T09:54:55.125Z"
   },
   {
    "duration": 185,
    "start_time": "2024-04-08T09:54:57.315Z"
   },
   {
    "duration": 289,
    "start_time": "2024-04-08T09:55:00.062Z"
   },
   {
    "duration": 178,
    "start_time": "2024-04-08T09:55:02.300Z"
   },
   {
    "duration": 184,
    "start_time": "2024-04-08T09:55:04.111Z"
   },
   {
    "duration": 173,
    "start_time": "2024-04-08T09:55:05.879Z"
   },
   {
    "duration": 169,
    "start_time": "2024-04-08T09:55:07.739Z"
   },
   {
    "duration": 19,
    "start_time": "2024-04-08T09:56:54.482Z"
   },
   {
    "duration": 19,
    "start_time": "2024-04-08T09:57:10.947Z"
   },
   {
    "duration": 51,
    "start_time": "2024-04-08T11:49:49.485Z"
   },
   {
    "duration": 7,
    "start_time": "2024-04-08T11:49:56.948Z"
   },
   {
    "duration": 1180,
    "start_time": "2024-04-08T11:49:59.742Z"
   },
   {
    "duration": 69,
    "start_time": "2024-04-08T11:50:00.925Z"
   },
   {
    "duration": 66,
    "start_time": "2024-04-08T11:50:00.996Z"
   },
   {
    "duration": 5,
    "start_time": "2024-04-08T11:50:01.503Z"
   },
   {
    "duration": 4,
    "start_time": "2024-04-08T11:50:01.702Z"
   },
   {
    "duration": 8,
    "start_time": "2024-04-08T11:50:01.902Z"
   },
   {
    "duration": 16,
    "start_time": "2024-04-08T11:50:02.111Z"
   },
   {
    "duration": 5,
    "start_time": "2024-04-08T11:50:02.561Z"
   },
   {
    "duration": 8,
    "start_time": "2024-04-08T11:50:03.196Z"
   },
   {
    "duration": 12,
    "start_time": "2024-04-08T11:50:03.608Z"
   },
   {
    "duration": 8,
    "start_time": "2024-04-08T11:50:04.005Z"
   },
   {
    "duration": 11,
    "start_time": "2024-04-08T11:50:04.202Z"
   },
   {
    "duration": 11,
    "start_time": "2024-04-08T11:50:04.609Z"
   },
   {
    "duration": 17,
    "start_time": "2024-04-08T11:50:05.448Z"
   },
   {
    "duration": 8,
    "start_time": "2024-04-08T11:50:06.080Z"
   },
   {
    "duration": 26,
    "start_time": "2024-04-08T11:50:06.517Z"
   },
   {
    "duration": 7,
    "start_time": "2024-04-08T11:50:07.729Z"
   },
   {
    "duration": 7,
    "start_time": "2024-04-08T11:50:08.368Z"
   },
   {
    "duration": 5,
    "start_time": "2024-04-08T11:50:08.584Z"
   },
   {
    "duration": 10,
    "start_time": "2024-04-08T11:50:10.647Z"
   },
   {
    "duration": 156,
    "start_time": "2024-04-08T11:50:11.518Z"
   },
   {
    "duration": 230,
    "start_time": "2024-04-08T11:50:11.940Z"
   },
   {
    "duration": 91,
    "start_time": "2024-04-08T11:50:13.506Z"
   },
   {
    "duration": 170,
    "start_time": "2024-04-08T11:50:16.971Z"
   },
   {
    "duration": 282,
    "start_time": "2024-04-08T11:50:18.784Z"
   },
   {
    "duration": 8,
    "start_time": "2024-04-08T11:50:19.712Z"
   },
   {
    "duration": 148,
    "start_time": "2024-04-08T11:50:23.270Z"
   },
   {
    "duration": 130,
    "start_time": "2024-04-08T11:50:24.944Z"
   },
   {
    "duration": 5,
    "start_time": "2024-04-08T11:50:30.545Z"
   },
   {
    "duration": 36,
    "start_time": "2024-04-08T11:50:31.030Z"
   },
   {
    "duration": 4,
    "start_time": "2024-04-08T11:50:31.483Z"
   },
   {
    "duration": 30,
    "start_time": "2024-04-08T11:50:37.756Z"
   },
   {
    "duration": 20,
    "start_time": "2024-04-08T11:50:40.217Z"
   },
   {
    "duration": 18,
    "start_time": "2024-04-08T11:50:42.666Z"
   },
   {
    "duration": 475,
    "start_time": "2024-04-08T11:50:46.043Z"
   },
   {
    "duration": 674,
    "start_time": "2024-04-08T11:50:48.749Z"
   },
   {
    "duration": 246,
    "start_time": "2024-04-08T11:50:50.936Z"
   },
   {
    "duration": 13,
    "start_time": "2024-04-08T11:50:56.238Z"
   },
   {
    "duration": 9,
    "start_time": "2024-04-08T11:50:59.470Z"
   },
   {
    "duration": 3,
    "start_time": "2024-04-08T11:52:37.696Z"
   },
   {
    "duration": 9,
    "start_time": "2024-04-08T11:52:38.354Z"
   },
   {
    "duration": 53,
    "start_time": "2024-04-08T11:53:18.444Z"
   },
   {
    "duration": 4,
    "start_time": "2024-04-08T11:53:24.241Z"
   },
   {
    "duration": 9,
    "start_time": "2024-04-08T11:53:24.713Z"
   },
   {
    "duration": 32,
    "start_time": "2024-04-08T11:53:28.276Z"
   },
   {
    "duration": 6,
    "start_time": "2024-04-08T11:53:38.534Z"
   },
   {
    "duration": 16,
    "start_time": "2024-04-08T11:53:45.622Z"
   },
   {
    "duration": 35,
    "start_time": "2024-04-08T11:53:50.133Z"
   },
   {
    "duration": 21,
    "start_time": "2024-04-08T11:54:05.923Z"
   },
   {
    "duration": 23,
    "start_time": "2024-04-08T11:54:12.937Z"
   },
   {
    "duration": 6,
    "start_time": "2024-04-08T11:54:16.229Z"
   },
   {
    "duration": 13,
    "start_time": "2024-04-08T11:54:19.453Z"
   },
   {
    "duration": 65,
    "start_time": "2024-04-08T11:54:41.879Z"
   },
   {
    "duration": 18,
    "start_time": "2024-04-08T11:54:53.109Z"
   },
   {
    "duration": 14,
    "start_time": "2024-04-08T11:54:55.391Z"
   },
   {
    "duration": 286,
    "start_time": "2024-04-08T11:55:01.615Z"
   },
   {
    "duration": 9,
    "start_time": "2024-04-08T11:55:27.487Z"
   },
   {
    "duration": 7,
    "start_time": "2024-04-08T12:02:58.083Z"
   },
   {
    "duration": 6,
    "start_time": "2024-04-08T12:03:01.409Z"
   },
   {
    "duration": 10,
    "start_time": "2024-04-08T12:03:14.317Z"
   },
   {
    "duration": 11,
    "start_time": "2024-04-08T12:03:33.368Z"
   },
   {
    "duration": 62,
    "start_time": "2024-04-08T12:05:19.191Z"
   },
   {
    "duration": 9,
    "start_time": "2024-04-08T12:08:36.670Z"
   },
   {
    "duration": 1368,
    "start_time": "2024-04-08T12:15:27.480Z"
   },
   {
    "duration": 202,
    "start_time": "2024-04-08T12:15:28.850Z"
   },
   {
    "duration": 13,
    "start_time": "2024-04-08T12:15:29.053Z"
   },
   {
    "duration": 10,
    "start_time": "2024-04-08T12:15:29.068Z"
   },
   {
    "duration": 7,
    "start_time": "2024-04-08T12:15:29.079Z"
   },
   {
    "duration": 7,
    "start_time": "2024-04-08T12:15:29.087Z"
   },
   {
    "duration": 22,
    "start_time": "2024-04-08T12:15:29.096Z"
   },
   {
    "duration": 4,
    "start_time": "2024-04-08T12:15:29.120Z"
   },
   {
    "duration": 6,
    "start_time": "2024-04-08T12:15:29.126Z"
   },
   {
    "duration": 10,
    "start_time": "2024-04-08T12:15:29.135Z"
   },
   {
    "duration": 10,
    "start_time": "2024-04-08T12:15:29.147Z"
   },
   {
    "duration": 33,
    "start_time": "2024-04-08T12:15:29.158Z"
   },
   {
    "duration": 12,
    "start_time": "2024-04-08T12:15:29.192Z"
   },
   {
    "duration": 17,
    "start_time": "2024-04-08T12:15:29.205Z"
   },
   {
    "duration": 8,
    "start_time": "2024-04-08T12:15:29.223Z"
   },
   {
    "duration": 51,
    "start_time": "2024-04-08T12:15:29.233Z"
   },
   {
    "duration": 8,
    "start_time": "2024-04-08T12:15:29.285Z"
   },
   {
    "duration": 14,
    "start_time": "2024-04-08T12:15:29.294Z"
   },
   {
    "duration": 6,
    "start_time": "2024-04-08T12:15:29.310Z"
   },
   {
    "duration": 21,
    "start_time": "2024-04-08T12:15:29.318Z"
   },
   {
    "duration": 180,
    "start_time": "2024-04-08T12:15:29.341Z"
   },
   {
    "duration": 250,
    "start_time": "2024-04-08T12:15:29.522Z"
   },
   {
    "duration": 83,
    "start_time": "2024-04-08T12:15:29.774Z"
   },
   {
    "duration": 181,
    "start_time": "2024-04-08T12:15:29.859Z"
   },
   {
    "duration": 282,
    "start_time": "2024-04-08T12:15:30.042Z"
   },
   {
    "duration": 9,
    "start_time": "2024-04-08T12:15:30.327Z"
   },
   {
    "duration": 224,
    "start_time": "2024-04-08T12:15:30.338Z"
   },
   {
    "duration": 132,
    "start_time": "2024-04-08T12:15:30.566Z"
   },
   {
    "duration": 5,
    "start_time": "2024-04-08T12:15:30.699Z"
   },
   {
    "duration": 104,
    "start_time": "2024-04-08T12:15:30.705Z"
   },
   {
    "duration": 18,
    "start_time": "2024-04-08T12:15:30.811Z"
   },
   {
    "duration": 71,
    "start_time": "2024-04-08T12:15:30.831Z"
   },
   {
    "duration": 65,
    "start_time": "2024-04-08T12:15:30.903Z"
   },
   {
    "duration": 83,
    "start_time": "2024-04-08T12:15:30.970Z"
   },
   {
    "duration": 564,
    "start_time": "2024-04-08T12:15:31.055Z"
   },
   {
    "duration": 670,
    "start_time": "2024-04-08T12:15:31.621Z"
   },
   {
    "duration": 272,
    "start_time": "2024-04-08T12:15:32.292Z"
   },
   {
    "duration": 23,
    "start_time": "2024-04-08T12:15:32.566Z"
   },
   {
    "duration": 23,
    "start_time": "2024-04-08T12:15:32.590Z"
   },
   {
    "duration": 34,
    "start_time": "2024-04-08T12:15:32.614Z"
   },
   {
    "duration": 38,
    "start_time": "2024-04-08T12:15:32.650Z"
   },
   {
    "duration": 6,
    "start_time": "2024-04-08T12:15:32.689Z"
   },
   {
    "duration": 26,
    "start_time": "2024-04-08T12:15:32.697Z"
   },
   {
    "duration": 58,
    "start_time": "2024-04-08T12:15:32.725Z"
   },
   {
    "duration": 19,
    "start_time": "2024-04-08T12:15:32.785Z"
   },
   {
    "duration": 33,
    "start_time": "2024-04-08T12:15:32.805Z"
   },
   {
    "duration": 5,
    "start_time": "2024-04-08T12:15:32.839Z"
   },
   {
    "duration": 18,
    "start_time": "2024-04-08T12:15:32.845Z"
   },
   {
    "duration": 27,
    "start_time": "2024-04-08T12:15:32.864Z"
   },
   {
    "duration": 42,
    "start_time": "2024-04-08T12:15:32.893Z"
   },
   {
    "duration": 290,
    "start_time": "2024-04-08T12:15:32.937Z"
   },
   {
    "duration": 7,
    "start_time": "2024-04-08T12:15:33.229Z"
   },
   {
    "duration": 19,
    "start_time": "2024-04-08T12:15:33.237Z"
   },
   {
    "duration": 30,
    "start_time": "2024-04-08T12:15:33.258Z"
   }
  ],
  "kernelspec": {
   "display_name": "Python 3 (ipykernel)",
   "language": "python",
   "name": "python3"
  },
  "language_info": {
   "codemirror_mode": {
    "name": "ipython",
    "version": 3
   },
   "file_extension": ".py",
   "mimetype": "text/x-python",
   "name": "python",
   "nbconvert_exporter": "python",
   "pygments_lexer": "ipython3",
   "version": "3.9.18"
  },
  "toc": {
   "base_numbering": 1,
   "nav_menu": {},
   "number_sections": true,
   "sideBar": true,
   "skip_h1_title": true,
   "title_cell": "Table of Contents",
   "title_sidebar": "Contents",
   "toc_cell": false,
   "toc_position": {
    "height": "calc(100% - 180px)",
    "left": "10px",
    "top": "150px",
    "width": "480px"
   },
   "toc_section_display": true,
   "toc_window_display": true
  }
 },
 "nbformat": 4,
 "nbformat_minor": 5
}
