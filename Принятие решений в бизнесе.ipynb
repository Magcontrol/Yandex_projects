{
 "cells": [
  {
   "cell_type": "markdown",
   "metadata": {},
   "source": [
    "## Принятие решений в бизнесе\n",
    "Данный проект будет разбит на две части:\n",
    "\n",
    "Часть 1. Приоритизация гипотез.\n",
    "\n",
    "В файле /datasets/hypothesis.csv 9 гипотез по увеличению выручки интернет-магазина с указанными параметрами Reach, Impact, Confidence, Effort.\n",
    "\n",
    "-Примените фреймворк ICE для приоритизации гипотез. Отсортируйте их по убыванию приоритета.\n",
    "\n",
    "-Примените фреймворк RICE для приоритизации гипотез. Отсортируйте их по убыванию приоритета.\n",
    "\n",
    "-Укажите, как изменилась приоритизация гипотез при применении RICE вместо ICE. Объясните, почему так произошло.\n",
    "\n",
    "Часть 2. Анализ A/B-теста\n",
    "\n",
    "Проанализируйте A/B-тест:\n",
    "\n",
    "Постройте график кумулятивной выручки по группам. Сделайте выводы и предположения.\n",
    "\n",
    "Постройте график кумулятивного среднего чека по группам. Сделайте выводы и предположения.\n",
    "\n",
    "Постройте график относительного изменения кумулятивного среднего чека группы B к группе A. Сделайте выводы и предположения.\n",
    "\n",
    "Постройте график кумулятивного среднего количества заказов на посетителя по группам. Сделайте выводы и предположения.\n",
    "\n",
    "Постройте график относительного изменения кумулятивного среднего количества заказов на посетителя группы B к группе A. Сделайте выводы и предположения.\n",
    "Постройте точечный график количества заказов по пользователям. Сделайте выводы и предположения.\n",
    "\n",
    "Посчитайте 95-й и 99-й перцентили количества заказов на пользователя. Выберите границу для определения аномальных пользователей.\n",
    "\n",
    "Постройте точечный график стоимостей заказов. Сделайте выводы и предположения.\n",
    "\n",
    "Посчитайте 95-й и 99-й перцентили стоимости заказов. Выберите границу для определения аномальных заказов.\n",
    "\n",
    "Посчитайте статистическую значимость различий в среднем количестве заказов на посетителя между группами по «сырым» данным. \n",
    "\n",
    "Сделайте выводы и предположения.\n",
    "\n",
    "Посчитайте статистическую значимость различий в среднем чеке заказа между группами по «сырым» данным. Сделайте выводы и предположения.\n",
    "\n",
    "Посчитайте статистическую значимость различий в среднем количестве заказов на посетителя между группами по «очищенным» данным. Сделайте выводы и предположения.\n",
    "\n",
    "Посчитайте статистическую значимость различий в среднем чеке заказа между группами по «очищенным» данным. Сделайте выводы и предположения.\n",
    "\n",
    "Примите решение по результатам теста и объясните его. Варианты решений:\n",
    "\n",
    "1. Остановить тест, зафиксировать победу одной из групп.\n",
    "\n",
    "2. Остановить тест, зафиксировать отсутствие различий между группами.\n",
    "\n",
    "3. Продолжить тест.\n",
    "\n",
    "Перед первой часть выполним первичный обзор данных, предобработку и посмотрим на данные в различных срезах\n",
    "\n",
    "## Описание данных\n",
    "\n",
    "Файл /datasets/hypothesis.csv\n",
    "\n",
    "Hypothesis — краткое описание гипотезы;\n",
    "\n",
    "Reach — охват пользователей по 10-балльной шкале;\n",
    "\n",
    "Impact — влияние на пользователей по 10-балльной шкале;\n",
    "\n",
    "Confidence — уверенность в гипотезе по 10-балльной шкале;\n",
    "\n",
    "Efforts — затраты ресурсов на проверку гипотезы по 10-балльной шкале. Чем больше значение Efforts, тем дороже проверка гипотезы.\n",
    "\n",
    "Файл /datasets/orders.csv.\n",
    "\n",
    "transactionId — идентификатор заказа;\n",
    "\n",
    "visitorId — идентификатор пользователя, совершившего заказ;\n",
    "\n",
    "date — дата, когда был совершён заказ;\n",
    "\n",
    "revenue — выручка заказа;\n",
    "\n",
    "group — группа A/B-теста, в которую попал заказ.\n",
    "\n",
    "Файл /datasets/visitors.csv.\n",
    "\n",
    "date — дата;\n",
    "\n",
    "group — группа A/B-теста;\n",
    "\n",
    "visitors — количество пользователей в указанную дату в указанной группе A/B-теста"
   ]
  },
  {
   "cell_type": "markdown",
   "metadata": {},
   "source": [
    "# Загрузка данных и предобработка"
   ]
  },
  {
   "cell_type": "code",
   "execution_count": 2,
   "metadata": {},
   "outputs": [],
   "source": [
    "import matplotlib.pyplot as plt\n",
    "import scipy.stats as stats\n",
    "import datetime as dt\n",
    "import pandas as pd\n",
    "import numpy as np\n",
    "import re"
   ]
  },
  {
   "cell_type": "code",
   "execution_count": 3,
   "metadata": {},
   "outputs": [],
   "source": [
    "visitors = pd.read_csv('/datasets/visitors.csv')\n",
    "orders = pd.read_csv('/datasets/orders.csv')\n",
    "hypothesis = pd.read_csv('/datasets/hypothesis.csv')\n",
    "pd.set_option('display.max_columns', None)\n",
    "pd.set_option('max_colwidth', 200)"
   ]
  },
  {
   "cell_type": "markdown",
   "metadata": {},
   "source": [
    "## Посмотрим на данные, а точнее на их типы"
   ]
  },
  {
   "cell_type": "code",
   "execution_count": 4,
   "metadata": {},
   "outputs": [
    {
     "name": "stdout",
     "output_type": "stream",
     "text": [
      "<class 'pandas.core.frame.DataFrame'>\n",
      "RangeIndex: 62 entries, 0 to 61\n",
      "Data columns (total 3 columns):\n",
      " #   Column    Non-Null Count  Dtype \n",
      "---  ------    --------------  ----- \n",
      " 0   date      62 non-null     object\n",
      " 1   group     62 non-null     object\n",
      " 2   visitors  62 non-null     int64 \n",
      "dtypes: int64(1), object(2)\n",
      "memory usage: 1.6+ KB\n",
      "None\n",
      "<class 'pandas.core.frame.DataFrame'>\n",
      "RangeIndex: 1197 entries, 0 to 1196\n",
      "Data columns (total 5 columns):\n",
      " #   Column         Non-Null Count  Dtype \n",
      "---  ------         --------------  ----- \n",
      " 0   transactionId  1197 non-null   int64 \n",
      " 1   visitorId      1197 non-null   int64 \n",
      " 2   date           1197 non-null   object\n",
      " 3   revenue        1197 non-null   int64 \n",
      " 4   group          1197 non-null   object\n",
      "dtypes: int64(3), object(2)\n",
      "memory usage: 46.9+ KB\n",
      "None\n",
      "<class 'pandas.core.frame.DataFrame'>\n",
      "RangeIndex: 9 entries, 0 to 8\n",
      "Data columns (total 5 columns):\n",
      " #   Column      Non-Null Count  Dtype \n",
      "---  ------      --------------  ----- \n",
      " 0   Hypothesis  9 non-null      object\n",
      " 1   Reach       9 non-null      int64 \n",
      " 2   Impact      9 non-null      int64 \n",
      " 3   Confidence  9 non-null      int64 \n",
      " 4   Efforts     9 non-null      int64 \n",
      "dtypes: int64(4), object(1)\n",
      "memory usage: 488.0+ bytes\n",
      "None\n"
     ]
    }
   ],
   "source": [
    "print(visitors.info())\n",
    "print(orders.info())\n",
    "print(hypothesis.info())"
   ]
  },
  {
   "cell_type": "markdown",
   "metadata": {},
   "source": [
    "Изменим тип данных для дат"
   ]
  },
  {
   "cell_type": "code",
   "execution_count": 5,
   "metadata": {},
   "outputs": [],
   "source": [
    "orders['date'] = pd.to_datetime(orders['date'])\n",
    "visitors['date'] = pd.to_datetime(visitors['date'])"
   ]
  },
  {
   "cell_type": "markdown",
   "metadata": {},
   "source": [
    "Смотреть на неявные дубликаты на мой взгляд нет смысла ведь таблица visitors содержит агрегированные данные и что-то с ними делать не целесообразно"
   ]
  },
  {
   "cell_type": "code",
   "execution_count": 6,
   "metadata": {},
   "outputs": [
    {
     "data": {
      "image/png": "[encoded data removed]",
      "text/plain": [
       "<Figure size 432x288 with 1 Axes>"
      ]
     },
     "metadata": {
      "needs_background": "light"
     },
     "output_type": "display_data"
    }
   ],
   "source": [
    "duplicates_visitors = visitors.duplicated().sum()\n",
    "duplicates_orders = orders.duplicated().sum()\n",
    "duplicates_hypothesis = hypothesis.duplicated().sum()\n",
    "\n",
    "# Создание словаря для удобства отображения на графике\n",
    "duplicates_dict = {\n",
    "    'visitors': duplicates_visitors,\n",
    "    'orders': duplicates_orders,\n",
    "    'hypothesis': duplicates_hypothesis\n",
    "}\n",
    "\n",
    "# Построение столбчатого графика\n",
    "plt.bar(duplicates_dict.keys(), duplicates_dict.values())\n",
    "plt.title('Количество дубликатов в файлах')\n",
    "plt.xlabel('Файлы')\n",
    "plt.ylabel('Количество дубликатов')\n",
    "plt.show()"
   ]
  },
  {
   "cell_type": "markdown",
   "metadata": {},
   "source": [
    "Явных дубликатов нет"
   ]
  },
  {
   "cell_type": "markdown",
   "metadata": {},
   "source": [
    "## Часть 1. Приоритизация гипотез."
   ]
  },
  {
   "cell_type": "markdown",
   "metadata": {},
   "source": [
    "## Примените фреймворк ICE для приоритизации гипотез. Отсортируйте их по убыванию приоритета."
   ]
  },
  {
   "cell_type": "code",
   "execution_count": 7,
   "metadata": {},
   "outputs": [],
   "source": [
    "hypothesis['ICE'] = round(hypothesis['Impact'] * hypothesis['Confidence'] / hypothesis['Efforts'],2)"
   ]
  },
  {
   "cell_type": "code",
   "execution_count": 8,
   "metadata": {},
   "outputs": [
    {
     "data": {
      "text/html": [
       "<div>\n",
       "<style scoped>\n",
       "    .dataframe tbody tr th:only-of-type {\n",
       "        vertical-align: middle;\n",
       "    }\n",
       "\n",
       "    .dataframe tbody tr th {\n",
       "        vertical-align: top;\n",
       "    }\n",
       "\n",
       "    .dataframe thead th {\n",
       "        text-align: right;\n",
       "    }\n",
       "</style>\n",
       "<table border=\"1\" class=\"dataframe\">\n",
       "  <thead>\n",
       "    <tr style=\"text-align: right;\">\n",
       "      <th></th>\n",
       "      <th>Hypothesis</th>\n",
       "      <th>Reach</th>\n",
       "      <th>Impact</th>\n",
       "      <th>Confidence</th>\n",
       "      <th>Efforts</th>\n",
       "      <th>ICE</th>\n",
       "    </tr>\n",
       "  </thead>\n",
       "  <tbody>\n",
       "    <tr>\n",
       "      <th>8</th>\n",
       "      <td>Запустить акцию, дающую скидку на товар в день рождения</td>\n",
       "      <td>1</td>\n",
       "      <td>9</td>\n",
       "      <td>9</td>\n",
       "      <td>5</td>\n",
       "      <td>16.20</td>\n",
       "    </tr>\n",
       "    <tr>\n",
       "      <th>0</th>\n",
       "      <td>Добавить два новых канала привлечения трафика, что позволит привлекать на 30% больше пользователей</td>\n",
       "      <td>3</td>\n",
       "      <td>10</td>\n",
       "      <td>8</td>\n",
       "      <td>6</td>\n",
       "      <td>13.33</td>\n",
       "    </tr>\n",
       "    <tr>\n",
       "      <th>7</th>\n",
       "      <td>Добавить форму подписки на все основные страницы, чтобы собрать базу клиентов для email-рассылок</td>\n",
       "      <td>10</td>\n",
       "      <td>7</td>\n",
       "      <td>8</td>\n",
       "      <td>5</td>\n",
       "      <td>11.20</td>\n",
       "    </tr>\n",
       "    <tr>\n",
       "      <th>6</th>\n",
       "      <td>Показать на главной странице баннеры с актуальными акциями и распродажами, чтобы увеличить конверсию</td>\n",
       "      <td>5</td>\n",
       "      <td>3</td>\n",
       "      <td>8</td>\n",
       "      <td>3</td>\n",
       "      <td>8.00</td>\n",
       "    </tr>\n",
       "    <tr>\n",
       "      <th>2</th>\n",
       "      <td>Добавить блоки рекомендаций товаров на сайт интернет магазина, чтобы повысить конверсию и средний чек заказа</td>\n",
       "      <td>8</td>\n",
       "      <td>3</td>\n",
       "      <td>7</td>\n",
       "      <td>3</td>\n",
       "      <td>7.00</td>\n",
       "    </tr>\n",
       "  </tbody>\n",
       "</table>\n",
       "</div>"
      ],
      "text/plain": [
       "                                                                                                     Hypothesis  \\\n",
       "8                                                       Запустить акцию, дающую скидку на товар в день рождения   \n",
       "0            Добавить два новых канала привлечения трафика, что позволит привлекать на 30% больше пользователей   \n",
       "7              Добавить форму подписки на все основные страницы, чтобы собрать базу клиентов для email-рассылок   \n",
       "6          Показать на главной странице баннеры с актуальными акциями и распродажами, чтобы увеличить конверсию   \n",
       "2  Добавить блоки рекомендаций товаров на сайт интернет магазина, чтобы повысить конверсию и средний чек заказа   \n",
       "\n",
       "   Reach  Impact  Confidence  Efforts    ICE  \n",
       "8      1       9           9        5  16.20  \n",
       "0      3      10           8        6  13.33  \n",
       "7     10       7           8        5  11.20  \n",
       "6      5       3           8        3   8.00  \n",
       "2      8       3           7        3   7.00  "
      ]
     },
     "execution_count": 8,
     "metadata": {},
     "output_type": "execute_result"
    }
   ],
   "source": [
    "hypothesis.sort_values('ICE', ascending=False).head()"
   ]
  },
  {
   "cell_type": "markdown",
   "metadata": {},
   "source": [
    "### Примените фреймворк RICE для приоритизации гипотез. Отсортируйте их по убыванию приоритета."
   ]
  },
  {
   "cell_type": "code",
   "execution_count": 9,
   "metadata": {},
   "outputs": [],
   "source": [
    "hypothesis['RICE'] = round(hypothesis['Reach'] * hypothesis['Impact'] * hypothesis['Confidence'] / hypothesis['Efforts'],2)"
   ]
  },
  {
   "cell_type": "code",
   "execution_count": 9,
   "metadata": {},
   "outputs": [
    {
     "data": {
      "text/html": [
       "<div>\n",
       "<style scoped>\n",
       "    .dataframe tbody tr th:only-of-type {\n",
       "        vertical-align: middle;\n",
       "    }\n",
       "\n",
       "    .dataframe tbody tr th {\n",
       "        vertical-align: top;\n",
       "    }\n",
       "\n",
       "    .dataframe thead th {\n",
       "        text-align: right;\n",
       "    }\n",
       "</style>\n",
       "<table border=\"1\" class=\"dataframe\">\n",
       "  <thead>\n",
       "    <tr style=\"text-align: right;\">\n",
       "      <th></th>\n",
       "      <th>Hypothesis</th>\n",
       "      <th>Reach</th>\n",
       "      <th>Impact</th>\n",
       "      <th>Confidence</th>\n",
       "      <th>Efforts</th>\n",
       "      <th>ICE</th>\n",
       "      <th>RICE</th>\n",
       "    </tr>\n",
       "  </thead>\n",
       "  <tbody>\n",
       "    <tr>\n",
       "      <th>7</th>\n",
       "      <td>Добавить форму подписки на все основные страницы, чтобы собрать базу клиентов для email-рассылок</td>\n",
       "      <td>10</td>\n",
       "      <td>7</td>\n",
       "      <td>8</td>\n",
       "      <td>5</td>\n",
       "      <td>11.200000</td>\n",
       "      <td>112.0</td>\n",
       "    </tr>\n",
       "    <tr>\n",
       "      <th>2</th>\n",
       "      <td>Добавить блоки рекомендаций товаров на сайт интернет магазина, чтобы повысить конверсию и средний чек заказа</td>\n",
       "      <td>8</td>\n",
       "      <td>3</td>\n",
       "      <td>7</td>\n",
       "      <td>3</td>\n",
       "      <td>7.000000</td>\n",
       "      <td>56.0</td>\n",
       "    </tr>\n",
       "    <tr>\n",
       "      <th>0</th>\n",
       "      <td>Добавить два новых канала привлечения трафика, что позволит привлекать на 30% больше пользователей</td>\n",
       "      <td>3</td>\n",
       "      <td>10</td>\n",
       "      <td>8</td>\n",
       "      <td>6</td>\n",
       "      <td>13.333333</td>\n",
       "      <td>40.0</td>\n",
       "    </tr>\n",
       "    <tr>\n",
       "      <th>6</th>\n",
       "      <td>Показать на главной странице баннеры с актуальными акциями и распродажами, чтобы увеличить конверсию</td>\n",
       "      <td>5</td>\n",
       "      <td>3</td>\n",
       "      <td>8</td>\n",
       "      <td>3</td>\n",
       "      <td>8.000000</td>\n",
       "      <td>40.0</td>\n",
       "    </tr>\n",
       "    <tr>\n",
       "      <th>8</th>\n",
       "      <td>Запустить акцию, дающую скидку на товар в день рождения</td>\n",
       "      <td>1</td>\n",
       "      <td>9</td>\n",
       "      <td>9</td>\n",
       "      <td>5</td>\n",
       "      <td>16.200000</td>\n",
       "      <td>16.2</td>\n",
       "    </tr>\n",
       "  </tbody>\n",
       "</table>\n",
       "</div>"
      ],
      "text/plain": [
       "                                                                                                     Hypothesis  \\\n",
       "7              Добавить форму подписки на все основные страницы, чтобы собрать базу клиентов для email-рассылок   \n",
       "2  Добавить блоки рекомендаций товаров на сайт интернет магазина, чтобы повысить конверсию и средний чек заказа   \n",
       "0            Добавить два новых канала привлечения трафика, что позволит привлекать на 30% больше пользователей   \n",
       "6          Показать на главной странице баннеры с актуальными акциями и распродажами, чтобы увеличить конверсию   \n",
       "8                                                       Запустить акцию, дающую скидку на товар в день рождения   \n",
       "\n",
       "   Reach  Impact  Confidence  Efforts        ICE   RICE  \n",
       "7     10       7           8        5  11.200000  112.0  \n",
       "2      8       3           7        3   7.000000   56.0  \n",
       "0      3      10           8        6  13.333333   40.0  \n",
       "6      5       3           8        3   8.000000   40.0  \n",
       "8      1       9           9        5  16.200000   16.2  "
      ]
     },
     "execution_count": 9,
     "metadata": {},
     "output_type": "execute_result"
    }
   ],
   "source": [
    "hypothesis.sort_values('RICE', ascending=False).head()"
   ]
  },
  {
   "cell_type": "markdown",
   "metadata": {},
   "source": [
    "Стоит обратить внимание, что RICE учитывает охват, что в моем понимании позволит дать более точную оценку. Из-за него скорее всего и приоритезация гипотез меняется. Нужно отдать приоритет гипотезе №7 из-за охвата нежели гипотезу №8 оценкой фреймворком ICE"
   ]
  },
  {
   "cell_type": "markdown",
   "metadata": {},
   "source": [
    "<div class=\"alert alert-info\"> <b>Стоит обратить внимание, что RICE учитывает охват, что в моем понимании позволит дать более точную оценку. Из-за него скорее всего и приоритезация гипотез меняется. Нужно отдать приоритет гипотезе \"Добавить форму подписки на все основные страницы, чтобы собрать базу клиентов для email-рассылок\t\" из-за охвата нежели гипотезу \"Запустить акцию, дающую скидку на товар в день рождения\" оценкой фреймворком ICE: </b> </div>"
   ]
  },
  {
   "cell_type": "markdown",
   "metadata": {},
   "source": [
    "# Часть 2. Анализ A/B-теста"
   ]
  },
  {
   "cell_type": "markdown",
   "metadata": {},
   "source": [
    "## Проанализируйте A/B-тест:"
   ]
  },
  {
   "cell_type": "markdown",
   "metadata": {},
   "source": [
    "### Постройте график кумулятивной выручки по группам. Сделайте выводы и предположения."
   ]
  },
  {
   "cell_type": "markdown",
   "metadata": {},
   "source": [
    "Чтобы построить графики, прежде всего нужно собрать кумулятивные данные в таблицу:\n",
    "\n",
    "создать базу уникальных пар значений дат и групп теста\n",
    "\n",
    "получить агрегированные кумулятивные по дням данные о заказах\n",
    "\n",
    "получить агрегированные кумулятивные по дням данные о посетителях интернет-магазина\n",
    "\n",
    "объединить кумулятивные данные в одной таблице и присвоить её столбцам понятные названия"
   ]
  },
  {
   "cell_type": "code",
   "execution_count": 10,
   "metadata": {},
   "outputs": [
    {
     "data": {
      "text/html": [
       "<div>\n",
       "<style scoped>\n",
       "    .dataframe tbody tr th:only-of-type {\n",
       "        vertical-align: middle;\n",
       "    }\n",
       "\n",
       "    .dataframe tbody tr th {\n",
       "        vertical-align: top;\n",
       "    }\n",
       "\n",
       "    .dataframe thead th {\n",
       "        text-align: right;\n",
       "    }\n",
       "</style>\n",
       "<table border=\"1\" class=\"dataframe\">\n",
       "  <thead>\n",
       "    <tr style=\"text-align: right;\">\n",
       "      <th></th>\n",
       "      <th>date</th>\n",
       "      <th>group</th>\n",
       "      <th>visitors</th>\n",
       "    </tr>\n",
       "  </thead>\n",
       "  <tbody>\n",
       "    <tr>\n",
       "      <th>0</th>\n",
       "      <td>2019-08-01</td>\n",
       "      <td>A</td>\n",
       "      <td>719</td>\n",
       "    </tr>\n",
       "    <tr>\n",
       "      <th>1</th>\n",
       "      <td>2019-08-02</td>\n",
       "      <td>A</td>\n",
       "      <td>619</td>\n",
       "    </tr>\n",
       "    <tr>\n",
       "      <th>2</th>\n",
       "      <td>2019-08-03</td>\n",
       "      <td>A</td>\n",
       "      <td>507</td>\n",
       "    </tr>\n",
       "    <tr>\n",
       "      <th>3</th>\n",
       "      <td>2019-08-04</td>\n",
       "      <td>A</td>\n",
       "      <td>717</td>\n",
       "    </tr>\n",
       "    <tr>\n",
       "      <th>4</th>\n",
       "      <td>2019-08-05</td>\n",
       "      <td>A</td>\n",
       "      <td>756</td>\n",
       "    </tr>\n",
       "  </tbody>\n",
       "</table>\n",
       "</div>"
      ],
      "text/plain": [
       "        date group  visitors\n",
       "0 2019-08-01     A       719\n",
       "1 2019-08-02     A       619\n",
       "2 2019-08-03     A       507\n",
       "3 2019-08-04     A       717\n",
       "4 2019-08-05     A       756"
      ]
     },
     "execution_count": 10,
     "metadata": {},
     "output_type": "execute_result"
    }
   ],
   "source": [
    "visitors.head(5)"
   ]
  },
  {
   "cell_type": "code",
   "execution_count": 11,
   "metadata": {},
   "outputs": [
    {
     "data": {
      "text/html": [
       "<div>\n",
       "<style scoped>\n",
       "    .dataframe tbody tr th:only-of-type {\n",
       "        vertical-align: middle;\n",
       "    }\n",
       "\n",
       "    .dataframe tbody tr th {\n",
       "        vertical-align: top;\n",
       "    }\n",
       "\n",
       "    .dataframe thead th {\n",
       "        text-align: right;\n",
       "    }\n",
       "</style>\n",
       "<table border=\"1\" class=\"dataframe\">\n",
       "  <thead>\n",
       "    <tr style=\"text-align: right;\">\n",
       "      <th></th>\n",
       "      <th>transactionId</th>\n",
       "      <th>visitorId</th>\n",
       "      <th>date</th>\n",
       "      <th>revenue</th>\n",
       "      <th>group</th>\n",
       "    </tr>\n",
       "  </thead>\n",
       "  <tbody>\n",
       "    <tr>\n",
       "      <th>0</th>\n",
       "      <td>3667963787</td>\n",
       "      <td>3312258926</td>\n",
       "      <td>2019-08-15</td>\n",
       "      <td>1650</td>\n",
       "      <td>B</td>\n",
       "    </tr>\n",
       "    <tr>\n",
       "      <th>1</th>\n",
       "      <td>2804400009</td>\n",
       "      <td>3642806036</td>\n",
       "      <td>2019-08-15</td>\n",
       "      <td>730</td>\n",
       "      <td>B</td>\n",
       "    </tr>\n",
       "    <tr>\n",
       "      <th>2</th>\n",
       "      <td>2961555356</td>\n",
       "      <td>4069496402</td>\n",
       "      <td>2019-08-15</td>\n",
       "      <td>400</td>\n",
       "      <td>A</td>\n",
       "    </tr>\n",
       "    <tr>\n",
       "      <th>3</th>\n",
       "      <td>3797467345</td>\n",
       "      <td>1196621759</td>\n",
       "      <td>2019-08-15</td>\n",
       "      <td>9759</td>\n",
       "      <td>B</td>\n",
       "    </tr>\n",
       "    <tr>\n",
       "      <th>4</th>\n",
       "      <td>2282983706</td>\n",
       "      <td>2322279887</td>\n",
       "      <td>2019-08-15</td>\n",
       "      <td>2308</td>\n",
       "      <td>B</td>\n",
       "    </tr>\n",
       "  </tbody>\n",
       "</table>\n",
       "</div>"
      ],
      "text/plain": [
       "   transactionId   visitorId       date  revenue group\n",
       "0     3667963787  3312258926 2019-08-15     1650     B\n",
       "1     2804400009  3642806036 2019-08-15      730     B\n",
       "2     2961555356  4069496402 2019-08-15      400     A\n",
       "3     3797467345  1196621759 2019-08-15     9759     B\n",
       "4     2282983706  2322279887 2019-08-15     2308     B"
      ]
     },
     "execution_count": 11,
     "metadata": {},
     "output_type": "execute_result"
    }
   ],
   "source": [
    "orders.head(5)"
   ]
  },
  {
   "cell_type": "code",
   "execution_count": 14,
   "metadata": {},
   "outputs": [
    {
     "name": "stdout",
     "output_type": "stream",
     "text": [
      "        date group  orders  buyers  revenue  visitors\n",
      "0 2019-08-01     A      24      20   148579       719\n",
      "1 2019-08-01     B      21      20   101217       713\n",
      "2 2019-08-02     A      44      38   242401      1338\n",
      "3 2019-08-02     B      45      43   266748      1294\n",
      "4 2019-08-03     A      68      62   354874      1845\n"
     ]
    }
   ],
   "source": [
    "dates_grps = orders[['date','group']].drop_duplicates()\n",
    "\n",
    "orders_agg = dates_grps.apply(\n",
    "    lambda x: orders[np.logical_and(orders['date'] <= x['date'], orders['group'] == x['group'])]\n",
    "    .agg({'date':'max', 'group':'max', 'transactionId':'nunique', 'visitorId':'nunique', 'revenue':'sum'}), axis=1\n",
    ").sort_values(by=['date', 'group'])\n",
    "\n",
    "visitors_agg = dates_grps.apply(\n",
    "    lambda x: visitors[np.logical_and(visitors['date'] <= x['date'], visitors['group'] == x['group'])]\n",
    "    .agg({'date':'max', 'group':'max', 'visitors':'sum'}), axis=1\n",
    ").sort_values(by=['date','group'])\n",
    "\n",
    "cumulative_data = orders_agg.merge(visitors_agg, left_on=['date', 'group'], right_on=['date', 'group'])\n",
    "cumulative_data.columns = ['date', 'group', 'orders', 'buyers', 'revenue', 'visitors']\n",
    "print(cumulative_data.head(5))"
   ]
  },
  {
   "cell_type": "code",
   "execution_count": 16,
   "metadata": {},
   "outputs": [
    {
     "data": {
      "image/png": "[encoded data removed]",
      "text/plain": [
       "<Figure size 432x288 with 1 Axes>"
      ]
     },
     "metadata": {
      "needs_background": "light"
     },
     "output_type": "display_data"
    }
   ],
   "source": [
    "def plot_cumulative_revenue(cumulative_data, group_label):\n",
    "    data = cumulative_data[cumulative_data['group'] == group_label][['date', 'revenue', 'orders']]\n",
    "    plt.plot(data['date'], data['revenue'], label=group_label)\n",
    "\n",
    "# Построение графика для каждой группы\n",
    "plot_cumulative_revenue(cumulative_data, 'A')\n",
    "plot_cumulative_revenue(cumulative_data, 'B')\n",
    "\n",
    "# Настройка параметров графика\n",
    "plt.title('График кумулятивной выручки по дням и группам')\n",
    "plt.xlabel('Дата')\n",
    "plt.ylabel('Выручка, тыс.руб')\n",
    "plt.xticks(rotation=45)\n",
    "plt.legend()\n",
    "plt.tight_layout()\n",
    "plt.show()\n"
   ]
  },
  {
   "cell_type": "markdown",
   "metadata": {},
   "source": [
    "В первой половине выручка группы B немного больше, но второй половине видим скачок 17 числа. Из предположений это анамалии, либо прирост конверсии. Выручка группы А сохраняет плавный(ровномерный) рост"
   ]
  },
  {
   "cell_type": "markdown",
   "metadata": {},
   "source": [
    "### Постройте график кумулятивного среднего чека по группам. Сделайте выводы и предположения."
   ]
  },
  {
   "cell_type": "code",
   "execution_count": 22,
   "metadata": {},
   "outputs": [
    {
     "data": {
      "image/png": "[encoded data removed]",
      "text/plain": [
       "<Figure size 432x288 with 1 Axes>"
      ]
     },
     "metadata": {
      "needs_background": "light"
     },
     "output_type": "display_data"
    }
   ],
   "source": [
    "def plot_average_check(cumulative_data, group_label):\n",
    "    group_data = cumulative_data[cumulative_data['group'] == group_label]\n",
    "    average_check = group_data['revenue'] / group_data['orders']\n",
    "    plt.plot(group_data['date'], average_check, label=group_label)\n",
    "\n",
    "plot_average_check(cumulative_data, 'A')\n",
    "plot_average_check(cumulative_data, 'B')\n",
    "\n",
    "\n",
    "plt.title('График кумулятивного среднего чека по дням и группам')\n",
    "plt.xlabel('Дата')\n",
    "plt.ylabel('Сумма среднего чека')\n",
    "plt.xticks(rotation=45)\n",
    "plt.legend()\n",
    "plt.tight_layout()  # Для лучшего отображения при малом пространстве\n",
    "plt.show()"
   ]
  },
  {
   "cell_type": "markdown",
   "metadata": {},
   "source": [
    "Перепады группы А выглядят естесствено, нежели еще более резкий скачок группы B"
   ]
  },
  {
   "cell_type": "markdown",
   "metadata": {},
   "source": [
    "### Постройте график относительного изменения кумулятивного среднего чека группы B к группе A. Сделайте выводы и предположения."
   ]
  },
  {
   "cell_type": "code",
   "execution_count": 24,
   "metadata": {},
   "outputs": [
    {
     "data": {
      "image/png": "[encoded data removed]",
      "text/plain": [
       "<Figure size 432x288 with 1 Axes>"
      ]
     },
     "metadata": {
      "needs_background": "light"
     },
     "output_type": "display_data"
    }
   ],
   "source": [
    "cumulative_revenue_a = cumulative_data[cumulative_data['group']=='A'][['date','revenue', 'orders']]\n",
    "cumulative_revenue_b = cumulative_data[cumulative_data['group']=='B'][['date','revenue', 'orders']]\n",
    "def plot_relative_change(cumulative_revenue_a, cumulative_revenue_b):\n",
    "    merged_data = cumulative_revenue_a.merge(\n",
    "        cumulative_revenue_b, left_on='date', right_on='date', how='left', suffixes=['_a', '_b'])\n",
    "    \n",
    "   \n",
    "    relative_change = (merged_data['revenue_b'] / merged_data['orders_b']) / \\\n",
    "                      (merged_data['revenue_a'] / merged_data['orders_a']) - 1\n",
    "    \n",
    "    \n",
    "    plt.plot(merged_data['date'], relative_change)\n",
    "    plt.axhline(y=0, color='black', linestyle='--')\n",
    "    plt.title('График относительного изменения кумулятивного среднего чека группы B к группе A')\n",
    "    plt.xlabel('Дата')\n",
    "    plt.ylabel('Коэффициент изменения')\n",
    "    plt.xticks(rotation=45)\n",
    "    plt.tight_layout()\n",
    "    plt.show()\n",
    "\n",
    "plot_relative_change(cumulative_revenue_a, cumulative_revenue_b)"
   ]
  },
  {
   "cell_type": "markdown",
   "metadata": {},
   "source": [
    "Изменение нестабильно и очень резкие перепады"
   ]
  },
  {
   "cell_type": "markdown",
   "metadata": {},
   "source": [
    "### Постройте график кумулятивного среднего количества заказов на посетителя по группам. Сделайте выводы и предположения."
   ]
  },
  {
   "cell_type": "code",
   "execution_count": 27,
   "metadata": {},
   "outputs": [
    {
     "data": {
      "image/png": "[encoded data removed]",
      "text/plain": [
       "<Figure size 432x288 with 1 Axes>"
      ]
     },
     "metadata": {
      "needs_background": "light"
     },
     "output_type": "display_data"
    }
   ],
   "source": [
    "def plot_conversion_by_group(cumulative_data, group_label):\n",
    "    group_data = cumulative_data[cumulative_data['group'] == group_label].copy()\n",
    "    group_data.loc[:, 'conversion'] = group_data['orders'] / group_data['visitors']\n",
    "    plt.plot(group_data['date'], group_data['conversion'], label=group_label)\n",
    "\n",
    "plot_conversion_by_group(cumulative_data, 'A')\n",
    "plot_conversion_by_group(cumulative_data, 'B')\n",
    "\n",
    "plt.title('График кумулятивного среднего количества заказов на посетителя по группам')\n",
    "plt.xlabel('Дата')\n",
    "plt.ylabel('Конверсия')\n",
    "plt.xticks(rotation=45)\n",
    "plt.legend()\n",
    "plt.tight_layout()\n",
    "plt.show()"
   ]
  },
  {
   "cell_type": "markdown",
   "metadata": {},
   "source": [
    "В начале исследования группа A демонстрирует более высокие значения. В начальный период наблюдается волатильность в обеих группах, когда показатели колеблются вверх и вниз. После этого периода, показатели группы A идут на спад, в то время как группа B показывает тенденцию к увеличению количества заказов."
   ]
  },
  {
   "cell_type": "markdown",
   "metadata": {},
   "source": [
    "### Постройте график относительного изменения кумулятивного среднего количества заказов на посетителя группы B к группе A. Сделайте выводы и предположения. Постройте точечный график количества заказов по пользователям. Сделайте выводы и предположения."
   ]
  },
  {
   "cell_type": "code",
   "execution_count": 35,
   "metadata": {},
   "outputs": [],
   "source": [
    "cumulative_data['conversion'] = cumulative_data['orders'] / cumulative_data['visitors']"
   ]
  },
  {
   "cell_type": "code",
   "execution_count": 40,
   "metadata": {},
   "outputs": [
    {
     "name": "stderr",
     "output_type": "stream",
     "text": [
      "/tmp/ipykernel_94/1740782206.py:1: SettingWithCopyWarning: \n",
      "A value is trying to be set on a copy of a slice from a DataFrame.\n",
      "Try using .loc[row_indexer,col_indexer] = value instead\n",
      "\n",
      "See the caveats in the documentation: https://pandas.pydata.org/pandas-docs/stable/user_guide/indexing.html#returning-a-view-versus-a-copy\n",
      "  cumulative_data_a['conversion'] = cumulative_data_a['orders'] / cumulative_data_a['visitors']\n",
      "/tmp/ipykernel_94/1740782206.py:2: SettingWithCopyWarning: \n",
      "A value is trying to be set on a copy of a slice from a DataFrame.\n",
      "Try using .loc[row_indexer,col_indexer] = value instead\n",
      "\n",
      "See the caveats in the documentation: https://pandas.pydata.org/pandas-docs/stable/user_guide/indexing.html#returning-a-view-versus-a-copy\n",
      "  cumulative_data_b['conversion'] = cumulative_data_b['orders'] / cumulative_data_b['visitors']\n"
     ]
    }
   ],
   "source": [
    "cumulative_data_a['conversion'] = cumulative_data_a['orders'] / cumulative_data_a['visitors']\n",
    "cumulative_data_b['conversion'] = cumulative_data_b['orders'] / cumulative_data_b['visitors']"
   ]
  },
  {
   "cell_type": "code",
   "execution_count": 41,
   "metadata": {},
   "outputs": [
    {
     "data": {
      "image/png": "[encoded data removed]",
      "text/plain": [
       "<Figure size 432x288 with 1 Axes>"
      ]
     },
     "metadata": {
      "needs_background": "light"
     },
     "output_type": "display_data"
    }
   ],
   "source": [
    "merged_cumulative_conversions = cumulative_data_a[['date', 'conversion']].merge(\n",
    "    cumulative_data_b[['date', 'conversion']],\n",
    "    on='date',\n",
    "    how='left',\n",
    "    suffixes=['_a', '_b']\n",
    ")\n",
    "\n",
    "# Построение графика относительного изменения кумулятивной конверсии\n",
    "plt.plot(\n",
    "    merged_cumulative_conversions['date'],\n",
    "    merged_cumulative_conversions['conversion_b'] /\n",
    "    merged_cumulative_conversions['conversion_a'] - 1\n",
    ")\n",
    "\n",
    "# Горизонтальные линии для визуальной ориентации\n",
    "plt.axhline(y=0, color='black', linestyle='--')\n",
    "plt.axhline(y=0.15, color='grey', linestyle='--')\n",
    "\n",
    "# Настройка заголовка и осей графика\n",
    "plt.title('Относительное изменение кумулятивной конверсии группы B к A')\n",
    "plt.xlabel('Дата')\n",
    "plt.ylabel('Отношение изменения')\n",
    "\n",
    "# Установка пределов для осей\n",
    "plt.axis([\n",
    "    pd.to_datetime('2019-08-01'),\n",
    "    pd.to_datetime('2019-09-01'),\n",
    "    -0.2, 0.5\n",
    "])\n",
    "\n",
    "# Поворот меток на оси X для лучшей читаемости\n",
    "plt.xticks(rotation=45)\n",
    "\n",
    "# Отображение графика\n",
    "plt.show()"
   ]
  },
  {
   "cell_type": "markdown",
   "metadata": {},
   "source": [
    "Относительный показатель изменения среднего числа заказов достигает устойчивости во второй части испытания, демонстрируя результаты, превосходящие показатели группы А."
   ]
  },
  {
   "cell_type": "code",
   "execution_count": 43,
   "metadata": {},
   "outputs": [
    {
     "data": {
      "image/png": "[encoded data removed]",
      "text/plain": [
       "<Figure size 432x288 with 1 Axes>"
      ]
     },
     "metadata": {
      "needs_background": "light"
     },
     "output_type": "display_data"
    }
   ],
   "source": [
    "orders_by_users = orders.groupby('visitorId', as_index=False).agg({'transactionId': 'nunique'})\n",
    "orders_by_users.columns = ['user_id', 'orders']\n",
    "x_values_orders = pd.Series(range(0,len(orders_by_users)))\n",
    "plt.scatter(x_values_orders, orders_by_users['orders'])\n",
    "plt.title('Точечный график количества заказов по пользователям')\n",
    "plt.xlabel('Индекс пользователя')\n",
    "plt.ylabel('Количество заказов');"
   ]
  },
  {
   "cell_type": "markdown",
   "metadata": {},
   "source": [
    "На одного пользователя приходится более двух заказов, что является нечастым явлением."
   ]
  },
  {
   "cell_type": "markdown",
   "metadata": {},
   "source": [
    "### Посчитайте 95-й и 99-й перцентили количества заказов на пользователя. Выберите границу для определения аномальных пользователей."
   ]
  },
  {
   "cell_type": "code",
   "execution_count": 44,
   "metadata": {},
   "outputs": [
    {
     "name": "stdout",
     "output_type": "stream",
     "text": [
      "[2. 4.]\n"
     ]
    }
   ],
   "source": [
    "print(np.percentile(orders_by_users['orders'], [95, 99])) "
   ]
  },
  {
   "cell_type": "markdown",
   "metadata": {},
   "source": [
    "Данные, соответствующие 95-му перцентилю, подтверждают гипотезу: всего 5% пользователей сделали более двух заказов."
   ]
  },
  {
   "cell_type": "markdown",
   "metadata": {},
   "source": [
    "### Постройте точечный график стоимостей заказов. Сделайте выводы и предположения."
   ]
  },
  {
   "cell_type": "code",
   "execution_count": 45,
   "metadata": {},
   "outputs": [
    {
     "data": {
      "image/png": "[encoded data removed]",
      "text/plain": [
       "<Figure size 432x288 with 1 Axes>"
      ]
     },
     "metadata": {
      "needs_background": "light"
     },
     "output_type": "display_data"
    }
   ],
   "source": [
    "x_values_revenue = pd.Series(range(len(orders['revenue'])))\n",
    "\n",
    "# Строим точечный график, где каждая точка представляет стоимость заказа\n",
    "plt.scatter(x_values_revenue, orders['revenue'])\n",
    "\n",
    "# Задаем название графика и подписи осей\n",
    "plt.title('Распределение стоимости заказов')\n",
    "plt.xlabel('Порядковый номер заказа')\n",
    "plt.ylabel('Стоимость заказа (млн)')\n",
    "plt.show()"
   ]
  },
  {
   "cell_type": "markdown",
   "metadata": {},
   "source": [
    "### Посчитайте 95-й и 99-й перцентили стоимости заказов. Выберите границу для определения аномальных заказов."
   ]
  },
  {
   "cell_type": "code",
   "execution_count": 47,
   "metadata": {},
   "outputs": [
    {
     "name": "stdout",
     "output_type": "stream",
     "text": [
      "count               1197.0\n",
      "mean     8348.005847953216\n",
      "std      39191.13177395123\n",
      "min                   50.0\n",
      "25%                 1220.0\n",
      "50%                 2978.0\n",
      "75%                 8290.0\n",
      "max              1294500.0\n",
      "Name: revenue, dtype: object\n"
     ]
    }
   ],
   "source": [
    "revenue_stats = orders['revenue'].describe().astype(str)\n",
    "print(revenue_stats)"
   ]
  },
  {
   "cell_type": "markdown",
   "metadata": {},
   "source": [
    "Анализ данных выявляет аномально высокую стоимость одного из заказов, почти в 1.3 миллиона, что резко контрастирует с медианным значением заказа в 3 тысячи. Это указывает на возможное наличие выбросов в данных."
   ]
  },
  {
   "cell_type": "markdown",
   "metadata": {},
   "source": [
    "### Посчитайте 95-й и 99-й перцентили стоимости заказов. Выберите границу для определения аномальных заказов."
   ]
  },
  {
   "cell_type": "code",
   "execution_count": 48,
   "metadata": {},
   "outputs": [
    {
     "name": "stdout",
     "output_type": "stream",
     "text": [
      "[28000.  58233.2]\n"
     ]
    }
   ],
   "source": [
    "print(np.percentile(orders['revenue'], [95, 99]))"
   ]
  },
  {
   "cell_type": "markdown",
   "metadata": {},
   "source": [
    "Менее пяти процентов заказов имеют стоимость свыше 28 тысяч, а менее одного процента заказов стоят более 58.2 тысяч."
   ]
  },
  {
   "cell_type": "markdown",
   "metadata": {},
   "source": [
    "###  Посчитайте статистическую значимость различий в среднем количестве заказов на посетителя между группами по «сырым» данным."
   ]
  },
  {
   "cell_type": "markdown",
   "metadata": {},
   "source": [
    "Нулевая гипотеза (Н0): Среднее количество заказов одинаково для всех групп.\n",
    "\n",
    "Альтернативная гипотеза (Н1): Существуют отличия в среднем количестве заказов между группами.\n",
    "\n",
    "Уровень значимости: α=0.05"
   ]
  },
  {
   "cell_type": "code",
   "execution_count": 51,
   "metadata": {},
   "outputs": [
    {
     "name": "stdout",
     "output_type": "stream",
     "text": [
      "        date  orders_per_date_a  revenue_per_date_a  orders_per_date_b  \\\n",
      "0 2019-08-01                 24              148579                 21   \n",
      "1 2019-08-02                 20               93822                 24   \n",
      "2 2019-08-03                 24              112473                 16   \n",
      "3 2019-08-04                 16               70825                 17   \n",
      "4 2019-08-05                 25              124218                 23   \n",
      "\n",
      "   revenue_per_date_b  orders_cummulative_a_x  revenue_cummulative_a_x  \\\n",
      "0              101217                      24                   148579   \n",
      "1              165531                      44                   242401   \n",
      "2              114248                      68                   354874   \n",
      "3              108571                      84                   425699   \n",
      "4               92428                     109                   549917   \n",
      "\n",
      "   orders_cummulative_b_x  revenue_cummulative_b_x  visitors_per_date_a  \\\n",
      "0                      21                   101217                  719   \n",
      "1                      45                   266748                  619   \n",
      "2                      61                   380996                  507   \n",
      "3                      78                   489567                  717   \n",
      "4                     101                   581995                  756   \n",
      "\n",
      "   visitors_per_date_b  orders_cummulative_a_y  revenue_cummulative_a_y  \\\n",
      "0                  713                      24                   148579   \n",
      "1                  581                      44                   242401   \n",
      "2                  509                      68                   354874   \n",
      "3                  770                      84                   425699   \n",
      "4                  707                     109                   549917   \n",
      "\n",
      "   orders_cummulative_b_y  revenue_cummulative_b_y  \n",
      "0                      21                   101217  \n",
      "1                      45                   266748  \n",
      "2                      61                   380996  \n",
      "3                      78                   489567  \n",
      "4                     101                   581995  \n"
     ]
    }
   ],
   "source": [
    "visitors_a_daily = visitors[visitors['group'] == 'A'][['date', 'visitors']]\n",
    "visitors_a_daily.columns = ['date', 'visitors_per_date_a']\n",
    "\n",
    "visitors_a_cummulative = visitors_a_daily.apply(\n",
    "    lambda x: visitors_a_daily[visitors_a_daily['date'] <= x['date']]\n",
    "    .agg({'date': 'max', 'visitors_per_date_a':'sum'}), axis=1)\n",
    "visitors_a_cummulative.columns = ['date', 'visitors_cummulative_a']\n",
    "\n",
    "visitors_b_daily = visitors[visitors['group'] == 'B'][['date', 'visitors']]\n",
    "visitors_b_daily.columns = ['date', 'visitors_per_date_b']\n",
    "\n",
    "visitors_b_cummulative = visitors_b_daily.apply(\n",
    "    lambda x: visitors_b_daily[visitors_b_daily['date'] <= x['date']]\n",
    "    .agg({'date':'max', 'visitors_per_date_b':'sum'}), axis=1)\n",
    "visitors_b_cummulative.columns = ['date', 'visitors_cummulative_b']\n",
    "\n",
    "orders_a_daily = (orders[orders['group'] == 'A'][['date', 'transactionId', 'visitorId', 'revenue']]\n",
    "    .groupby('date', as_index=False)\n",
    "    .agg({'transactionId': pd.Series.nunique, 'revenue':'sum'}))\n",
    "orders_a_daily.columns = ['date', 'orders_per_date_a', 'revenue_per_date_a']\n",
    "\n",
    "orders_a_cummulative = orders_a_daily.apply(\n",
    "    lambda x: orders_a_daily[orders_a_daily['date'] <= x['date']]\n",
    "    .agg({'date':'max', 'orders_per_date_a':'sum', 'revenue_per_date_a':'sum'}), axis=1,\n",
    ").sort_values(by=['date'])\n",
    "orders_a_cummulative.columns = ['date', 'orders_cummulative_a', 'revenue_cummulative_a']\n",
    "\n",
    "orders_b_daily = (orders[orders['group'] == 'B'][['date', 'transactionId', 'visitorId', 'revenue']]\n",
    "    .groupby('date', as_index=False)\n",
    "    .agg({'transactionId': pd.Series.nunique, 'revenue':'sum'}))\n",
    "orders_b_daily.columns = ['date', 'orders_per_date_b', 'revenue_per_date_b']\n",
    "\n",
    "orders_b_cummulative = orders_b_daily.apply(\n",
    "    lambda x: orders_b_daily[orders_b_daily['date'] <= x['date']]\n",
    "    .agg({'date':'max', 'orders_per_date_b':'sum', 'revenue_per_date_b':'sum'}), axis=1,\n",
    ").sort_values(by=['date'])\n",
    "orders_b_cummulative.columns = ['date', 'orders_cummulative_b', 'revenue_cummulative_b',]\n",
    "\n",
    "data = (orders_a_daily\n",
    "    .merge(orders_b_daily, left_on='date', right_on='date', how='left')\n",
    "    .merge(orders_a_cummulative, left_on='date', right_on='date', how='left')\n",
    "    .merge(orders_b_cummulative, left_on='date', right_on='date', how='left')\n",
    "    .merge(visitors_a_daily, left_on='date', right_on='date', how='left')\n",
    "    .merge(visitors_b_daily, left_on='date', right_on='date', how='left')\n",
    "    .merge(orders_a_cummulative, left_on='date', right_on='date', how='left')\n",
    "    .merge(orders_b_cummulative, left_on='date', right_on='date', how='left'))\n",
    "\n",
    "print(data.head(5))"
   ]
  },
  {
   "cell_type": "code",
   "execution_count": 52,
   "metadata": {},
   "outputs": [],
   "source": [
    "orders_by_users_a = (orders[orders['group'] == 'A']\n",
    "    .groupby('visitorId', as_index=False)\n",
    "    .agg({'transactionId': pd.Series.nunique}))\n",
    "orders_by_users_a.columns = ['visitor_id', 'orders']\n",
    "\n",
    "orders_by_users_b = (orders[orders['group'] == 'B']\n",
    "    .groupby('visitorId', as_index=False)\n",
    "    .agg({'transactionId': pd.Series.nunique}))\n",
    "orders_by_users_b.columns = ['visitor_id', 'orders']\n",
    "\n",
    "sample_a = pd.concat([orders_by_users_a['orders'], pd.Series(0, index=np.arange(\n",
    "                data['visitors_per_date_a'].sum() - len(orders_by_users_a['orders'])), name='orders')], axis=0)\n",
    "\n",
    "sample_b = pd.concat([orders_by_users_b['orders'], pd.Series(0, index=np.arange(\n",
    "                data['visitors_per_date_b'].sum() - len(orders_by_users_b['orders'])), name='orders')], axis=0)"
   ]
  },
  {
   "cell_type": "code",
   "execution_count": 53,
   "metadata": {},
   "outputs": [
    {
     "name": "stdout",
     "output_type": "stream",
     "text": [
      "p-value: 0.017\n",
      "Изменение группы B к А: 13.8%\n"
     ]
    }
   ],
   "source": [
    "p_value = stats.mannwhitneyu(sample_a, sample_b).pvalue\n",
    "print(f\"p-value: {p_value:.3f}\")\n",
    "\n",
    "# Рассчитываем процентное изменение среднего значения группы B по сравнению с группой A\n",
    "percentage_change = ((sample_b.mean() / sample_a.mean()) - 1) * 100\n",
    "print(f\"Изменение группы B к А: {percentage_change:.1f}%\")"
   ]
  },
  {
   "cell_type": "markdown",
   "metadata": {},
   "source": [
    "P-значение меньше заданного уровня значимости, что приводит к отклонению нулевой гипотезы об идентичности среднего количества заказов в обеих группах. В то же время, объем заказов в группе B на 13,8% выше, чем в группе A."
   ]
  },
  {
   "cell_type": "markdown",
   "metadata": {},
   "source": [
    "### Посчитайте статистическую значимость различий в среднем чеке заказа между группами по «сырым» данным. Сделайте выводы и предположения"
   ]
  },
  {
   "cell_type": "markdown",
   "metadata": {},
   "source": [
    "Н0: Средний чек по заказам в обеих группах одинаков.\n",
    "\n",
    "Н1: Существует разница в среднем чеке между группами.\n",
    "\n",
    "Установленный уровень значимости: α=0.05"
   ]
  },
  {
   "cell_type": "code",
   "execution_count": 54,
   "metadata": {},
   "outputs": [
    {
     "name": "stdout",
     "output_type": "stream",
     "text": [
      "p-value: 0.729\n",
      "Изменение группы B к А: 25.9%\n"
     ]
    }
   ],
   "source": [
    "orders_a = orders[orders['group'] == 'A']['revenue']\n",
    "orders_b = orders[orders['group'] == 'B']['revenue']\n",
    "\n",
    "# Вычисляем p-value для теста Манна-Уитни между двумя группами\n",
    "p_value = stats.mannwhitneyu(orders_a, orders_b).pvalue\n",
    "print(f\"p-value: {p_value:.3f}\")\n",
    "\n",
    "# Рассчитываем процентное изменение среднего дохода группы B по сравнению с группой A\n",
    "percentage_change = (orders_b.mean() / orders_a.mean() - 1) * 100\n",
    "print(f\"Изменение группы B к А: {percentage_change:.1f}%\")"
   ]
  },
  {
   "cell_type": "markdown",
   "metadata": {},
   "source": [
    "Значение P-value значительно превышает установленный порог статистической значимости, что позволяет нам принять нулевую гипотезу о том, что различий в среднем чеке между группами нет. Тем не менее, анализ необработанных данных указывает на то, что средний чек группы B выше на 25,9% по сравнению с группой A."
   ]
  },
  {
   "cell_type": "markdown",
   "metadata": {},
   "source": [
    "### Посчитайте статистическую значимость различий в среднем количестве заказов на посетителя между группами по «очищенным» данным. Сделайте выводы и предположения."
   ]
  },
  {
   "cell_type": "markdown",
   "metadata": {},
   "source": [
    "Н0: Нет статистически значимого различия в среднем количестве заказов между группами.\n",
    "\n",
    "Н1: Имеется статистически значимое различие в среднем количестве заказов между группами.\n",
    "\n",
    "Уровень значимости установлен на отметке: α=0.05\n",
    "\n",
    "Для очистки данных необходимо исключить выбросы, опираясь на ранее определённые 95-й и 99-й перцентили. В этом контексте следует отфильтровать пользователей с аномально высокими показателями: тех, кто входит в 5% с наибольшим количеством заказов, и тех, чьи заказы превышают 35 тысяч — от 1% до 5% таких пользователей."
   ]
  },
  {
   "cell_type": "code",
   "execution_count": 57,
   "metadata": {},
   "outputs": [
    {
     "name": "stdout",
     "output_type": "stream",
     "text": [
      "Список аномальных пользователей:\n",
      "1099    148427295\n",
      "18      199603092\n",
      "23      237748145\n",
      "37      249864742\n",
      "684     358944393\n",
      "dtype: int64\n",
      "\n",
      "Количество аномальных пользователей: 53\n"
     ]
    }
   ],
   "source": [
    "users_with_many_orders = pd.concat([\n",
    "    orders_by_users_a[orders_by_users_a['orders'] > 2]['visitor_id'],\n",
    "    orders_by_users_b[orders_by_users_b['orders'] > 2]['visitor_id']\n",
    "], axis=0)\n",
    "\n",
    "# Выбираем пользователей с заказами дороже 35000\n",
    "users_with_expensive_orders = orders[orders['revenue'] > 35000]['visitorId']\n",
    "\n",
    "# Объединяем списки аномальных пользователей и удаляем дубликаты\n",
    "abnormal_users = pd.concat([\n",
    "    users_with_many_orders, \n",
    "    users_with_expensive_orders\n",
    "], axis=0).drop_duplicates().sort_values()\n",
    "\n",
    "# Выводим список аномальных пользователей\n",
    "print('Список аномальных пользователей:')\n",
    "print(abnormal_users.head(5))\n",
    "print()\n",
    "\n",
    "# Выводим количество аномальных пользователей\n",
    "print('Количество аномальных пользователей:', abnormal_users.shape[0])"
   ]
  },
  {
   "cell_type": "code",
   "execution_count": 62,
   "metadata": {},
   "outputs": [
    {
     "name": "stdout",
     "output_type": "stream",
     "text": [
      "p-value: 0.010\n",
      "Изменение группы B к А: 17.9%\n"
     ]
    }
   ],
   "source": [
    "filtered_sample_a = pd.concat([\n",
    "    orders_by_users_a[~orders_by_users_a['visitor_id'].isin(abnormal_users)]['orders'],\n",
    "    pd.Series(0, index=np.arange(data['visitors_per_date_a'].sum() - orders_by_users_a['orders'].shape[0]), name='orders')\n",
    "], axis=0)\n",
    "\n",
    "# Создаем фильтрованную выборку для группы B\n",
    "filtered_sample_b = pd.concat([\n",
    "    orders_by_users_b[~orders_by_users_b['visitor_id'].isin(abnormal_users)]['orders'],\n",
    "    pd.Series(0, index=np.arange(data['visitors_per_date_b'].sum() - orders_by_users_b['orders'].shape[0]), name='orders')\n",
    "], axis=0)\n",
    "\n",
    "# Вычисляем p-value теста Манна-Уитни\n",
    "mannwhitney_p_value = stats.mannwhitneyu(filtered_sample_a, filtered_sample_b)[1]\n",
    "print(f\"p-value: {mannwhitney_p_value:.3f}\")\n",
    "\n",
    "# Вычисляем относительное изменение среднего количества заказов между группами\n",
    "relative_difference = (filtered_sample_b.mean() / filtered_sample_a.mean() - 1) * 100\n",
    "print(f\"Изменение группы B к А: {relative_difference:.1f}%\")"
   ]
  },
  {
   "cell_type": "markdown",
   "metadata": {},
   "source": [
    "Так же, как и при анализе необработанных данных, нулевая гипотеза была отклонена. Показатель изменения среднего числа заказов в фильтрованных данных немного больше и достигает 17,9%."
   ]
  },
  {
   "cell_type": "markdown",
   "metadata": {},
   "source": [
    "### Посчитайте статистическую значимость различий в среднем чеке заказа между группами по «очищенным» данным. Сделайте выводы и предположения."
   ]
  },
  {
   "cell_type": "markdown",
   "metadata": {},
   "source": [
    "Н0: Средний чек заказа одинаков для обеих групп.\n",
    "\n",
    "Н1: Существует разница в среднем чеке заказа между группами.\n",
    "\n",
    "Уровень значимости установлен на α = 0.05."
   ]
  },
  {
   "cell_type": "code",
   "execution_count": 63,
   "metadata": {},
   "outputs": [
    {
     "name": "stdout",
     "output_type": "stream",
     "text": [
      "p-value: 0.885\n",
      "Изменение группы B к А: 2.2%\n"
     ]
    }
   ],
   "source": [
    "p_value = stats.mannwhitneyu(\n",
    "    orders[(orders['group'] == 'A') & (~orders['visitorId'].isin(abnormal_users))]['revenue'],\n",
    "    orders[(orders['group'] == 'B') & (~orders['visitorId'].isin(abnormal_users))]['revenue']\n",
    ")[1]\n",
    "print(f\"p-value: {p_value:.3f}\")\n",
    "\n",
    "# Вычисляем изменение дохода группы B по сравнению с группой A\n",
    "revenue_increase = (\n",
    "    orders[(orders['group'] == 'B') & (~orders['visitorId'].isin(abnormal_users))]['revenue'].mean() /\n",
    "    orders[(orders['group'] == 'A') & (~orders['visitorId'].isin(abnormal_users))]['revenue'].mean() - 1\n",
    ") * 100\n",
    "print(f\"Изменение группы B к А: {revenue_increase:.1f}%\")"
   ]
  },
  {
   "cell_type": "markdown",
   "metadata": {},
   "source": [
    "Исходя из значения p-value, можно сделать вывод, что нет оснований отвергать нулевую гипотезу о том, что средние чеки групп не различаются. Однако после исключения аномалий данные указывают на то, что разница в средних чеках между группами невелика и составляет 2,2%, в то время как анализ неочищенных данных показывал разницу в 25,9%."
   ]
  },
  {
   "cell_type": "markdown",
   "metadata": {},
   "source": [
    "## Примите решение по результатам теста и объясните его."
   ]
  },
  {
   "cell_type": "markdown",
   "metadata": {},
   "source": [
    "Результаты анализа демонстрируют увеличение конверсии в группе B, а также рост числа заказов при сохранении одинаковой суммы средних чеков. В свете этих данных было принято решение завершить тестирование и объявить группу B победителем."
   ]
  },
  {
   "cell_type": "markdown",
   "metadata": {},
   "source": [
    "## Вывод."
   ]
  },
  {
   "cell_type": "markdown",
   "metadata": {},
   "source": [
    "В ходе A/B тестирования было обнаружено, что 58 участников ошибочно вошли в обе тестируемые группы, и коррекция этой ошибки в собранных данных невозможна. Используя фреймворки ICE и RICE, был выполнен процесс приоритизации идей, что позволило подготовить и проверить гипотезы. Анализ кумулятивных метрик через визуализацию дал возможность наблюдать за динамикой изменений во время теста и сформировать целостное восприятие его прогресса. После выявления аномалий, которые могли повлиять на статистическую значимость, данные были очищены, что позволило сделать обоснованное решение о завершении или продолжении теста. Наблюдаемое увеличение кумулятивной выручки и числа заказов в группе B, при этом средний чек остался без изменений, указывает на успешность группы B.\n",
    "\n",
    "Несмотря на проблемы с формированием групп, результаты теста подтверждают эффективность внедряемых изменений в группе B, что может быть рассмотрено как основание для масштабирования данных изменений на более широкую аудиторию."
   ]
  }
 ],
 "metadata": {
  "ExecuteTimeLog": [
   {
    "duration": 1290,
    "start_time": "2024-06-29T13:26:43.764Z"
   },
   {
    "duration": 224,
    "start_time": "2024-06-29T13:28:16.922Z"
   },
   {
    "duration": 26,
    "start_time": "2024-06-29T13:33:48.506Z"
   },
   {
    "duration": 130,
    "start_time": "2024-06-29T13:36:07.188Z"
   },
   {
    "duration": 5,
    "start_time": "2024-06-29T13:38:12.053Z"
   },
   {
    "duration": 6,
    "start_time": "2024-06-29T13:42:26.706Z"
   },
   {
    "duration": 12,
    "start_time": "2024-06-29T13:42:38.568Z"
   },
   {
    "duration": 6,
    "start_time": "2024-06-29T13:42:48.529Z"
   },
   {
    "duration": 79,
    "start_time": "2024-06-29T13:43:02.510Z"
   },
   {
    "duration": 105,
    "start_time": "2024-06-29T13:43:06.412Z"
   },
   {
    "duration": 10,
    "start_time": "2024-06-29T13:43:15.526Z"
   },
   {
    "duration": 10,
    "start_time": "2024-06-29T13:43:20.445Z"
   },
   {
    "duration": 76,
    "start_time": "2024-06-29T13:43:29.316Z"
   },
   {
    "duration": 24,
    "start_time": "2024-06-29T13:43:29.772Z"
   },
   {
    "duration": 5,
    "start_time": "2024-06-29T13:43:30.315Z"
   },
   {
    "duration": 107,
    "start_time": "2024-06-29T13:43:30.949Z"
   },
   {
    "duration": 4,
    "start_time": "2024-06-29T13:43:32.272Z"
   },
   {
    "duration": 10,
    "start_time": "2024-06-29T13:43:32.662Z"
   },
   {
    "duration": 5,
    "start_time": "2024-06-29T13:45:06.650Z"
   },
   {
    "duration": 10,
    "start_time": "2024-06-29T13:45:19.652Z"
   },
   {
    "duration": 55,
    "start_time": "2024-06-29T13:53:16.666Z"
   },
   {
    "duration": 27,
    "start_time": "2024-06-29T13:56:49.594Z"
   },
   {
    "duration": 3,
    "start_time": "2024-06-29T13:57:29.687Z"
   },
   {
    "duration": 25,
    "start_time": "2024-06-29T13:57:32.306Z"
   },
   {
    "duration": 1091,
    "start_time": "2024-06-29T14:00:03.756Z"
   },
   {
    "duration": 79,
    "start_time": "2024-06-29T14:00:04.849Z"
   },
   {
    "duration": 25,
    "start_time": "2024-06-29T14:00:04.930Z"
   },
   {
    "duration": 7,
    "start_time": "2024-06-29T14:00:04.957Z"
   },
   {
    "duration": 132,
    "start_time": "2024-06-29T14:00:04.966Z"
   },
   {
    "duration": 6,
    "start_time": "2024-06-29T14:00:05.100Z"
   },
   {
    "duration": 51,
    "start_time": "2024-06-29T14:00:05.107Z"
   },
   {
    "duration": 64,
    "start_time": "2024-06-29T14:00:05.160Z"
   },
   {
    "duration": 15,
    "start_time": "2024-06-29T14:00:05.226Z"
   },
   {
    "duration": 8,
    "start_time": "2024-06-29T14:01:44.429Z"
   },
   {
    "duration": 9,
    "start_time": "2024-06-29T14:01:53.282Z"
   },
   {
    "duration": 115,
    "start_time": "2024-06-29T14:02:12.268Z"
   },
   {
    "duration": 25,
    "start_time": "2024-06-29T14:02:41.560Z"
   },
   {
    "duration": 279,
    "start_time": "2024-06-29T14:03:07.088Z"
   },
   {
    "duration": 53,
    "start_time": "2024-06-29T14:05:17.754Z"
   },
   {
    "duration": 396,
    "start_time": "2024-06-29T14:05:23.380Z"
   },
   {
    "duration": 9,
    "start_time": "2024-06-29T14:09:22.232Z"
   },
   {
    "duration": 318,
    "start_time": "2024-06-29T14:10:37.949Z"
   },
   {
    "duration": 307,
    "start_time": "2024-06-29T14:10:54.972Z"
   },
   {
    "duration": 42,
    "start_time": "2024-06-29T14:11:45.749Z"
   },
   {
    "duration": 10,
    "start_time": "2024-06-29T14:13:42.743Z"
   },
   {
    "duration": 325,
    "start_time": "2024-06-29T14:14:05.874Z"
   },
   {
    "duration": 402,
    "start_time": "2024-06-29T14:14:17.480Z"
   },
   {
    "duration": 397,
    "start_time": "2024-06-29T14:14:31.776Z"
   },
   {
    "duration": 344,
    "start_time": "2024-06-29T14:17:21.679Z"
   },
   {
    "duration": 338,
    "start_time": "2024-06-29T14:18:48.250Z"
   },
   {
    "duration": 425,
    "start_time": "2024-06-29T14:18:58.344Z"
   },
   {
    "duration": 11,
    "start_time": "2024-06-29T14:21:09.549Z"
   },
   {
    "duration": 14,
    "start_time": "2024-06-29T14:22:13.880Z"
   },
   {
    "duration": 13,
    "start_time": "2024-06-29T14:22:33.376Z"
   },
   {
    "duration": 13,
    "start_time": "2024-06-29T14:22:39.125Z"
   },
   {
    "duration": 14,
    "start_time": "2024-06-29T14:24:27.564Z"
   },
   {
    "duration": 11,
    "start_time": "2024-06-29T14:25:49.230Z"
   },
   {
    "duration": 4,
    "start_time": "2024-06-29T14:26:20.724Z"
   },
   {
    "duration": 13,
    "start_time": "2024-06-29T14:26:34.680Z"
   },
   {
    "duration": 10,
    "start_time": "2024-06-29T14:27:06.591Z"
   },
   {
    "duration": 4,
    "start_time": "2024-06-29T14:27:26.110Z"
   },
   {
    "duration": 13,
    "start_time": "2024-06-29T14:27:39.063Z"
   },
   {
    "duration": 4,
    "start_time": "2024-06-29T14:27:59.636Z"
   },
   {
    "duration": 262,
    "start_time": "2024-06-29T14:28:17.654Z"
   },
   {
    "duration": 13,
    "start_time": "2024-06-29T14:29:49.158Z"
   },
   {
    "duration": 131,
    "start_time": "2024-06-29T14:30:44.198Z"
   },
   {
    "duration": 4,
    "start_time": "2024-06-29T14:32:01.952Z"
   },
   {
    "duration": 142,
    "start_time": "2024-06-29T14:34:11.617Z"
   },
   {
    "duration": 2,
    "start_time": "2024-06-29T14:34:37.697Z"
   },
   {
    "duration": 8,
    "start_time": "2024-06-29T14:35:51.347Z"
   },
   {
    "duration": 4,
    "start_time": "2024-06-29T14:37:12.017Z"
   },
   {
    "duration": 124,
    "start_time": "2024-06-29T14:38:56.384Z"
   },
   {
    "duration": 110,
    "start_time": "2024-06-29T14:39:44.772Z"
   },
   {
    "duration": 222,
    "start_time": "2024-06-29T14:40:28.932Z"
   },
   {
    "duration": 141,
    "start_time": "2024-06-29T14:43:06.754Z"
   },
   {
    "duration": 26,
    "start_time": "2024-06-29T14:43:46.675Z"
   },
   {
    "duration": 9,
    "start_time": "2024-06-29T14:47:04.827Z"
   },
   {
    "duration": 858,
    "start_time": "2024-06-29T14:49:37.874Z"
   },
   {
    "duration": 879,
    "start_time": "2024-06-29T14:50:21.629Z"
   },
   {
    "duration": 9,
    "start_time": "2024-06-29T14:51:13.986Z"
   },
   {
    "duration": 29,
    "start_time": "2024-06-29T14:52:07.297Z"
   },
   {
    "duration": 873,
    "start_time": "2024-06-29T14:53:48.931Z"
   },
   {
    "duration": 835,
    "start_time": "2024-06-29T14:54:21.723Z"
   },
   {
    "duration": 830,
    "start_time": "2024-06-29T14:54:34.596Z"
   },
   {
    "duration": 30,
    "start_time": "2024-06-29T14:54:44.041Z"
   },
   {
    "duration": 13,
    "start_time": "2024-06-29T14:54:54.843Z"
   },
   {
    "duration": 55,
    "start_time": "2024-06-29T20:14:54.551Z"
   },
   {
    "duration": 1365,
    "start_time": "2024-06-29T20:15:04.471Z"
   },
   {
    "duration": 224,
    "start_time": "2024-06-29T20:15:05.839Z"
   },
   {
    "duration": 27,
    "start_time": "2024-06-29T20:15:06.065Z"
   },
   {
    "duration": 7,
    "start_time": "2024-06-29T20:15:06.095Z"
   },
   {
    "duration": 147,
    "start_time": "2024-06-29T20:15:06.104Z"
   },
   {
    "duration": 8,
    "start_time": "2024-06-29T20:15:09.305Z"
   },
   {
    "duration": 12,
    "start_time": "2024-06-29T20:15:11.653Z"
   },
   {
    "duration": 4,
    "start_time": "2024-06-29T20:15:22.055Z"
   }
  ],
  "kernelspec": {
   "display_name": "Python 3 (ipykernel)",
   "language": "python",
   "name": "python3"
  },
  "language_info": {
   "codemirror_mode": {
    "name": "ipython",
    "version": 3
   },
   "file_extension": ".py",
   "mimetype": "text/x-python",
   "name": "python",
   "nbconvert_exporter": "python",
   "pygments_lexer": "ipython3",
   "version": "3.9.18"
  },
  "toc": {
   "base_numbering": 1,
   "nav_menu": {},
   "number_sections": true,
   "sideBar": true,
   "skip_h1_title": true,
   "title_cell": "Table of Contents",
   "title_sidebar": "Contents",
   "toc_cell": false,
   "toc_position": {
    "height": "calc(100% - 180px)",
    "left": "10px",
    "top": "150px",
    "width": "426.667px"
   },
   "toc_section_display": true,
   "toc_window_display": false
  }
 },
 "nbformat": 4,
 "nbformat_minor": 2
}
